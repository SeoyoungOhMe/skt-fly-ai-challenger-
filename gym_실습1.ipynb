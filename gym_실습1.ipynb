{
  "nbformat": 4,
  "nbformat_minor": 0,
  "metadata": {
    "colab": {
      "provenance": [],
      "authorship_tag": "ABX9TyOmDgj1oBj10IsJT0fASVA3",
      "include_colab_link": true
    },
    "kernelspec": {
      "name": "python3",
      "display_name": "Python 3"
    },
    "language_info": {
      "name": "python"
    }
  },
  "cells": [
    {
      "cell_type": "markdown",
      "metadata": {
        "id": "view-in-github",
        "colab_type": "text"
      },
      "source": [
        "<a href=\"https://colab.research.google.com/github/SeoyoungOhMe/skt-fly-ai-challenger-class/blob/master/gym_%EC%8B%A4%EC%8A%B51.ipynb\" target=\"_parent\"><img src=\"https://colab.research.google.com/assets/colab-badge.svg\" alt=\"Open In Colab\"/></a>"
      ]
    },
    {
      "cell_type": "code",
      "execution_count": null,
      "metadata": {
        "colab": {
          "base_uri": "https://localhost:8080/"
        },
        "id": "gUc45KVoTfGL",
        "outputId": "eb167496-5802-42fd-bd3b-aecabc94a591"
      },
      "outputs": [
        {
          "output_type": "stream",
          "name": "stdout",
          "text": [
            "Requirement already satisfied: gym in /usr/local/lib/python3.10/dist-packages (0.25.2)\n",
            "Requirement already satisfied: numpy>=1.18.0 in /usr/local/lib/python3.10/dist-packages (from gym) (1.23.5)\n",
            "Requirement already satisfied: cloudpickle>=1.2.0 in /usr/local/lib/python3.10/dist-packages (from gym) (2.2.1)\n",
            "Requirement already satisfied: gym-notices>=0.0.4 in /usr/local/lib/python3.10/dist-packages (from gym) (0.0.8)\n"
          ]
        }
      ],
      "source": [
        "!pip install gym"
      ]
    },
    {
      "cell_type": "code",
      "source": [
        "from google.colab import drive"
      ],
      "metadata": {
        "id": "j8MdSFg3Tiki"
      },
      "execution_count": null,
      "outputs": []
    },
    {
      "cell_type": "code",
      "source": [
        "drive.mount('/content/drive')"
      ],
      "metadata": {
        "colab": {
          "base_uri": "https://localhost:8080/"
        },
        "id": "YL139YrzTjjl",
        "outputId": "b20ee440-432d-4ee5-a7f8-edbd4eaf3095"
      },
      "execution_count": null,
      "outputs": [
        {
          "output_type": "stream",
          "name": "stdout",
          "text": [
            "Drive already mounted at /content/drive; to attempt to forcibly remount, call drive.mount(\"/content/drive\", force_remount=True).\n"
          ]
        }
      ]
    },
    {
      "cell_type": "code",
      "source": [
        "!pwd"
      ],
      "metadata": {
        "colab": {
          "base_uri": "https://localhost:8080/"
        },
        "id": "O8kK2nWaTkoh",
        "outputId": "b03a48b1-611a-4281-b014-4f57be7850ef"
      },
      "execution_count": null,
      "outputs": [
        {
          "output_type": "stream",
          "name": "stdout",
          "text": [
            "/content\n"
          ]
        }
      ]
    },
    {
      "cell_type": "code",
      "source": [
        "# import gym\n",
        "# from gym import spaces\n",
        "# import numpy as np\n",
        "\n",
        "# class CustomGridworldEnv(gym.Env):\n",
        "#     def __init__(self):\n",
        "#         super(CustomGridworldEnv, self).__init__()\n",
        "\n",
        "#         self.grid_size = 4\n",
        "#         self.num_actions = 4\n",
        "#         self.num_states = self.grid_size * self.grid_size\n",
        "\n",
        "#         # Define action and observation space\n",
        "#         self.action_space = spaces.Discrete(self.num_actions)\n",
        "#         self.observation_space = spaces.Discrete(self.num_states)\n",
        "\n",
        "#         # Transition probabilities and rewards\n",
        "#         self.P = np.array([\n",
        "#             P[0],  # up\n",
        "#             P[1],  # down\n",
        "#             P[2],  # left\n",
        "#             P[3],  # right\n",
        "#         ])\n",
        "\n",
        "#         self.R = R\n",
        "\n",
        "#         # Initial state distribution (uniform random)\n",
        "#         self.initial_state = np.random.choice(self.num_states)\n",
        "#         self.current_state = self.initial_state\n",
        "\n",
        "#     def step(self, action):\n",
        "#         # Transition according to the action\n",
        "#         next_state = np.random.choice(self.num_states, p=self.P[action][self.current_state])\n",
        "#         reward = self.R[self.current_state, action]\n",
        "#         done = (next_state == 10)  # Terminal state is 10 (F)\n",
        "#         self.current_state = next_state\n",
        "#         return next_state, reward, done, {}\n",
        "\n",
        "#     def reset(self):\n",
        "#         # Reset to the initial state\n",
        "#         self.current_state = self.initial_state\n",
        "#         return self.current_state\n",
        "\n",
        "#     def render(self, mode='human'):\n",
        "#         # Rendering logic (optional)\n",
        "#         pass\n",
        "\n",
        "# # Register the custom environment with Gym\n",
        "# env_name = 'CustomGridworld-v0'\n",
        "# gym.envs.register(id=env_name, entry_point='path.to.CustomGridworldEnv')\n",
        "\n",
        "# # Create an instance of the environment\n",
        "# env = gym.make(env_name, render_mode='text')\n"
      ],
      "metadata": {
        "id": "YLwosqJlT9NR"
      },
      "execution_count": null,
      "outputs": []
    },
    {
      "cell_type": "code",
      "source": [
        "pip install gym-simplegrid"
      ],
      "metadata": {
        "colab": {
          "base_uri": "https://localhost:8080/"
        },
        "id": "IJy6rj9RYwBm",
        "outputId": "93c78e17-524c-4ad3-f4d8-55ef3881c3f0"
      },
      "execution_count": null,
      "outputs": [
        {
          "output_type": "stream",
          "name": "stdout",
          "text": [
            "Requirement already satisfied: gym-simplegrid in /usr/local/lib/python3.10/dist-packages (1.0.5)\n",
            "Requirement already satisfied: gymnasium in /usr/local/lib/python3.10/dist-packages (from gym-simplegrid) (0.29.1)\n",
            "Requirement already satisfied: matplotlib in /usr/local/lib/python3.10/dist-packages (from gym-simplegrid) (3.7.1)\n",
            "Requirement already satisfied: numpy>=1.21.0 in /usr/local/lib/python3.10/dist-packages (from gymnasium->gym-simplegrid) (1.23.5)\n",
            "Requirement already satisfied: cloudpickle>=1.2.0 in /usr/local/lib/python3.10/dist-packages (from gymnasium->gym-simplegrid) (2.2.1)\n",
            "Requirement already satisfied: typing-extensions>=4.3.0 in /usr/local/lib/python3.10/dist-packages (from gymnasium->gym-simplegrid) (4.5.0)\n",
            "Requirement already satisfied: farama-notifications>=0.0.1 in /usr/local/lib/python3.10/dist-packages (from gymnasium->gym-simplegrid) (0.0.4)\n",
            "Requirement already satisfied: contourpy>=1.0.1 in /usr/local/lib/python3.10/dist-packages (from matplotlib->gym-simplegrid) (1.2.0)\n",
            "Requirement already satisfied: cycler>=0.10 in /usr/local/lib/python3.10/dist-packages (from matplotlib->gym-simplegrid) (0.12.1)\n",
            "Requirement already satisfied: fonttools>=4.22.0 in /usr/local/lib/python3.10/dist-packages (from matplotlib->gym-simplegrid) (4.47.0)\n",
            "Requirement already satisfied: kiwisolver>=1.0.1 in /usr/local/lib/python3.10/dist-packages (from matplotlib->gym-simplegrid) (1.4.5)\n",
            "Requirement already satisfied: packaging>=20.0 in /usr/local/lib/python3.10/dist-packages (from matplotlib->gym-simplegrid) (23.2)\n",
            "Requirement already satisfied: pillow>=6.2.0 in /usr/local/lib/python3.10/dist-packages (from matplotlib->gym-simplegrid) (9.4.0)\n",
            "Requirement already satisfied: pyparsing>=2.3.1 in /usr/local/lib/python3.10/dist-packages (from matplotlib->gym-simplegrid) (3.1.1)\n",
            "Requirement already satisfied: python-dateutil>=2.7 in /usr/local/lib/python3.10/dist-packages (from matplotlib->gym-simplegrid) (2.8.2)\n",
            "Requirement already satisfied: six>=1.5 in /usr/local/lib/python3.10/dist-packages (from python-dateutil>=2.7->matplotlib->gym-simplegrid) (1.16.0)\n"
          ]
        }
      ]
    },
    {
      "cell_type": "code",
      "source": [
        "# import gymnasium as gym\n",
        "# import gym_simplegrid\n",
        "\n"
      ],
      "metadata": {
        "id": "K_M2n7JRUa_A"
      },
      "execution_count": null,
      "outputs": []
    },
    {
      "cell_type": "code",
      "source": [
        "# # Load the default 4x4 map\n",
        "# env = gym.make('SimpleGrid-4x4-v0', render_mode='human')"
      ],
      "metadata": {
        "id": "aH7_61N3e9WW"
      },
      "execution_count": null,
      "outputs": []
    },
    {
      "cell_type": "code",
      "source": [
        "# import numpy as np\n",
        "\n",
        "# # Load a custom map\n",
        "# obstacle_map = [\n",
        "#         \"0000\",\n",
        "#         \"0111\",\n",
        "#         \"0010\",\n",
        "#         \"0000\",\n",
        "# ]\n",
        "\n",
        "# env = gym.make(\n",
        "#     'SimpleGrid-v0',\n",
        "#     obstacle_map=obstacle_map,\n",
        "#     render_mode='human'\n",
        "# )"
      ],
      "metadata": {
        "id": "ScGS7ts5Y7md"
      },
      "execution_count": null,
      "outputs": []
    },
    {
      "cell_type": "code",
      "source": [
        "import gym\n",
        "from gym import spaces\n",
        "import numpy as np\n",
        "\n",
        "class GridEnv(gym.Env):\n",
        "    def __init__(self):\n",
        "        self.grid_size = 4\n",
        "        self.action_space = spaces.Discrete(4)  # 4가지 행동: 상, 하, 좌, 우\n",
        "        self.observation_space = spaces.Box(low=0, high=1, shape=(self.grid_size, self.grid_size), dtype=np.float32)\n",
        "        self.grid = np.zeros((self.grid_size, self.grid_size))\n",
        "        self.walls = [(1, 1), (1, 2), (1, 3), (2, 2)]\n",
        "        self.goal = (2, 3)\n",
        "        self.valid_positions = [(i, j) for i in range(self.grid_size) for j in range(self.grid_size) if (i, j) not in self.walls and (i, j) != self.goal]\n",
        "        self.current_position = self.valid_positions[np.random.randint(len(self.valid_positions))]\n",
        "        self.done = False\n",
        "\n",
        "    def reset(self):\n",
        "        self.current_position = self.valid_positions[np.random.randint(len(self.valid_positions))]\n",
        "        self.done = False\n",
        "        self.grid = np.zeros((self.grid_size, self.grid_size))\n",
        "        self.grid[self.current_position] = 1  # 현재 말의 위치를 표시\n",
        "        self.grid[self.goal] = 0.5  # 목표 지점을 표시\n",
        "        for wall in self.walls:\n",
        "            self.grid[wall] = -1  # 벽을 -1로 표시\n",
        "        return self.grid\n",
        "\n",
        "    def step(self, action):\n",
        "        if self.done:\n",
        "            raise ValueError(\"Episode has terminated. Call reset()\")\n",
        "\n",
        "        row, col = self.current_position\n",
        "\n",
        "        if action == 0:  # 상\n",
        "            new_row = row - 1\n",
        "            new_col = col\n",
        "        elif action == 1:  # 하\n",
        "            new_row = row + 1\n",
        "            new_col = col\n",
        "        elif action == 2:  # 좌\n",
        "            new_row = row\n",
        "            new_col = col - 1\n",
        "        elif action == 3:  # 우\n",
        "            new_row = row\n",
        "            new_col = col + 1\n",
        "\n",
        "        new_position = (new_row, new_col)\n",
        "\n",
        "        # 이동할 위치가 유효한지 확인\n",
        "        if new_position in self.valid_positions:\n",
        "            self.current_position = new_position\n",
        "            self.grid = np.zeros((self.grid_size, self.grid_size))\n",
        "            self.grid[self.current_position] = 1  # 새로운 위치 표시\n",
        "\n",
        "        if self.current_position == self.goal:\n",
        "            self.done = True\n",
        "            reward = 1.0\n",
        "        else:\n",
        "            reward = -0.1\n",
        "\n",
        "        return self.grid, reward, self.done, {}\n",
        "\n",
        "    def render(self, mode='human'):\n",
        "        for i in range(self.grid_size):\n",
        "            for j in range(self.grid_size):\n",
        "                if (i, j) == self.current_position:\n",
        "                    print(\"H\", end=\" \")  # 현재 위치를 H로 표시\n",
        "                elif (i, j) == self.goal:\n",
        "                    print(\"F\", end=\" \")  # 목표 지점을 F로 표시\n",
        "                elif (i, j) in self.walls:\n",
        "                    print(\"#\", end=\" \")  # 벽을 #으로 표시\n",
        "                else:\n",
        "                    print(\".\", end=\" \")  # 빈 공간을 .으로 표시\n",
        "            print()\n",
        "\n",
        "env = GridEnv()\n",
        "observation = env.reset()"
      ],
      "metadata": {
        "id": "txCaXQGeY7j8"
      },
      "execution_count": null,
      "outputs": []
    },
    {
      "cell_type": "code",
      "source": [
        "env.render()\n",
        "print()\n",
        "\n",
        "env.step(3)\n",
        "env.render()\n",
        "print()\n",
        "\n",
        "env.step(1)\n",
        "env.render()\n",
        "print()\n",
        "\n",
        "env.step(3)\n",
        "env.render()\n",
        "print()\n",
        "\n",
        "env.step(3)\n",
        "env.render()\n",
        "print()\n"
      ],
      "metadata": {
        "colab": {
          "base_uri": "https://localhost:8080/"
        },
        "id": "b8R-ZDnvj9NK",
        "outputId": "e345cb06-06be-4f67-960a-8ef6056874a0"
      },
      "execution_count": null,
      "outputs": [
        {
          "output_type": "stream",
          "name": "stdout",
          "text": [
            ". . . . \n",
            ". # # # \n",
            ". H # F \n",
            ". . . . \n",
            "\n",
            ". . . . \n",
            ". # # # \n",
            ". H # F \n",
            ". . . . \n",
            "\n",
            ". . . . \n",
            ". # # # \n",
            ". . # F \n",
            ". H . . \n",
            "\n",
            ". . . . \n",
            ". # # # \n",
            ". . # F \n",
            ". . H . \n",
            "\n",
            ". . . . \n",
            ". # # # \n",
            ". . # F \n",
            ". . . H \n",
            "\n"
          ]
        }
      ]
    }
  ]
}