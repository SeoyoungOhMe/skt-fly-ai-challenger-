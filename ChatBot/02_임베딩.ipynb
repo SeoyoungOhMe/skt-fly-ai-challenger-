{
  "nbformat": 4,
  "nbformat_minor": 0,
  "metadata": {
    "colab": {
      "provenance": [],
      "include_colab_link": true
    },
    "kernelspec": {
      "name": "python3",
      "display_name": "Python 3"
    },
    "language_info": {
      "name": "python"
    }
  },
  "cells": [
    {
      "cell_type": "markdown",
      "metadata": {
        "id": "view-in-github",
        "colab_type": "text"
      },
      "source": [
        "<a href=\"https://colab.research.google.com/github/SeoyoungOhMe/skt-fly-ai-challenger-class/blob/master/02_%EC%9E%84%EB%B2%A0%EB%94%A9.ipynb\" target=\"_parent\"><img src=\"https://colab.research.google.com/assets/colab-badge.svg\" alt=\"Open In Colab\"/></a>"
      ]
    },
    {
      "cell_type": "code",
      "execution_count": null,
      "metadata": {
        "id": "VBRAuSXEPIyy",
        "colab": {
          "base_uri": "https://localhost:8080/"
        },
        "outputId": "5ac32b1d-177d-4c1f-c15d-df6c92135691"
      },
      "outputs": [
        {
          "output_type": "stream",
          "name": "stdout",
          "text": [
            "Requirement already satisfied: konlpy in /usr/local/lib/python3.10/dist-packages (0.6.0)\n",
            "Requirement already satisfied: JPype1>=0.7.0 in /usr/local/lib/python3.10/dist-packages (from konlpy) (1.5.0)\n",
            "Requirement already satisfied: lxml>=4.1.0 in /usr/local/lib/python3.10/dist-packages (from konlpy) (4.9.4)\n",
            "Requirement already satisfied: numpy>=1.6 in /usr/local/lib/python3.10/dist-packages (from konlpy) (1.23.5)\n",
            "Requirement already satisfied: packaging in /usr/local/lib/python3.10/dist-packages (from JPype1>=0.7.0->konlpy) (23.2)\n"
          ]
        }
      ],
      "source": [
        "!pip install konlpy"
      ]
    },
    {
      "cell_type": "code",
      "source": [
        "from konlpy.tag import Komoran\n",
        "import numpy as np\n",
        "komoran = Komoran()\n",
        "text = \"오늘 날씨는 구름이 많아요.\"\n",
        "# 명사만 추출\n",
        "nouns = komoran.nouns(text)\n",
        "print(nouns)"
      ],
      "metadata": {
        "colab": {
          "base_uri": "https://localhost:8080/"
        },
        "id": "ifl05yaTkEGl",
        "outputId": "6ede5d78-42ac-4718-d46e-ac496a366e52"
      },
      "execution_count": null,
      "outputs": [
        {
          "output_type": "stream",
          "name": "stdout",
          "text": [
            "['오늘', '날씨', '구름']\n"
          ]
        }
      ]
    },
    {
      "cell_type": "code",
      "source": [
        "# 단어 사전 구축 및 단어별 인덱스 부여\n",
        "dics = {}\n",
        "for word in nouns:\n",
        "  if word not in dics.keys():\n",
        "    dics[word] = len(dics)\n",
        "print(dics)"
      ],
      "metadata": {
        "colab": {
          "base_uri": "https://localhost:8080/"
        },
        "id": "8nSoKARlkEIv",
        "outputId": "1a62793a-0ce2-4b68-d8f2-0e34a7afa663"
      },
      "execution_count": null,
      "outputs": [
        {
          "output_type": "stream",
          "name": "stdout",
          "text": [
            "{'오늘': 0, '날씨': 1, '구름': 2}\n"
          ]
        }
      ]
    },
    {
      "cell_type": "code",
      "source": [
        "# 원-핫 인코딩\n",
        "nb_classes = len(dics)\n",
        "targets = list(dics.values())\n",
        "one_hot_targets = np.eye(nb_classes)[targets]\n",
        "print(one_hot_targets)"
      ],
      "metadata": {
        "colab": {
          "base_uri": "https://localhost:8080/"
        },
        "id": "rAayBcWskELJ",
        "outputId": "1f5812a7-0e2b-4054-ab28-6af734f20a42"
      },
      "execution_count": null,
      "outputs": [
        {
          "output_type": "stream",
          "name": "stdout",
          "text": [
            "[[1. 0. 0.]\n",
            " [0. 1. 0.]\n",
            " [0. 0. 1.]]\n"
          ]
        }
      ]
    },
    {
      "cell_type": "code",
      "source": [
        "from gensim.models import Word2Vec\n",
        "from konlpy.tag import Komoran\n",
        "import time\n",
        "\n",
        "# 네이버 영화 리뷰 데이터 읽어옴\n",
        "def read_review_data(filename):\n",
        "  with open(filename, 'r') as f:\n",
        "    data = [line.split('\\t') for line in f.read().splitlines()]\n",
        "    data = data[1:] # header 제거\n",
        "  return data"
      ],
      "metadata": {
        "id": "Y6M4Mzr8kENr"
      },
      "execution_count": null,
      "outputs": []
    },
    {
      "cell_type": "code",
      "source": [
        "# 측정 시작\n",
        "start = time.time()\n",
        "# 리뷰 파일 읽어오기\n",
        "print('1) 말뭉치 데이터 읽기 시작')\n",
        "review_data = read_review_data('./ratings.txt')\n",
        "print(len(review_data)) # 리뷰 데이터 전체 개수\n",
        "print('1) 말뭉치 데이터 읽기 완료: ', time.time() - start)"
      ],
      "metadata": {
        "colab": {
          "base_uri": "https://localhost:8080/"
        },
        "id": "rxjJ5vaukEQU",
        "outputId": "792217bc-10b5-4b16-c7dc-086ee01ec042"
      },
      "execution_count": null,
      "outputs": [
        {
          "output_type": "stream",
          "name": "stdout",
          "text": [
            "1) 말뭉치 데이터 읽기 시작\n",
            "200000\n",
            "1) 말뭉치 데이터 읽기 완료:  0.5855550765991211\n"
          ]
        }
      ]
    },
    {
      "cell_type": "code",
      "source": [
        "# 문장단위로 명사만 추출해 학습 입력 데이터로 만듬\n",
        "print('2) 형태소에서 명사만 추출 시작')\n",
        "komoran = Komoran()\n",
        "docs = [komoran.nouns(sentence[1]) for sentence in review_data]\n",
        "print('2) 형태소에서 명사만 추출 완료: ', time.time() - start)"
      ],
      "metadata": {
        "colab": {
          "base_uri": "https://localhost:8080/"
        },
        "id": "_W4nik-XkESt",
        "outputId": "56b48a56-beee-4c4e-d5b1-0a9faa7fcccd"
      },
      "execution_count": null,
      "outputs": [
        {
          "output_type": "stream",
          "name": "stdout",
          "text": [
            "2) 형태소에서 명사만 추출 시작\n",
            "2) 형태소에서 명사만 추출 완료:  149.85265064239502\n"
          ]
        }
      ]
    },
    {
      "cell_type": "code",
      "source": [
        "# word2vec 모델 학습\n",
        "print('3) word2vec 모델 학습 시작')\n",
        "model = Word2Vec(sentences=docs, vector_size=200, window=4, min_count=2, sg=1)\n",
        "print('3) word2vec 모델 학습 완료: ', time.time() - start)"
      ],
      "metadata": {
        "colab": {
          "base_uri": "https://localhost:8080/"
        },
        "id": "y817fkOekEVa",
        "outputId": "9232e7cb-3e6d-4a07-b194-ba1e93d108a9"
      },
      "execution_count": null,
      "outputs": [
        {
          "output_type": "stream",
          "name": "stdout",
          "text": [
            "3) word2vec 모델 학습 시작\n",
            "3) word2vec 모델 학습 완료:  662.184562921524\n"
          ]
        }
      ]
    },
    {
      "cell_type": "code",
      "source": [
        "# 모델 저장\n",
        "print('4) 학습된 모델 저장 시작')\n",
        "model.save('nvmc.model')\n",
        "print('4) 학습된 모델 저장 완료: ', time.time() - start)"
      ],
      "metadata": {
        "colab": {
          "base_uri": "https://localhost:8080/"
        },
        "id": "tVqf_WFRkEYH",
        "outputId": "feeb471b-49ef-4be6-8b6f-54fdf9563ccb"
      },
      "execution_count": null,
      "outputs": [
        {
          "output_type": "stream",
          "name": "stdout",
          "text": [
            "4) 학습된 모델 저장 시작\n",
            "4) 학습된 모델 저장 완료:  1192.3759033679962\n"
          ]
        }
      ]
    },
    {
      "cell_type": "code",
      "source": [
        "# 학습된 말뭉치 개수, 코퍼스 내 전체 단어 개수\n",
        "print(\"corpus_count : \", model.corpus_count)\n",
        "print(\"corpus_total_words : \", model.corpus_total_words)"
      ],
      "metadata": {
        "colab": {
          "base_uri": "https://localhost:8080/"
        },
        "id": "nzIeI0-JkEaj",
        "outputId": "3f432ed2-72e9-402e-ec78-b78eeb461c40"
      },
      "execution_count": null,
      "outputs": [
        {
          "output_type": "stream",
          "name": "stdout",
          "text": [
            "corpus_count :  200000\n",
            "corpus_total_words :  1076896\n"
          ]
        }
      ]
    },
    {
      "cell_type": "code",
      "source": [
        "from gensim.models import Word2Vec\n",
        "# 모델 로딩\n",
        "model = Word2Vec.load('nvmc.model')\n",
        "print(\"corpus_total_words : \", model.corpus_total_words)"
      ],
      "metadata": {
        "colab": {
          "base_uri": "https://localhost:8080/"
        },
        "id": "iEgwpnt5kEdA",
        "outputId": "7d9f634c-23ed-441d-aa8d-307568c1aaf8"
      },
      "execution_count": null,
      "outputs": [
        {
          "output_type": "stream",
          "name": "stdout",
          "text": [
            "corpus_total_words :  1076896\n"
          ]
        }
      ]
    },
    {
      "cell_type": "code",
      "source": [
        "# '사랑'이란 단어로 생성한 단어 임베딩 벡터\n",
        "print('사랑 : ', model.wv['사랑'])"
      ],
      "metadata": {
        "colab": {
          "base_uri": "https://localhost:8080/"
        },
        "id": "Vgb6h9ITkEfj",
        "outputId": "5c555c3e-4ba7-4689-8700-1ad1fc55ea91"
      },
      "execution_count": null,
      "outputs": [
        {
          "output_type": "stream",
          "name": "stdout",
          "text": [
            "사랑 :  [ 6.72609136e-02 -6.42251074e-01  2.49599218e-01  3.70102078e-01\n",
            " -1.36663973e-01  4.85151522e-02 -1.25460148e-01  3.74669544e-02\n",
            " -2.01850780e-03  4.53179777e-01 -4.09352481e-01 -1.74659804e-01\n",
            "  1.73184946e-01 -2.27571741e-01 -1.82308644e-01  3.55393112e-01\n",
            "  1.07869849e-01 -1.78833991e-01 -2.51225889e-01 -3.65720958e-01\n",
            "  6.31793737e-01  1.99121684e-01 -1.92007562e-03  2.27498040e-01\n",
            " -2.39849150e-01  7.47290999e-02  1.71114311e-01  1.05624512e-01\n",
            " -8.45654756e-02 -3.77291590e-01  2.31273726e-01  2.34409407e-01\n",
            "  1.52297601e-01 -4.28643711e-02 -3.36723737e-02 -4.24629040e-02\n",
            "  1.60527810e-01  1.57465905e-01 -9.66719389e-02 -3.73948775e-02\n",
            " -3.16848814e-01  2.80476123e-01  1.20469593e-02 -6.65556252e-01\n",
            "  4.42181170e-01  3.49654585e-01  3.98509030e-04 -9.13718250e-03\n",
            "  3.41865897e-01 -7.13858679e-02  1.80992126e-01 -4.94560637e-02\n",
            " -2.91445047e-01  6.62863255e-02 -1.26952991e-01 -1.35764927e-01\n",
            " -1.08342290e-01 -3.45770836e-01 -7.55091310e-02 -1.09776646e-01\n",
            "  2.60686785e-01  1.60527192e-02 -5.66770256e-01  2.19547689e-01\n",
            "  8.86262453e-04 -1.67158797e-01 -4.17008966e-01  5.89488298e-02\n",
            " -2.13827327e-01  4.81010228e-01  1.32636145e-01 -2.99805105e-01\n",
            "  5.30234575e-01  3.50494497e-02  1.11701079e-01  9.81963128e-02\n",
            "  3.27751160e-01 -1.24987818e-01 -1.74802259e-01 -1.05332814e-01\n",
            "  5.80639914e-02 -9.75622609e-02 -1.41914621e-01  3.35992426e-01\n",
            " -4.67150986e-01 -1.55883044e-01 -2.83080190e-01  2.30740279e-01\n",
            "  1.65397171e-02  4.93223257e-02  5.52074194e-01  4.13540527e-02\n",
            "  1.57416359e-01  1.21219859e-01  4.28195357e-01 -2.36271918e-01\n",
            "  1.78564951e-01 -1.90254126e-03 -3.49253237e-01  4.94578071e-02\n",
            " -2.68454194e-01  5.43297052e-01  1.07125066e-01  3.41569483e-01\n",
            " -5.91722084e-03 -6.59790695e-01 -1.00525767e-01  4.29475129e-01\n",
            " -1.12455495e-01 -2.35136539e-01 -8.34973603e-02 -3.03981513e-01\n",
            "  1.20928094e-01  1.60380751e-01 -7.64057133e-03 -5.20554304e-01\n",
            "  2.18926117e-01 -3.76522571e-01  2.55847186e-01 -4.13697027e-02\n",
            "  2.33543329e-02 -1.24054097e-01 -1.23259716e-01 -2.74426937e-01\n",
            "  3.92444730e-02  4.59266335e-01 -1.69387951e-01  8.93618539e-02\n",
            " -2.32883379e-01  2.49759182e-01 -6.90715685e-02  5.01228273e-01\n",
            "  9.38744992e-02  2.31432647e-01 -1.15710728e-01  1.55091599e-01\n",
            " -2.53349971e-02  5.77537455e-02 -4.18329164e-02  6.97594807e-02\n",
            "  1.60875618e-01  2.47980151e-02 -2.62085319e-01  3.63538861e-02\n",
            "  9.01939049e-02 -8.92237052e-02 -5.22891283e-02 -8.00967440e-02\n",
            "  2.43951231e-01 -2.43785083e-01 -1.77281618e-01 -3.50824028e-01\n",
            "  4.06709462e-01 -1.35960743e-01 -7.92087391e-02 -4.12128270e-02\n",
            "  1.21394746e-01  5.23465537e-02  1.91132829e-01  1.54600531e-01\n",
            "  2.02450510e-02  2.38909379e-01  1.35570705e-01 -1.23846911e-01\n",
            "  2.91319788e-01  2.42269307e-01 -3.69878858e-02 -5.28564751e-01\n",
            " -2.18245566e-01 -9.22037065e-02 -5.74164569e-01 -9.86521319e-02\n",
            "  9.36202034e-02 -7.01433122e-01  9.31275934e-02 -5.47732748e-02\n",
            "  2.10367218e-01 -2.31981263e-01  3.82778168e-01  8.17551240e-02\n",
            " -1.62509196e-02  9.96736214e-02  1.69630758e-02  2.21704785e-02\n",
            " -3.64202261e-01 -1.69602141e-01 -1.82181433e-01 -1.14275627e-01\n",
            "  4.58301842e-01 -1.91669807e-01  1.77546546e-01 -1.53255388e-01\n",
            " -1.21987216e-01  1.28883883e-01  2.15274990e-01  5.43402284e-02\n",
            "  3.35882269e-02 -2.29482993e-01 -4.34800625e-01 -9.06742923e-03]\n"
          ]
        }
      ]
    },
    {
      "cell_type": "code",
      "source": [
        "# 단어 유사도 계산\n",
        "print(\"일요일 = 월요일\\t\", model.wv.similarity(w1='일요일', w2='월요일'))\n",
        "print(\"안성기 = 배우\\t\", model.wv.similarity(w1='안성기', w2='배우'))\n",
        "print(\"대기업 = 삼성\\t\", model.wv.similarity(w1='대기업', w2='삼성'))\n",
        "print(\"일요일 != 삼성\\t\", model.wv.similarity(w1='일요일', w2='삼성'))\n",
        "print(\"히어로 != 삼성\\t\", model.wv.similarity(w1='히어로', w2='삼성'))"
      ],
      "metadata": {
        "colab": {
          "base_uri": "https://localhost:8080/"
        },
        "id": "uBXduWMCkEiH",
        "outputId": "452a7d67-ba4a-475e-ff6a-999d0804ee22"
      },
      "execution_count": null,
      "outputs": [
        {
          "output_type": "stream",
          "name": "stdout",
          "text": [
            "일요일 = 월요일\t 0.9258787\n",
            "안성기 = 배우\t 0.72757363\n",
            "대기업 = 삼성\t 0.876305\n",
            "일요일 != 삼성\t 0.64457506\n",
            "히어로 != 삼성\t 0.45462903\n"
          ]
        }
      ]
    },
    {
      "cell_type": "code",
      "source": [
        "# 가장 유사한 단어 추출\n",
        "print(model.wv.most_similar(\"안성기\", topn=5))\n",
        "print(model.wv.most_similar(\"시리즈\", topn=5))"
      ],
      "metadata": {
        "colab": {
          "base_uri": "https://localhost:8080/"
        },
        "id": "Yk8-8_zckEk6",
        "outputId": "1d2ac56d-64c2-454a-be32-b04ce8975d1e"
      },
      "execution_count": null,
      "outputs": [
        {
          "output_type": "stream",
          "name": "stdout",
          "text": [
            "[('설경구', 0.9457056522369385), ('정재영', 0.9419457316398621), ('고소영', 0.9377008676528931), ('한석규', 0.9366825222969055), ('박신양', 0.9366332292556763)]\n",
            "[('엑스맨', 0.8101549744606018), ('포터', 0.8059613108634949), ('해리', 0.7920705080032349), ('반지의 제왕', 0.781561553478241), ('미이라', 0.778642475605011)]\n"
          ]
        }
      ]
    },
    {
      "cell_type": "code",
      "source": [
        "from konlpy.tag import Okt # 트위터 한국어 처리기 - 일상 생활에 등장하는 단어에 유용\n",
        "from konlpy.tag import Komoran"
      ],
      "metadata": {
        "id": "G76gY7mq6Ttq"
      },
      "execution_count": null,
      "outputs": []
    },
    {
      "cell_type": "code",
      "source": [
        "# 파일 형식 확인\n",
        "import chardet\n",
        "import os\n",
        "file_name = './train_game.json'\n",
        "\n",
        "with open(file_name, 'r') as f:\n",
        "    result = chardet.detect(f.read())\n",
        "\n",
        "print(result['encoding'])"
      ],
      "metadata": {
        "colab": {
          "base_uri": "https://localhost:8080/",
          "height": 255
        },
        "id": "f5pU1AXy6VpV",
        "outputId": "ff0d48e3-9320-4ca5-afb2-8405a0a5826b"
      },
      "execution_count": null,
      "outputs": [
        {
          "output_type": "error",
          "ename": "TypeError",
          "evalue": "open() takes 1 positional argument but 2 were given",
          "traceback": [
            "\u001b[0;31m---------------------------------------------------------------------------\u001b[0m",
            "\u001b[0;31mTypeError\u001b[0m                                 Traceback (most recent call last)",
            "\u001b[0;32m<ipython-input-74-dce99b2e0b09>\u001b[0m in \u001b[0;36m<cell line: 6>\u001b[0;34m()\u001b[0m\n\u001b[1;32m      4\u001b[0m \u001b[0mfile_name\u001b[0m \u001b[0;34m=\u001b[0m \u001b[0;34m'./train_game.json'\u001b[0m\u001b[0;34m\u001b[0m\u001b[0;34m\u001b[0m\u001b[0m\n\u001b[1;32m      5\u001b[0m \u001b[0;34m\u001b[0m\u001b[0m\n\u001b[0;32m----> 6\u001b[0;31m \u001b[0;32mwith\u001b[0m \u001b[0mopen\u001b[0m\u001b[0;34m(\u001b[0m\u001b[0mfile_name\u001b[0m\u001b[0;34m,\u001b[0m \u001b[0;34m'r'\u001b[0m\u001b[0;34m)\u001b[0m \u001b[0;32mas\u001b[0m \u001b[0mf\u001b[0m\u001b[0;34m:\u001b[0m\u001b[0;34m\u001b[0m\u001b[0;34m\u001b[0m\u001b[0m\n\u001b[0m\u001b[1;32m      7\u001b[0m     \u001b[0mresult\u001b[0m \u001b[0;34m=\u001b[0m \u001b[0mchardet\u001b[0m\u001b[0;34m.\u001b[0m\u001b[0mdetect\u001b[0m\u001b[0;34m(\u001b[0m\u001b[0mf\u001b[0m\u001b[0;34m.\u001b[0m\u001b[0mread\u001b[0m\u001b[0;34m(\u001b[0m\u001b[0;34m)\u001b[0m\u001b[0;34m)\u001b[0m\u001b[0;34m\u001b[0m\u001b[0;34m\u001b[0m\u001b[0m\n\u001b[1;32m      8\u001b[0m \u001b[0;34m\u001b[0m\u001b[0m\n",
            "\u001b[0;31mTypeError\u001b[0m: open() takes 1 positional argument but 2 were given"
          ]
        }
      ]
    },
    {
      "cell_type": "code",
      "source": [
        "import json\n",
        "with open('./train_game.json', 'r') as f:\n",
        "  json_file = json.load(f)"
      ],
      "metadata": {
        "colab": {
          "base_uri": "https://localhost:8080/",
          "height": 219
        },
        "id": "XHlhLXgfNOl_",
        "outputId": "0ef0cdbd-a5a3-4cf5-f1c8-0b944cfe96ca"
      },
      "execution_count": null,
      "outputs": [
        {
          "output_type": "error",
          "ename": "TypeError",
          "evalue": "open() takes 1 positional argument but 2 were given",
          "traceback": [
            "\u001b[0;31m---------------------------------------------------------------------------\u001b[0m",
            "\u001b[0;31mTypeError\u001b[0m                                 Traceback (most recent call last)",
            "\u001b[0;32m<ipython-input-68-a6cbd74a0609>\u001b[0m in \u001b[0;36m<cell line: 2>\u001b[0;34m()\u001b[0m\n\u001b[1;32m      1\u001b[0m \u001b[0;32mimport\u001b[0m \u001b[0mjson\u001b[0m\u001b[0;34m\u001b[0m\u001b[0;34m\u001b[0m\u001b[0m\n\u001b[0;32m----> 2\u001b[0;31m \u001b[0;32mwith\u001b[0m \u001b[0mopen\u001b[0m\u001b[0;34m(\u001b[0m\u001b[0;34m'./train_game.json'\u001b[0m\u001b[0;34m,\u001b[0m \u001b[0;34m'r'\u001b[0m\u001b[0;34m)\u001b[0m \u001b[0;32mas\u001b[0m \u001b[0mf\u001b[0m\u001b[0;34m:\u001b[0m\u001b[0;34m\u001b[0m\u001b[0;34m\u001b[0m\u001b[0m\n\u001b[0m\u001b[1;32m      3\u001b[0m   \u001b[0mjson_file\u001b[0m \u001b[0;34m=\u001b[0m \u001b[0mjson\u001b[0m\u001b[0;34m.\u001b[0m\u001b[0mload\u001b[0m\u001b[0;34m(\u001b[0m\u001b[0mf\u001b[0m\u001b[0;34m)\u001b[0m\u001b[0;34m\u001b[0m\u001b[0;34m\u001b[0m\u001b[0m\n",
            "\u001b[0;31mTypeError\u001b[0m: open() takes 1 positional argument but 2 were given"
          ]
        }
      ]
    },
    {
      "cell_type": "code",
      "source": [
        "import json\n",
        "\n",
        "def open_json(file_path):\n",
        "    with open(file_path, 'r') as file:\n",
        "      data = json.load(file)\n",
        "    return data"
      ],
      "metadata": {
        "id": "jUL6N2O-kEoD"
      },
      "execution_count": null,
      "outputs": []
    },
    {
      "cell_type": "code",
      "source": [
        "from gensim.models import Word2Vec\n",
        "from konlpy.tag import Komoran\n",
        "import time\n",
        "\n",
        "start = time.time()\n",
        "\n",
        "print('1) 말뭉치 데이터 읽기 시작')\n",
        "train = open_json(\"/content/train_game.json\")\n",
        "print(len(train))\n",
        "print('1) 말뭉치 데이터 읽기 완료: ', time.time() - start)"
      ],
      "metadata": {
        "colab": {
          "base_uri": "https://localhost:8080/",
          "height": 400
        },
        "id": "sK7O82coqTXs",
        "outputId": "5aff1a5d-3d74-43e5-fe6b-6d45e1e70e07"
      },
      "execution_count": null,
      "outputs": [
        {
          "output_type": "stream",
          "name": "stdout",
          "text": [
            "1) 말뭉치 데이터 읽기 시작\n"
          ]
        },
        {
          "output_type": "error",
          "ename": "TypeError",
          "evalue": "open() takes 1 positional argument but 2 were given",
          "traceback": [
            "\u001b[0;31m---------------------------------------------------------------------------\u001b[0m",
            "\u001b[0;31mTypeError\u001b[0m                                 Traceback (most recent call last)",
            "\u001b[0;32m<ipython-input-46-aa6871fc5d16>\u001b[0m in \u001b[0;36m<cell line: 8>\u001b[0;34m()\u001b[0m\n\u001b[1;32m      6\u001b[0m \u001b[0;34m\u001b[0m\u001b[0m\n\u001b[1;32m      7\u001b[0m \u001b[0mprint\u001b[0m\u001b[0;34m(\u001b[0m\u001b[0;34m'1) 말뭉치 데이터 읽기 시작'\u001b[0m\u001b[0;34m)\u001b[0m\u001b[0;34m\u001b[0m\u001b[0;34m\u001b[0m\u001b[0m\n\u001b[0;32m----> 8\u001b[0;31m \u001b[0mtrain\u001b[0m \u001b[0;34m=\u001b[0m \u001b[0mopen_json\u001b[0m\u001b[0;34m(\u001b[0m\u001b[0;34m\"/content/train_game.json\"\u001b[0m\u001b[0;34m)\u001b[0m\u001b[0;34m\u001b[0m\u001b[0;34m\u001b[0m\u001b[0m\n\u001b[0m\u001b[1;32m      9\u001b[0m \u001b[0mprint\u001b[0m\u001b[0;34m(\u001b[0m\u001b[0mlen\u001b[0m\u001b[0;34m(\u001b[0m\u001b[0mtrain\u001b[0m\u001b[0;34m)\u001b[0m\u001b[0;34m)\u001b[0m\u001b[0;34m\u001b[0m\u001b[0;34m\u001b[0m\u001b[0m\n\u001b[1;32m     10\u001b[0m \u001b[0mprint\u001b[0m\u001b[0;34m(\u001b[0m\u001b[0;34m'1) 말뭉치 데이터 읽기 완료: '\u001b[0m\u001b[0;34m,\u001b[0m \u001b[0mtime\u001b[0m\u001b[0;34m.\u001b[0m\u001b[0mtime\u001b[0m\u001b[0;34m(\u001b[0m\u001b[0;34m)\u001b[0m \u001b[0;34m-\u001b[0m \u001b[0mstart\u001b[0m\u001b[0;34m)\u001b[0m\u001b[0;34m\u001b[0m\u001b[0;34m\u001b[0m\u001b[0m\n",
            "\u001b[0;32m<ipython-input-45-f0a5605924ab>\u001b[0m in \u001b[0;36mopen_json\u001b[0;34m(file_path)\u001b[0m\n\u001b[1;32m      2\u001b[0m \u001b[0;34m\u001b[0m\u001b[0m\n\u001b[1;32m      3\u001b[0m \u001b[0;32mdef\u001b[0m \u001b[0mopen_json\u001b[0m\u001b[0;34m(\u001b[0m\u001b[0mfile_path\u001b[0m\u001b[0;34m)\u001b[0m\u001b[0;34m:\u001b[0m\u001b[0;34m\u001b[0m\u001b[0;34m\u001b[0m\u001b[0m\n\u001b[0;32m----> 4\u001b[0;31m     \u001b[0;32mwith\u001b[0m \u001b[0mopen\u001b[0m\u001b[0;34m(\u001b[0m\u001b[0mfile_path\u001b[0m\u001b[0;34m,\u001b[0m \u001b[0;34m'r'\u001b[0m\u001b[0;34m)\u001b[0m \u001b[0;32mas\u001b[0m \u001b[0mfile\u001b[0m\u001b[0;34m:\u001b[0m\u001b[0;34m\u001b[0m\u001b[0;34m\u001b[0m\u001b[0m\n\u001b[0m\u001b[1;32m      5\u001b[0m       \u001b[0mdata\u001b[0m \u001b[0;34m=\u001b[0m \u001b[0mjson\u001b[0m\u001b[0;34m.\u001b[0m\u001b[0mload\u001b[0m\u001b[0;34m(\u001b[0m\u001b[0mfile\u001b[0m\u001b[0;34m)\u001b[0m\u001b[0;34m\u001b[0m\u001b[0;34m\u001b[0m\u001b[0m\n\u001b[1;32m      6\u001b[0m     \u001b[0;32mreturn\u001b[0m \u001b[0mdata\u001b[0m\u001b[0;34m\u001b[0m\u001b[0;34m\u001b[0m\u001b[0m\n",
            "\u001b[0;31mTypeError\u001b[0m: open() takes 1 positional argument but 2 were given"
          ]
        }
      ]
    },
    {
      "cell_type": "code",
      "source": [
        "train[0]"
      ],
      "metadata": {
        "id": "UVc0RbJTqTVR"
      },
      "execution_count": null,
      "outputs": []
    },
    {
      "cell_type": "code",
      "source": [
        "# 문장단위로 명사만 추출해 학습 입력 데이터로 만듬\n",
        "print('2) 형태소에서 명사만 추출 시작')\n",
        "komoran = #Komoran()\n",
        "docs = [komoran.nouns(sentence[\"sentence\"]) for sentence in train]\n",
        "print('2) 형태소에서 명사만 추출 완료: ', time.time() - start)"
      ],
      "metadata": {
        "id": "5RP5lxQkqTTK"
      },
      "execution_count": null,
      "outputs": []
    },
    {
      "cell_type": "code",
      "source": [
        "# word2vec 모델 학습\n",
        "print('3) word2vec 모델 학습 시작')\n",
        "model = Word2Vec(sentences=docs, vector_size=200, window=4, min_count=2, sg=1) # skip-gram\n",
        "print('3) word2vec 모델 학습 완료: ', time.time() - start)"
      ],
      "metadata": {
        "id": "CxQ1DgC3qTQ1"
      },
      "execution_count": null,
      "outputs": []
    },
    {
      "cell_type": "code",
      "source": [
        "# 모델 저장\n",
        "print('4) 학습된 모델 저장 시작')\n",
        "model.save('nvmc.model')\n",
        "print('4) 학습된 모델 저장 완료: ', time.time() - start)\n",
        "\n",
        "# 학습된 말뭉치 개수, 코퍼스 내 전체 단어 개수\n",
        "print(\"corpus_count : \", model.corpus_count)\n",
        "print(\"corpus_total_words : \", model.corpus_total_words)"
      ],
      "metadata": {
        "id": "7C7SjP8JqTOV"
      },
      "execution_count": null,
      "outputs": []
    },
    {
      "cell_type": "code",
      "source": [
        "# 모델 로딩\n",
        "model = Word2Vec.load('nvmc.model')\n",
        "print(\"corpus_total_words : \", model.corpus_total_words)"
      ],
      "metadata": {
        "id": "Hw9t5sY0qTHR"
      },
      "execution_count": null,
      "outputs": []
    },
    {
      "cell_type": "code",
      "source": [
        "# 가장 유사한 단어 추출\n",
        "print(model.wv.most_similar(\"퀘스트\", topn=5))\n",
        "print(model.wv.most_similar(\"사냥\", topn=5))"
      ],
      "metadata": {
        "id": "dBQkn9Fm6toN"
      },
      "execution_count": null,
      "outputs": []
    },
    {
      "cell_type": "code",
      "source": [],
      "metadata": {
        "id": "S1AAE1GB6wA6"
      },
      "execution_count": null,
      "outputs": []
    },
    {
      "cell_type": "code",
      "source": [],
      "metadata": {
        "id": "a4stCzqR6vT4"
      },
      "execution_count": null,
      "outputs": []
    },
    {
      "cell_type": "code",
      "source": [],
      "metadata": {
        "id": "g4UtGrUh6vRi"
      },
      "execution_count": null,
      "outputs": []
    },
    {
      "cell_type": "code",
      "source": [],
      "metadata": {
        "id": "tWQF6VM86vPX"
      },
      "execution_count": null,
      "outputs": []
    },
    {
      "cell_type": "code",
      "source": [],
      "metadata": {
        "id": "Yoh-f5y36vM_"
      },
      "execution_count": null,
      "outputs": []
    },
    {
      "cell_type": "code",
      "source": [],
      "metadata": {
        "id": "yr5dcon56vGf"
      },
      "execution_count": null,
      "outputs": []
    }
  ]
}