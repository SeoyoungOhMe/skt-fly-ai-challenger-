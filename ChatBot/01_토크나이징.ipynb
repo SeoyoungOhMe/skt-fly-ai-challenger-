{
  "nbformat": 4,
  "nbformat_minor": 0,
  "metadata": {
    "colab": {
      "provenance": [],
      "include_colab_link": true
    },
    "kernelspec": {
      "name": "python3",
      "display_name": "Python 3"
    },
    "language_info": {
      "name": "python"
    }
  },
  "cells": [
    {
      "cell_type": "markdown",
      "metadata": {
        "id": "view-in-github",
        "colab_type": "text"
      },
      "source": [
        "<a href=\"https://colab.research.google.com/github/SeoyoungOhMe/skt-fly-ai-challenger-class/blob/master/01_%ED%86%A0%ED%81%AC%EB%82%98%EC%9D%B4%EC%A7%95.ipynb\" target=\"_parent\"><img src=\"https://colab.research.google.com/assets/colab-badge.svg\" alt=\"Open In Colab\"/></a>"
      ]
    },
    {
      "cell_type": "code",
      "execution_count": null,
      "metadata": {
        "id": "NSIP3IsgOT9c",
        "colab": {
          "base_uri": "https://localhost:8080/"
        },
        "outputId": "8d3d2d45-1628-401f-9e10-986786181380"
      },
      "outputs": [
        {
          "output_type": "stream",
          "name": "stdout",
          "text": [
            "Collecting konlpy\n",
            "  Downloading konlpy-0.6.0-py2.py3-none-any.whl (19.4 MB)\n",
            "\u001b[2K     \u001b[90m━━━━━━━━━━━━━━━━━━━━━━━━━━━━━━━━━━━━━━━━\u001b[0m \u001b[32m19.4/19.4 MB\u001b[0m \u001b[31m45.3 MB/s\u001b[0m eta \u001b[36m0:00:00\u001b[0m\n",
            "\u001b[?25hCollecting JPype1>=0.7.0 (from konlpy)\n",
            "  Downloading JPype1-1.5.0-cp310-cp310-manylinux_2_17_x86_64.manylinux2014_x86_64.whl (488 kB)\n",
            "\u001b[2K     \u001b[90m━━━━━━━━━━━━━━━━━━━━━━━━━━━━━━━━━━━━━━━━\u001b[0m \u001b[32m488.6/488.6 kB\u001b[0m \u001b[31m25.3 MB/s\u001b[0m eta \u001b[36m0:00:00\u001b[0m\n",
            "\u001b[?25hRequirement already satisfied: lxml>=4.1.0 in /usr/local/lib/python3.10/dist-packages (from konlpy) (4.9.4)\n",
            "Requirement already satisfied: numpy>=1.6 in /usr/local/lib/python3.10/dist-packages (from konlpy) (1.23.5)\n",
            "Requirement already satisfied: packaging in /usr/local/lib/python3.10/dist-packages (from JPype1>=0.7.0->konlpy) (23.2)\n",
            "Installing collected packages: JPype1, konlpy\n",
            "Successfully installed JPype1-1.5.0 konlpy-0.6.0\n"
          ]
        }
      ],
      "source": [
        "!pip install konlpy"
      ]
    },
    {
      "cell_type": "code",
      "source": [
        "from konlpy.tag import Kkma\n",
        "kkma = Kkma()\n",
        "text = \"오늘 FlyAI 챗봇 프로그래밍 교육을 듣다.\""
      ],
      "metadata": {
        "id": "piiwSGwmDwAA"
      },
      "execution_count": null,
      "outputs": []
    },
    {
      "cell_type": "code",
      "source": [
        "# 형태소 추출\n",
        "morphs = kkma.morphs(text)\n",
        "print(morphs)"
      ],
      "metadata": {
        "colab": {
          "base_uri": "https://localhost:8080/"
        },
        "id": "uWPKWhNmF-FE",
        "outputId": "bb455460-e4a7-4281-f5b3-8350700322c0"
      },
      "execution_count": null,
      "outputs": [
        {
          "output_type": "stream",
          "name": "stdout",
          "text": [
            "['오늘', 'FlyAI', '챗봇', '프로그래밍', '교육', '을', '듣', '다', '.']\n"
          ]
        }
      ]
    },
    {
      "cell_type": "code",
      "source": [
        "# 형태소와 품사 태그 추출\n",
        "pos = kkma.pos(text)\n",
        "print(pos)"
      ],
      "metadata": {
        "colab": {
          "base_uri": "https://localhost:8080/"
        },
        "id": "uoPYtwlDF9c5",
        "outputId": "e610cce5-b9f4-456a-fbea-062f9cb0be18"
      },
      "execution_count": null,
      "outputs": [
        {
          "output_type": "stream",
          "name": "stdout",
          "text": [
            "[('오늘', 'NNG'), ('FlyAI', 'OL'), ('챗봇', 'UN'), ('프로그래밍', 'NNG'), ('교육', 'NNG'), ('을', 'JKO'), ('듣', 'VV'), ('다', 'EFN'), ('.', 'SF')]\n"
          ]
        }
      ]
    },
    {
      "cell_type": "code",
      "source": [
        "nouns = kkma.nouns(text)\n",
        "print(nouns)"
      ],
      "metadata": {
        "colab": {
          "base_uri": "https://localhost:8080/"
        },
        "id": "9jSpvE7FGLJS",
        "outputId": "351cc6c3-069e-4285-91f1-6a188302906c"
      },
      "execution_count": null,
      "outputs": [
        {
          "output_type": "stream",
          "name": "stdout",
          "text": [
            "['오늘', '챗봇', '프로그래밍', '교육']\n"
          ]
        }
      ]
    },
    {
      "cell_type": "code",
      "source": [
        "# 문장 분리\n",
        "sentences = \"오늘 날씨는 어때요? 내일은 덥다던데.\"\n",
        "s = kkma.sentences(sentences)\n",
        "print(s)"
      ],
      "metadata": {
        "colab": {
          "base_uri": "https://localhost:8080/"
        },
        "id": "j5WqkoPAGOAg",
        "outputId": "1b558036-3c25-4f51-85df-979417937da2"
      },
      "execution_count": null,
      "outputs": [
        {
          "output_type": "stream",
          "name": "stdout",
          "text": [
            "['오늘 날씨는 어 때요?', '내일은 덥다 던데.']\n"
          ]
        }
      ]
    },
    {
      "cell_type": "code",
      "source": [
        "# konlpy.tag 패키지의 Komoran 모듈 불러오기\n",
        "from konlpy.tag import Komoran\n",
        "# 코모란 형태소 분석기 객체 생성\n",
        "Komoran = Komoran()\n",
        "text = \"오늘 FlyAI 챗봇 프로그래밍 교육을 듣다.\""
      ],
      "metadata": {
        "id": "sYo9-wHPGYQB"
      },
      "execution_count": null,
      "outputs": []
    },
    {
      "cell_type": "code",
      "source": [
        "# 형태소 추출\n",
        "morphs = Komoran.morphs(text)\n",
        "print(morphs)"
      ],
      "metadata": {
        "colab": {
          "base_uri": "https://localhost:8080/"
        },
        "id": "nXeb0BjLGYNw",
        "outputId": "737d1619-9e77-4fbd-989f-1f05b1694959"
      },
      "execution_count": null,
      "outputs": [
        {
          "output_type": "stream",
          "name": "stdout",
          "text": [
            "['오늘', 'FlyAI', '챗봇', '프로그래밍', '교육', '을', '듣', '다', '.']\n"
          ]
        }
      ]
    },
    {
      "cell_type": "code",
      "source": [
        "# 형태소와 품사 태그 추출\n",
        "pos = Komoran.pos(text)\n",
        "print(pos)"
      ],
      "metadata": {
        "colab": {
          "base_uri": "https://localhost:8080/"
        },
        "id": "HDNir3XSGYLd",
        "outputId": "407e1938-e14d-4828-d37d-a8bddd3bc50c"
      },
      "execution_count": null,
      "outputs": [
        {
          "output_type": "stream",
          "name": "stdout",
          "text": [
            "[('오늘', 'NNG'), ('FlyAI', 'SL'), ('챗봇', 'NA'), ('프로그래밍', 'NNP'), ('교육', 'NNG'), ('을', 'JKO'), ('듣', 'VV'), ('다', 'EF'), ('.', 'SF')]\n"
          ]
        }
      ]
    },
    {
      "cell_type": "code",
      "source": [
        "# 명사만 추출\n",
        "nouns = Komoran.nouns(text)\n",
        "print(nouns)"
      ],
      "metadata": {
        "colab": {
          "base_uri": "https://localhost:8080/"
        },
        "id": "VeRGad-sGYJK",
        "outputId": "ea77c970-4fd6-4ed1-d40a-d95997712b43"
      },
      "execution_count": null,
      "outputs": [
        {
          "output_type": "stream",
          "name": "stdout",
          "text": [
            "['오늘', '프로그래밍', '교육']\n"
          ]
        }
      ]
    },
    {
      "cell_type": "code",
      "source": [
        "# konlpy.tag 패키지의 Okt 모듈 불러오기\n",
        "from konlpy.tag import Okt\n",
        "# Okt 형태소 분석기 객체 생성\n",
        "okt = Okt()\n",
        "text = \"오늘 FlyAI 챗봇 프로그래밍 교육을 듣다.\""
      ],
      "metadata": {
        "id": "FaMNO_CLGYGp"
      },
      "execution_count": null,
      "outputs": []
    },
    {
      "cell_type": "code",
      "source": [
        "# 형태소 추출\n",
        "morphs = okt.morphs(text)\n",
        "print(morphs)"
      ],
      "metadata": {
        "colab": {
          "base_uri": "https://localhost:8080/"
        },
        "id": "EBiyB_uzIcH-",
        "outputId": "99fca905-aff0-4b5b-93b2-50683116ef53"
      },
      "execution_count": null,
      "outputs": [
        {
          "output_type": "stream",
          "name": "stdout",
          "text": [
            "['오늘', 'FlyAI', '챗봇', '프로그래밍', '교육', '을', '듣다', '.']\n"
          ]
        }
      ]
    },
    {
      "cell_type": "code",
      "source": [
        "# 형태소와 품사 태그 추출\n",
        "pos = okt.pos(text)\n",
        "print(pos)"
      ],
      "metadata": {
        "colab": {
          "base_uri": "https://localhost:8080/"
        },
        "id": "1JlBPp90IcF2",
        "outputId": "79fa9bf2-ad85-420f-d37d-1419f7be2dbc"
      },
      "execution_count": null,
      "outputs": [
        {
          "output_type": "stream",
          "name": "stdout",
          "text": [
            "[('오늘', 'Noun'), ('FlyAI', 'Alpha'), ('챗봇', 'Noun'), ('프로그래밍', 'Noun'), ('교육', 'Noun'), ('을', 'Josa'), ('듣다', 'Verb'), ('.', 'Punctuation')]\n"
          ]
        }
      ]
    },
    {
      "cell_type": "code",
      "source": [
        "# 명사만 추출\n",
        "nouns = okt.nouns(text)\n",
        "print(nouns)"
      ],
      "metadata": {
        "colab": {
          "base_uri": "https://localhost:8080/"
        },
        "id": "v7BbBe1HIcDr",
        "outputId": "c5d5d3e3-0691-4742-d977-56daae08e230"
      },
      "execution_count": null,
      "outputs": [
        {
          "output_type": "stream",
          "name": "stdout",
          "text": [
            "['오늘', '챗봇', '프로그래밍', '교육']\n"
          ]
        }
      ]
    },
    {
      "cell_type": "code",
      "source": [
        "# 정규화, 어구 추출\n",
        "text = \"오늘 날씨가 좋아욬ㅋㅋ\"\n",
        "print(okt.normalize(text))\n",
        "print(okt.phrases(text))"
      ],
      "metadata": {
        "colab": {
          "base_uri": "https://localhost:8080/"
        },
        "id": "OVuFIzS4IcBY",
        "outputId": "7976ec58-6401-4aab-d2dd-438ed3397706"
      },
      "execution_count": null,
      "outputs": [
        {
          "output_type": "stream",
          "name": "stdout",
          "text": [
            "오늘 날씨가 좋아요ㅋㅋ\n",
            "['오늘', '오늘 날씨', '좋아욬', '날씨']\n"
          ]
        }
      ]
    },
    {
      "cell_type": "code",
      "source": [
        "from konlpy.tag import Komoran\n",
        "komoran = Komoran()\n",
        "text = \"우리 챗봇은 엔엘피를 좋아해\"\n",
        "pos = komoran.pos(text)\n",
        "print(pos)"
      ],
      "metadata": {
        "colab": {
          "base_uri": "https://localhost:8080/"
        },
        "id": "nptKf3XIIb_D",
        "outputId": "02456e51-ca3f-49a1-801b-4e65557b0a0b"
      },
      "execution_count": null,
      "outputs": [
        {
          "output_type": "stream",
          "name": "stdout",
          "text": [
            "[('우리', 'NP'), ('챗봇은', 'NA'), ('엔', 'NNB'), ('엘', 'NNP'), ('피', 'NNG'), ('를', 'JKO'), ('좋아하', 'VV'), ('아', 'EC')]\n"
          ]
        }
      ]
    },
    {
      "cell_type": "code",
      "source": [
        "from konlpy.tag import Komoran\n",
        "komoran = Komoran(userdic='./user_dic.tsv')\n",
        "text = \"우리 챗봇은 엔엘피를 좋아해\"\n",
        "pos = komoran.pos(text)\n",
        "print(pos)"
      ],
      "metadata": {
        "colab": {
          "base_uri": "https://localhost:8080/"
        },
        "id": "NFYCzS_PIb8t",
        "outputId": "e203b2de-abab-48c3-c43f-2f79838f50d2"
      },
      "execution_count": null,
      "outputs": [
        {
          "output_type": "stream",
          "name": "stdout",
          "text": [
            "[('우리', 'NP'), ('챗봇은', 'NA'), ('엔엘피', 'NNG'), ('를', 'JKO'), ('좋아하', 'VV'), ('아', 'EC')]\n"
          ]
        }
      ]
    },
    {
      "cell_type": "code",
      "source": [
        "from konlpy.tag import Komoran\n",
        "komoran = Komoran(userdic='./jeju_dic.tsv')\n",
        "text = \"멀리서 보면 희극, 가차이서 보면 비극\"\n",
        "pos = komoran.pos(text)\n",
        "print(pos)"
      ],
      "metadata": {
        "colab": {
          "base_uri": "https://localhost:8080/"
        },
        "id": "fl66XqskIpWj",
        "outputId": "db9910d2-3449-4bf5-e087-3082054ed005"
      },
      "execution_count": null,
      "outputs": [
        {
          "output_type": "stream",
          "name": "stdout",
          "text": [
            "[('멀리', 'MAG'), ('서', 'JKB'), ('보', 'VV'), ('면', 'EC'), ('희극', 'NNP'), (',', 'SP'), ('가차', 'NNG'), ('이서', 'NNP'), ('보', 'VV'), ('면', 'EC'), ('비극', 'NNP')]\n"
          ]
        }
      ]
    },
    {
      "cell_type": "code",
      "source": [
        "from konlpy.tag import Komoran\n",
        "komoran = Komoran(userdic='./jeju_dic.tsv')\n",
        "text = \"쉐 이으고 쇠막사리 고찌다\"\n",
        "pos = komoran.pos(text)\n",
        "print(pos)"
      ],
      "metadata": {
        "colab": {
          "base_uri": "https://localhost:8080/"
        },
        "id": "CPVP3Gw5IpUB",
        "outputId": "90971b4f-cfd5-4209-9295-b3933745f6a2"
      },
      "execution_count": null,
      "outputs": [
        {
          "output_type": "stream",
          "name": "stdout",
          "text": [
            "[('쉐', 'NA'), ('잇', 'VV'), ('고', 'EC'), ('쇠', 'NNG'), ('막', 'NNG'), ('사리', 'NNP'), ('고', 'XPN'), ('찌', 'VV'), ('다', 'EC')]\n"
          ]
        }
      ]
    },
    {
      "cell_type": "code",
      "source": [],
      "metadata": {
        "id": "nZKpGdRXIpRi"
      },
      "execution_count": null,
      "outputs": []
    },
    {
      "cell_type": "code",
      "source": [],
      "metadata": {
        "id": "rsgznRDEIpOu"
      },
      "execution_count": null,
      "outputs": []
    }
  ]
}