{
  "cells": [
    {
      "cell_type": "markdown",
      "metadata": {
        "id": "view-in-github",
        "colab_type": "text"
      },
      "source": [
        "<a href=\"https://colab.research.google.com/github/SeoyoungOhMe/skt-fly-ai-challenger-class/blob/master/example_policy_eval_gridworld.ipynb\" target=\"_parent\"><img src=\"https://colab.research.google.com/assets/colab-badge.svg\" alt=\"Open In Colab\"/></a>"
      ]
    },
    {
      "cell_type": "markdown",
      "metadata": {
        "id": "abe37352-4a88-4c11-b7db-c14b3afb7599"
      },
      "source": [
        "# The Simple Gridworld Problem"
      ],
      "id": "abe37352-4a88-4c11-b7db-c14b3afb7599"
    },
    {
      "cell_type": "code",
      "execution_count": null,
      "metadata": {
        "colab": {
          "background_save": true,
          "base_uri": "https://localhost:8080/"
        },
        "id": "4963df85-6833-4292-b163-a0971ae7c056",
        "outputId": "e9fc430c-c858-42db-bc42-65861a414166"
      },
      "outputs": [
        {
          "data": {
            "text/plain": [
              "(4, 12, 12)"
            ]
          },
          "execution_count": 1,
          "metadata": {},
          "output_type": "execute_result"
        }
      ],
      "source": [
        "import numpy as np\n",
        "\n",
        "P = np.array([\n",
        "    # up\n",
        "    # 0  1  2  3. 4. 5. 6. 7. 8. 9. 10.11\n",
        "    [[1, 0, 0, 0, 0, 0, 0, 0, 0, 0, 0, 0],\n",
        "     [0, 1, 0, 0, 0, 0, 0, 0, 0, 0, 0, 0],\n",
        "     [0, 0, 1, 0, 0, 0, 0, 0, 0, 0, 0, 0],\n",
        "     [0, 0, 0, 1, 0, 0, 0, 0, 0, 0, 0, 0],\n",
        "     [1, 0, 0, 0, 0, 0, 0, 0, 0, 0, 0, 0],\n",
        "     [0, 0, 0, 0, 1, 0, 0, 0, 0, 0, 0, 0],\n",
        "     [0, 0, 0, 0, 0, 0, 1, 0, 0, 0, 0, 0],\n",
        "     [0, 0, 0, 0, 0, 1, 0, 0, 0, 0, 0, 0],\n",
        "     [0, 0, 0, 0, 0, 0, 1, 0, 0, 0, 0, 0],\n",
        "     [0, 0, 0, 0, 0, 0, 0, 0, 0, 1, 0, 0],\n",
        "     [0, 0, 0, 0, 0, 0, 0, 0, 0, 0, 0, 1],\n",
        "     [0, 0, 0, 0, 0, 0, 0, 0, 0, 0, 0, 1]],\n",
        "\n",
        "    # down\n",
        "    # 0  1  2  3. 4. 5. 6. 7. 8. 9. 10.11\n",
        "    [[0, 0, 0, 0, 1, 0, 0, 0, 0, 0, 0, 0],\n",
        "     [0, 1, 0, 0, 0, 0, 0, 0, 0, 0, 0, 0],\n",
        "     [0, 0, 1, 0, 0, 0, 0, 0, 0, 0, 0, 0],\n",
        "     [0, 0, 0, 1, 0, 0, 0, 0, 0, 0, 0, 0],\n",
        "     [0, 0, 0, 0, 0, 1, 0, 0, 0, 0, 0, 0],\n",
        "     [0, 0, 0, 0, 0, 0, 0, 1, 0, 0, 0, 0],\n",
        "     [0, 0, 0, 0, 0, 0, 0, 0, 1, 0, 0, 0],\n",
        "     [0, 0, 0, 0, 0, 0, 0, 1, 0, 0, 0, 0],\n",
        "     [0, 0, 0, 0, 0, 0, 0, 0, 1, 0, 0, 0],\n",
        "     [0, 0, 0, 0, 0, 0, 0, 0, 0, 1, 0, 0],\n",
        "     [0, 0, 0, 0, 0, 0, 0, 0, 0, 0, 1, 0],\n",
        "     [0, 0, 0, 0, 0, 0, 0, 0, 0, 0, 1, 0]],\n",
        "\n",
        "    # left\n",
        "    # 0  1  2  3. 4. 5. 6. 7. 8. 9. 10.11\n",
        "    [[1, 0, 0, 0, 0, 0, 0, 0, 0, 0, 0, 0],\n",
        "     [1, 0, 0, 0, 0, 0, 0, 0, 0, 0, 0, 0],\n",
        "     [0, 1, 0, 0, 0, 0, 0, 0, 0, 0, 0, 0],\n",
        "     [0, 0, 1, 0, 0, 0, 0, 0, 0, 0, 0, 0],\n",
        "     [0, 0, 0, 0, 1, 0, 0, 0, 0, 0, 0, 0],\n",
        "     [0, 0, 0, 0, 0, 1, 0, 0, 0, 0, 0, 0],\n",
        "     [0, 0, 0, 0, 0, 1, 0, 0, 0, 0, 0, 0],\n",
        "     [0, 0, 0, 0, 0, 0, 0, 1, 0, 0, 0, 0],\n",
        "     [0, 0, 0, 0, 0, 0, 0, 1, 0, 0, 0, 0],\n",
        "     [0, 0, 0, 0, 0, 0, 0, 0, 1, 0, 0, 0],\n",
        "     [0, 0, 0, 0, 0, 0, 0, 0, 0, 1, 0, 0],\n",
        "     [0, 0, 0, 0, 0, 0, 0, 0, 0, 0, 0, 1]],\n",
        "\n",
        "    # right\n",
        "    # 0  1  2  3. 4. 5. 6. 7. 8. 9. 10.11\n",
        "    [[0, 1, 0, 0, 0, 0, 0, 0, 0, 0, 0, 0],\n",
        "     [0, 0, 1, 0, 0, 0, 0, 0, 0, 0, 0, 0],\n",
        "     [0, 0, 0, 1, 0, 0, 0, 0, 0, 0, 0, 0],\n",
        "     [0, 0, 0, 0, 1, 0, 0, 0, 0, 0, 0, 0],\n",
        "     [0, 0, 0, 0, 0, 0, 1, 0, 0, 0, 0, 0],\n",
        "     [0, 0, 0, 0, 0, 0, 1, 0, 0, 0, 0, 0],\n",
        "     [0, 0, 0, 0, 0, 0, 0, 1, 0, 0, 0, 0],\n",
        "     [0, 0, 0, 0, 0, 0, 0, 0, 1, 0, 0, 0],\n",
        "     [0, 0, 0, 0, 0, 0, 0, 0, 0, 1, 0, 0],\n",
        "     [0, 0, 0, 0, 0, 0, 0, 0, 0, 0, 1, 0],\n",
        "     [0, 0, 0, 0, 0, 0, 0, 0, 0, 0, 1, 0],\n",
        "     [0, 0, 0, 0, 0, 0, 0, 0, 0, 0, 0, 1]],], dtype='float32')\n",
        "\n",
        "P.shape"
      ],
      "id": "4963df85-6833-4292-b163-a0971ae7c056"
    },
    {
      "cell_type": "code",
      "execution_count": null,
      "metadata": {
        "colab": {
          "background_save": true
        },
        "id": "7a1e1a68-a51e-42a3-979a-2820637cdb46"
      },
      "outputs": [],
      "source": [
        "P = P.transpose(1, 0, 2)"
      ],
      "id": "7a1e1a68-a51e-42a3-979a-2820637cdb46"
    },
    {
      "cell_type": "code",
      "execution_count": null,
      "metadata": {
        "colab": {
          "background_save": true,
          "base_uri": "https://localhost:8080/"
        },
        "id": "86b6143f-dd03-4c30-b617-0f1e38fe967b",
        "outputId": "f84520d7-46f9-4a59-8f07-b93c5f13ee00"
      },
      "outputs": [
        {
          "data": {
            "text/plain": [
              "(12, 4, 12)"
            ]
          },
          "execution_count": 3,
          "metadata": {},
          "output_type": "execute_result"
        }
      ],
      "source": [
        "P.shape"
      ],
      "id": "86b6143f-dd03-4c30-b617-0f1e38fe967b"
    },
    {
      "cell_type": "code",
      "execution_count": null,
      "metadata": {
        "colab": {
          "background_save": true
        },
        "id": "3ce09b51-cf71-4e8e-b520-57de84fa68ac"
      },
      "outputs": [],
      "source": [
        "R = np.array([\n",
        "    # 0  1    2   3.  4.  5.  6.  7.  8.  9.  10. 11\n",
        "    [-1, -1, -1, -1, -1, -1, -1, -1, -1, -1,  1,  1], # up\n",
        "    [ 1, -1, -1, -1,  1,  1,  1, -1, -1, -1,  1, -1], # down\n",
        "    [-1,  1,  1,  1, -1, -1, -1, -1, -1, -1, -1, -1], # left\n",
        "    [-1, -1, -1, -1, -1, -1, -1,  1,  1,  1, -1, -1]], #right\n",
        "    dtype='float32')"
      ],
      "id": "3ce09b51-cf71-4e8e-b520-57de84fa68ac"
    },
    {
      "cell_type": "code",
      "execution_count": null,
      "metadata": {
        "colab": {
          "background_save": true,
          "base_uri": "https://localhost:8080/"
        },
        "id": "b3e28746-7410-4bff-9536-4881de76bc7a",
        "outputId": "92cf0d69-651c-4613-b9cc-e3c2eea67767"
      },
      "outputs": [
        {
          "data": {
            "text/plain": [
              "(4, 12)"
            ]
          },
          "execution_count": 5,
          "metadata": {},
          "output_type": "execute_result"
        }
      ],
      "source": [
        "R.shape"
      ],
      "id": "b3e28746-7410-4bff-9536-4881de76bc7a"
    },
    {
      "cell_type": "code",
      "execution_count": null,
      "metadata": {
        "colab": {
          "background_save": true
        },
        "id": "55e5d7a5-5312-4313-8949-44d0b4564dc8"
      },
      "outputs": [],
      "source": [
        "R = R.transpose()"
      ],
      "id": "55e5d7a5-5312-4313-8949-44d0b4564dc8"
    },
    {
      "cell_type": "code",
      "execution_count": null,
      "metadata": {
        "colab": {
          "background_save": true,
          "base_uri": "https://localhost:8080/"
        },
        "id": "ec0efe69-4c45-4a44-b4b9-e818b2d206a8",
        "outputId": "711c76e4-2e46-4cb3-fefc-060325c4eb1a"
      },
      "outputs": [
        {
          "data": {
            "text/plain": [
              "(12, 4)"
            ]
          },
          "execution_count": 7,
          "metadata": {},
          "output_type": "execute_result"
        }
      ],
      "source": [
        "R.shape"
      ],
      "id": "ec0efe69-4c45-4a44-b4b9-e818b2d206a8"
    },
    {
      "cell_type": "code",
      "execution_count": null,
      "metadata": {
        "colab": {
          "background_save": true
        },
        "id": "9f13bbae-9c52-4ca5-92ea-8da4b2618604"
      },
      "outputs": [],
      "source": [
        "pi = np.ones((15, 4), dtype='float32') * 0.25"
      ],
      "id": "9f13bbae-9c52-4ca5-92ea-8da4b2618604"
    },
    {
      "cell_type": "code",
      "execution_count": null,
      "metadata": {
        "colab": {
          "background_save": true,
          "base_uri": "https://localhost:8080/"
        },
        "id": "64a52d91-e7c2-46a2-bed7-b160d51423b1",
        "outputId": "041ac202-d171-4d64-cf4b-7baf11cc968e"
      },
      "outputs": [
        {
          "data": {
            "text/plain": [
              "(15, 4)"
            ]
          },
          "execution_count": 9,
          "metadata": {},
          "output_type": "execute_result"
        }
      ],
      "source": [
        "pi.shape"
      ],
      "id": "64a52d91-e7c2-46a2-bed7-b160d51423b1"
    },
    {
      "cell_type": "markdown",
      "metadata": {
        "id": "653cf068-a4fa-4c61-938b-03821f02b244"
      },
      "source": [
        "### In summary,"
      ],
      "id": "653cf068-a4fa-4c61-938b-03821f02b244"
    },
    {
      "cell_type": "code",
      "execution_count": null,
      "metadata": {
        "colab": {
          "background_save": true,
          "base_uri": "https://localhost:8080/"
        },
        "id": "9621be64-6454-46d5-89c9-4a7159fbc40a",
        "outputId": "0bc7ff3c-e543-4d01-d54f-d13385871e81"
      },
      "outputs": [
        {
          "name": "stdout",
          "output_type": "stream",
          "text": [
            "[[-1.7497171   0.2512421  -1.7497171  -1.7499228 ]\n",
            " [-1.7499228  -1.7499228   0.25028288 -1.7499228 ]\n",
            " [-1.7499228  -1.7499228   0.2500773  -1.7497171 ]\n",
            " [-1.7497171  -1.7497171   0.2500773  -1.7487578 ]\n",
            " [-1.7497171   0.2519244  -1.7487578  -1.7451689 ]\n",
            " [-1.7487578   0.25483102 -1.7480756  -1.7451689 ]\n",
            " [-1.7451689   0.27061975 -1.7480756  -1.7451689 ]\n",
            " [-1.7480756  -1.7451689  -1.7451689   0.27061975]\n",
            " [-1.7451689  -1.7293802  -1.7451689   0.35718274]\n",
            " [-1.6428173  -1.6428173  -1.7293802   0.7295659 ]\n",
            " [ 0.38079077  0.7295659  -1.6428173  -1.2704341 ]\n",
            " [ 0.38079077 -1.2704341  -1.6192093  -1.6192093 ]]\n",
            "[[0.49999952 2.4999995  0.49999952 0.49999952]\n",
            " [0.49999952 0.49999952 2.4999995  0.49999952]\n",
            " [0.49999952 0.49999952 2.4999995  0.49999952]\n",
            " [0.49999952 0.49999952 2.4999995  0.49999952]\n",
            " [0.49999952 2.4999995  0.49999952 0.49999952]\n",
            " [0.49999952 2.4999995  0.49999952 0.49999952]\n",
            " [0.49999952 2.4999995  0.49999952 0.49999952]\n",
            " [0.49999952 0.49999952 0.49999952 2.4999995 ]\n",
            " [0.49999952 0.49999952 0.49999952 2.4999995 ]\n",
            " [0.49999952 0.49999952 0.49999952 2.4999995 ]\n",
            " [2.4999995  2.4999995  0.49999952 0.49999952]\n",
            " [2.4999995  0.49999952 0.49999952 0.49999952]]\n",
            "[[0.49999952 2.4999995  0.49999952 0.49999952]\n",
            " [0.49999952 0.49999952 2.4999995  0.49999952]\n",
            " [0.49999952 0.49999952 2.4999995  0.49999952]\n",
            " [0.49999952 0.49999952 2.4999995  0.49999952]\n",
            " [0.49999952 2.4999995  0.49999952 0.49999952]\n",
            " [0.49999952 2.4999995  0.49999952 0.49999952]\n",
            " [0.49999952 2.4999995  0.49999952 0.49999952]\n",
            " [0.49999952 0.49999952 0.49999952 2.4999995 ]\n",
            " [0.49999952 0.49999952 0.49999952 2.4999995 ]\n",
            " [0.49999952 0.49999952 0.49999952 2.4999995 ]\n",
            " [2.4999995  2.4999995  0.49999952 0.49999952]\n",
            " [2.4999995  0.49999952 0.49999952 0.49999952]]\n",
            "[[0. 1. 0. 0.]\n",
            " [0. 0. 1. 0.]\n",
            " [0. 0. 1. 0.]\n",
            " [0. 0. 1. 0.]\n",
            " [0. 1. 0. 0.]\n",
            " [0. 1. 0. 0.]\n",
            " [0. 1. 0. 0.]\n",
            " [0. 0. 0. 1.]\n",
            " [0. 0. 0. 1.]\n",
            " [0. 0. 0. 1.]\n",
            " [1. 0. 0. 0.]\n",
            " [1. 0. 0. 0.]]\n"
          ]
        }
      ],
      "source": [
        "def policy_eval(P, R, pi, maxiter=30):\n",
        "    V = np.zeros((maxiter, 12), dtype='float32')\n",
        "\n",
        "    for i in range(maxiter-1):\n",
        "        V[i+1] = np.squeeze(\n",
        "            np.matmul(\n",
        "                np.expand_dims( pi, 1 ),\n",
        "                np.expand_dims( R + 0.6 * np.dot(P, V[i]), 2 )))\n",
        "\n",
        "    return V[maxiter-1]\n",
        "\n",
        "def policy_upd(P, R, v):\n",
        "    print(np.squeeze(np.expand_dims( R + 0.6 * np.dot(P, v), 2 )))\n",
        "    a_idx = np.argmax(np.squeeze(np.expand_dims( R + 0.6 * np.dot(P, v), 2 )), axis=1)\n",
        "    pi = np.zeros((12, 4), dtype='float32')\n",
        "    pi[range(12), a_idx] = 1.\n",
        "    return pi\n",
        "\n",
        "pi_old = None\n",
        "pi = np.ones((12, 4), dtype='float32') * 0.25\n",
        "\n",
        "while not np.all(np.equal(pi_old, pi)):\n",
        "    pi_old = pi.copy()\n",
        "    v = policy_eval(P, R, pi)\n",
        "    pi = policy_upd(P, R, v)\n",
        "\n",
        "print(pi)"
      ],
      "id": "9621be64-6454-46d5-89c9-4a7159fbc40a"
    },
    {
      "cell_type": "code",
      "execution_count": null,
      "metadata": {
        "colab": {
          "background_save": true
        },
        "id": "80c01550-0ecb-4586-9840-7e035a1136aa"
      },
      "outputs": [],
      "source": [],
      "id": "80c01550-0ecb-4586-9840-7e035a1136aa"
    }
  ],
  "metadata": {
    "colab": {
      "provenance": [],
      "include_colab_link": true
    },
    "kernelspec": {
      "display_name": "Python 3 (ipykernel)",
      "language": "python",
      "name": "python3"
    },
    "language_info": {
      "codemirror_mode": {
        "name": "ipython",
        "version": 3
      },
      "file_extension": ".py",
      "mimetype": "text/x-python",
      "name": "python",
      "nbconvert_exporter": "python",
      "pygments_lexer": "ipython3",
      "version": "3.10.12"
    }
  },
  "nbformat": 4,
  "nbformat_minor": 5
}