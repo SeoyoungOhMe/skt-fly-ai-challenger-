{
  "nbformat": 4,
  "nbformat_minor": 0,
  "metadata": {
    "colab": {
      "provenance": [],
      "authorship_tag": "ABX9TyPSWBGd7wPWC42sHAMrPzJ9",
      "include_colab_link": true
    },
    "kernelspec": {
      "name": "python3",
      "display_name": "Python 3"
    },
    "language_info": {
      "name": "python"
    }
  },
  "cells": [
    {
      "cell_type": "markdown",
      "metadata": {
        "id": "view-in-github",
        "colab_type": "text"
      },
      "source": [
        "<a href=\"https://colab.research.google.com/github/SeoyoungOhMe/skt-fly-ai-challenger-class/blob/master/Optimization_with_Tensorflow_%EC%8B%A4%EC%8A%B5.ipynb\" target=\"_parent\"><img src=\"https://colab.research.google.com/assets/colab-badge.svg\" alt=\"Open In Colab\"/></a>"
      ]
    },
    {
      "cell_type": "code",
      "execution_count": 15,
      "metadata": {
        "colab": {
          "base_uri": "https://localhost:8080/"
        },
        "id": "Up6xDAnsX8-O",
        "outputId": "e6418b7d-c663-4735-db8b-ade1075aad82"
      },
      "outputs": [
        {
          "output_type": "stream",
          "name": "stdout",
          "text": [
            "tensor(0.1835, requires_grad=True) tensor(0.2842, requires_grad=True)\n",
            "tensor(1.3868, grad_fn=<AddBackward0>)\n"
          ]
        }
      ],
      "source": [
        "\n",
        "import torch\n",
        "from torch.autograd import Variable\n",
        "\n",
        "x = Variable(\n",
        " torch.tensor(1., dtype=torch.float32),\n",
        " requires_grad=True)\n",
        "y = Variable(\n",
        " torch.tensor(1., dtype=torch.float32),\n",
        " requires_grad=True)\n",
        "\n",
        "optimizer = torch.optim.SGD(params=[x, y], lr=0.001)\n",
        "\n",
        "EPOCHS = 100\n",
        "for epoch in range(EPOCHS):\n",
        "    f = 2*(x**2) + y**2 + torch.exp(4*x*y)\n",
        "    optimizer.zero_grad()\n",
        "    f.backward()\n",
        "    optimizer.step()\n",
        "\n",
        "print(x, y)\n",
        "print(f)"
      ]
    }
  ]
}