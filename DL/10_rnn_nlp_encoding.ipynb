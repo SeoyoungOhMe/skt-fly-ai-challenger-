{
  "nbformat": 4,
  "nbformat_minor": 0,
  "metadata": {
    "colab": {
      "provenance": [],
      "authorship_tag": "ABX9TyPIm3vC+lJfbzSDa53dKEik",
      "include_colab_link": true
    },
    "kernelspec": {
      "name": "python3",
      "display_name": "Python 3"
    },
    "language_info": {
      "name": "python"
    }
  },
  "cells": [
    {
      "cell_type": "markdown",
      "metadata": {
        "id": "view-in-github",
        "colab_type": "text"
      },
      "source": [
        "<a href=\"https://colab.research.google.com/github/SeoyoungOhMe/skt-fly-ai-challenger-class/blob/master/10_rnn_nlp_encoding.ipynb\" target=\"_parent\"><img src=\"https://colab.research.google.com/assets/colab-badge.svg\" alt=\"Open In Colab\"/></a>"
      ]
    },
    {
      "cell_type": "markdown",
      "source": [
        "# 자연어 인코딩"
      ],
      "metadata": {
        "id": "_GASwqpdrdMQ"
      }
    },
    {
      "cell_type": "markdown",
      "source": [
        "### 1.데이터준비"
      ],
      "metadata": {
        "id": "EQGOOUWdsE_j"
      }
    },
    {
      "cell_type": "code",
      "execution_count": 2,
      "metadata": {
        "id": "A7NrsPUVrZUn"
      },
      "outputs": [],
      "source": [
        "corpus = {\n",
        "    'I love my dog',\n",
        "    'I love my cat',\n",
        "    'You love my dog',\n",
        "    'Do you think my dog is amazing?'\n",
        "}"
      ]
    },
    {
      "cell_type": "markdown",
      "source": [
        "### 2.토큰나이저(Tokenizer)"
      ],
      "metadata": {
        "id": "C8Kz5PRxsAHw"
      }
    },
    {
      "cell_type": "code",
      "source": [
        "from tensorflow import keras\n",
        "from keras.preprocessing.text import Tokenizer\n",
        "\n",
        "tokenizer = Tokenizer(num_words=100, oov_token='<oov>')\n",
        "tokenizer.fit_on_texts(corpus)"
      ],
      "metadata": {
        "id": "iizK-AwYsCa0"
      },
      "execution_count": 5,
      "outputs": []
    },
    {
      "cell_type": "code",
      "source": [
        "tokenizer.word_index"
      ],
      "metadata": {
        "colab": {
          "base_uri": "https://localhost:8080/"
        },
        "id": "zv_hAICStGwe",
        "outputId": "8c521370-ec82-49c5-b6c6-81db8decae3b"
      },
      "execution_count": 6,
      "outputs": [
        {
          "output_type": "execute_result",
          "data": {
            "text/plain": [
              "{'<oov>': 1,\n",
              " 'my': 2,\n",
              " 'love': 3,\n",
              " 'dog': 4,\n",
              " 'i': 5,\n",
              " 'you': 6,\n",
              " 'cat': 7,\n",
              " 'do': 8,\n",
              " 'think': 9,\n",
              " 'is': 10,\n",
              " 'amazing': 11}"
            ]
          },
          "metadata": {},
          "execution_count": 6
        }
      ]
    },
    {
      "cell_type": "markdown",
      "source": [
        "### 3.시퀀스화"
      ],
      "metadata": {
        "id": "hzRYqb2ZuW7K"
      }
    },
    {
      "cell_type": "code",
      "source": [
        "sequence = tokenizer.texts_to_sequences(corpus)\n",
        "sequence"
      ],
      "metadata": {
        "colab": {
          "base_uri": "https://localhost:8080/"
        },
        "id": "Bs3aQAuJtavq",
        "outputId": "e9463eb0-907d-4f75-f5ab-c531a5e7f30c"
      },
      "execution_count": 7,
      "outputs": [
        {
          "output_type": "execute_result",
          "data": {
            "text/plain": [
              "[[5, 3, 2, 4], [5, 3, 2, 7], [8, 6, 9, 2, 4, 10, 11], [6, 3, 2, 4]]"
            ]
          },
          "metadata": {},
          "execution_count": 7
        }
      ]
    },
    {
      "cell_type": "code",
      "source": [
        "from keras.utils import pad_sequences\n",
        "\n",
        "paded = pad_sequences(sequence, maxlen=5, padding='pre')\n",
        "paded"
      ],
      "metadata": {
        "colab": {
          "base_uri": "https://localhost:8080/"
        },
        "id": "64lAlFMkt4Ru",
        "outputId": "8a78d12e-4888-48c6-9153-120bb2c75bb8"
      },
      "execution_count": 8,
      "outputs": [
        {
          "output_type": "execute_result",
          "data": {
            "text/plain": [
              "array([[ 0,  5,  3,  2,  4],\n",
              "       [ 0,  5,  3,  2,  7],\n",
              "       [ 9,  2,  4, 10, 11],\n",
              "       [ 0,  6,  3,  2,  4]], dtype=int32)"
            ]
          },
          "metadata": {},
          "execution_count": 8
        }
      ]
    },
    {
      "cell_type": "markdown",
      "source": [
        "### 4.임베딩"
      ],
      "metadata": {
        "id": "yAckIcj4w5nR"
      }
    },
    {
      "cell_type": "code",
      "source": [
        "from keras.utils import to_categorical\n",
        "\n",
        "paded_o = to_categorical(paded)\n",
        "paded_o"
      ],
      "metadata": {
        "colab": {
          "base_uri": "https://localhost:8080/"
        },
        "id": "XNZzIciQvC-I",
        "outputId": "b1d82ab8-18d5-4ea2-d475-212ce8c0306a"
      },
      "execution_count": 9,
      "outputs": [
        {
          "output_type": "execute_result",
          "data": {
            "text/plain": [
              "array([[[1., 0., 0., 0., 0., 0., 0., 0., 0., 0., 0., 0.],\n",
              "        [0., 0., 0., 0., 0., 1., 0., 0., 0., 0., 0., 0.],\n",
              "        [0., 0., 0., 1., 0., 0., 0., 0., 0., 0., 0., 0.],\n",
              "        [0., 0., 1., 0., 0., 0., 0., 0., 0., 0., 0., 0.],\n",
              "        [0., 0., 0., 0., 1., 0., 0., 0., 0., 0., 0., 0.]],\n",
              "\n",
              "       [[1., 0., 0., 0., 0., 0., 0., 0., 0., 0., 0., 0.],\n",
              "        [0., 0., 0., 0., 0., 1., 0., 0., 0., 0., 0., 0.],\n",
              "        [0., 0., 0., 1., 0., 0., 0., 0., 0., 0., 0., 0.],\n",
              "        [0., 0., 1., 0., 0., 0., 0., 0., 0., 0., 0., 0.],\n",
              "        [0., 0., 0., 0., 0., 0., 0., 1., 0., 0., 0., 0.]],\n",
              "\n",
              "       [[0., 0., 0., 0., 0., 0., 0., 0., 0., 1., 0., 0.],\n",
              "        [0., 0., 1., 0., 0., 0., 0., 0., 0., 0., 0., 0.],\n",
              "        [0., 0., 0., 0., 1., 0., 0., 0., 0., 0., 0., 0.],\n",
              "        [0., 0., 0., 0., 0., 0., 0., 0., 0., 0., 1., 0.],\n",
              "        [0., 0., 0., 0., 0., 0., 0., 0., 0., 0., 0., 1.]],\n",
              "\n",
              "       [[1., 0., 0., 0., 0., 0., 0., 0., 0., 0., 0., 0.],\n",
              "        [0., 0., 0., 0., 0., 0., 1., 0., 0., 0., 0., 0.],\n",
              "        [0., 0., 0., 1., 0., 0., 0., 0., 0., 0., 0., 0.],\n",
              "        [0., 0., 1., 0., 0., 0., 0., 0., 0., 0., 0., 0.],\n",
              "        [0., 0., 0., 0., 1., 0., 0., 0., 0., 0., 0., 0.]]], dtype=float32)"
            ]
          },
          "metadata": {},
          "execution_count": 9
        }
      ]
    },
    {
      "cell_type": "code",
      "source": [
        "paded_o.shape"
      ],
      "metadata": {
        "colab": {
          "base_uri": "https://localhost:8080/"
        },
        "id": "wR-Vd_EWvC73",
        "outputId": "a27a76a5-3b5f-4ed7-f350-088833d41a0f"
      },
      "execution_count": 10,
      "outputs": [
        {
          "output_type": "execute_result",
          "data": {
            "text/plain": [
              "(4, 5, 12)"
            ]
          },
          "metadata": {},
          "execution_count": 10
        }
      ]
    }
  ]
}