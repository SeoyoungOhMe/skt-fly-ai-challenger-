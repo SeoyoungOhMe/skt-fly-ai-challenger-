{
  "nbformat": 4,
  "nbformat_minor": 0,
  "metadata": {
    "colab": {
      "provenance": [],
      "authorship_tag": "ABX9TyNwh0scX2i5CaE9a0Kqexv9",
      "include_colab_link": true
    },
    "kernelspec": {
      "name": "python3",
      "display_name": "Python 3"
    },
    "language_info": {
      "name": "python"
    }
  },
  "cells": [
    {
      "cell_type": "markdown",
      "metadata": {
        "id": "view-in-github",
        "colab_type": "text"
      },
      "source": [
        "<a href=\"https://colab.research.google.com/github/SeoyoungOhMe/skt-fly-ai-challenger-class/blob/master/03_nn_multi_iris.ipynb\" target=\"_parent\"><img src=\"https://colab.research.google.com/assets/colab-badge.svg\" alt=\"Open In Colab\"/></a>"
      ]
    },
    {
      "cell_type": "markdown",
      "source": [
        "### 뉴럴네트워크 다중분류\n",
        "- iris datasets"
      ],
      "metadata": {
        "id": "ay4F3DG0VL5S"
      }
    },
    {
      "cell_type": "code",
      "execution_count": 1,
      "metadata": {
        "id": "IBv2Oh2oU_l4"
      },
      "outputs": [],
      "source": [
        "import numpy as np\n",
        "import pandas as pd\n",
        "import matplotlib.pyplot as plt\n",
        "import seaborn as sns\n",
        "import tensorflow as tf"
      ]
    },
    {
      "cell_type": "markdown",
      "source": [
        "### 1.데이터준비"
      ],
      "metadata": {
        "id": "2t4FaZeAVUxC"
      }
    },
    {
      "cell_type": "code",
      "source": [
        "!wget https://raw.githubusercontent.com/devdio/datasets/main/iris.csv"
      ],
      "metadata": {
        "colab": {
          "base_uri": "https://localhost:8080/"
        },
        "id": "5Us0cas6VTJm",
        "outputId": "cd3b534a-574a-4f79-af84-2b3d6bf3c9c3"
      },
      "execution_count": 2,
      "outputs": [
        {
          "output_type": "stream",
          "name": "stdout",
          "text": [
            "--2023-12-29 06:50:02--  https://raw.githubusercontent.com/devdio/datasets/main/iris.csv\n",
            "Resolving raw.githubusercontent.com (raw.githubusercontent.com)... 185.199.109.133, 185.199.111.133, 185.199.108.133, ...\n",
            "Connecting to raw.githubusercontent.com (raw.githubusercontent.com)|185.199.109.133|:443... connected.\n",
            "HTTP request sent, awaiting response... 200 OK\n",
            "Length: 5107 (5.0K) [text/plain]\n",
            "Saving to: ‘iris.csv’\n",
            "\n",
            "\riris.csv              0%[                    ]       0  --.-KB/s               \riris.csv            100%[===================>]   4.99K  --.-KB/s    in 0s      \n",
            "\n",
            "2023-12-29 06:50:02 (24.4 MB/s) - ‘iris.csv’ saved [5107/5107]\n",
            "\n"
          ]
        }
      ]
    },
    {
      "cell_type": "code",
      "source": [
        "iris = pd.read_csv('iris.csv')\n",
        "iris.shape"
      ],
      "metadata": {
        "colab": {
          "base_uri": "https://localhost:8080/"
        },
        "id": "GBOYuTN4VkRw",
        "outputId": "f8dd29b0-cf7a-43fe-a17d-46ba98b328ed"
      },
      "execution_count": 3,
      "outputs": [
        {
          "output_type": "execute_result",
          "data": {
            "text/plain": [
              "(150, 6)"
            ]
          },
          "metadata": {},
          "execution_count": 3
        }
      ]
    },
    {
      "cell_type": "code",
      "source": [
        "iris.head()\n",
        "df = iris.copy()"
      ],
      "metadata": {
        "id": "DgTO1xCKVozV"
      },
      "execution_count": 5,
      "outputs": []
    },
    {
      "cell_type": "markdown",
      "source": [
        "### 2.테스트 데이터 준비"
      ],
      "metadata": {
        "id": "4dYJAT6BV4PJ"
      }
    },
    {
      "cell_type": "code",
      "source": [
        "df.columns"
      ],
      "metadata": {
        "colab": {
          "base_uri": "https://localhost:8080/"
        },
        "id": "92clDbtvWAcT",
        "outputId": "7a38f413-15e8-4e8a-bdd3-4d7211e68923"
      },
      "execution_count": 6,
      "outputs": [
        {
          "output_type": "execute_result",
          "data": {
            "text/plain": [
              "Index(['Id', 'SepalLengthCm', 'SepalWidthCm', 'PetalLengthCm', 'PetalWidthCm',\n",
              "       'Species'],\n",
              "      dtype='object')"
            ]
          },
          "metadata": {},
          "execution_count": 6
        }
      ]
    },
    {
      "cell_type": "code",
      "source": [
        "X = df.drop(['Id', 'Species'], axis=1)\n",
        "X.head()"
      ],
      "metadata": {
        "colab": {
          "base_uri": "https://localhost:8080/",
          "height": 204
        },
        "id": "4eiCrnL6VqC-",
        "outputId": "6606dbff-095e-4d6f-ed49-daafd836e35e"
      },
      "execution_count": 7,
      "outputs": [
        {
          "output_type": "execute_result",
          "data": {
            "text/plain": [
              "   SepalLengthCm  SepalWidthCm  PetalLengthCm  PetalWidthCm\n",
              "0            5.1           3.5            1.4           0.2\n",
              "1            4.9           3.0            1.4           0.2\n",
              "2            4.7           3.2            1.3           0.2\n",
              "3            4.6           3.1            1.5           0.2\n",
              "4            5.0           3.6            1.4           0.2"
            ],
            "text/html": [
              "\n",
              "  <div id=\"df-300e8691-93a5-4b72-8cba-d36c58e18c78\" class=\"colab-df-container\">\n",
              "    <div>\n",
              "<style scoped>\n",
              "    .dataframe tbody tr th:only-of-type {\n",
              "        vertical-align: middle;\n",
              "    }\n",
              "\n",
              "    .dataframe tbody tr th {\n",
              "        vertical-align: top;\n",
              "    }\n",
              "\n",
              "    .dataframe thead th {\n",
              "        text-align: right;\n",
              "    }\n",
              "</style>\n",
              "<table border=\"1\" class=\"dataframe\">\n",
              "  <thead>\n",
              "    <tr style=\"text-align: right;\">\n",
              "      <th></th>\n",
              "      <th>SepalLengthCm</th>\n",
              "      <th>SepalWidthCm</th>\n",
              "      <th>PetalLengthCm</th>\n",
              "      <th>PetalWidthCm</th>\n",
              "    </tr>\n",
              "  </thead>\n",
              "  <tbody>\n",
              "    <tr>\n",
              "      <th>0</th>\n",
              "      <td>5.1</td>\n",
              "      <td>3.5</td>\n",
              "      <td>1.4</td>\n",
              "      <td>0.2</td>\n",
              "    </tr>\n",
              "    <tr>\n",
              "      <th>1</th>\n",
              "      <td>4.9</td>\n",
              "      <td>3.0</td>\n",
              "      <td>1.4</td>\n",
              "      <td>0.2</td>\n",
              "    </tr>\n",
              "    <tr>\n",
              "      <th>2</th>\n",
              "      <td>4.7</td>\n",
              "      <td>3.2</td>\n",
              "      <td>1.3</td>\n",
              "      <td>0.2</td>\n",
              "    </tr>\n",
              "    <tr>\n",
              "      <th>3</th>\n",
              "      <td>4.6</td>\n",
              "      <td>3.1</td>\n",
              "      <td>1.5</td>\n",
              "      <td>0.2</td>\n",
              "    </tr>\n",
              "    <tr>\n",
              "      <th>4</th>\n",
              "      <td>5.0</td>\n",
              "      <td>3.6</td>\n",
              "      <td>1.4</td>\n",
              "      <td>0.2</td>\n",
              "    </tr>\n",
              "  </tbody>\n",
              "</table>\n",
              "</div>\n",
              "    <div class=\"colab-df-buttons\">\n",
              "\n",
              "  <div class=\"colab-df-container\">\n",
              "    <button class=\"colab-df-convert\" onclick=\"convertToInteractive('df-300e8691-93a5-4b72-8cba-d36c58e18c78')\"\n",
              "            title=\"Convert this dataframe to an interactive table.\"\n",
              "            style=\"display:none;\">\n",
              "\n",
              "  <svg xmlns=\"http://www.w3.org/2000/svg\" height=\"24px\" viewBox=\"0 -960 960 960\">\n",
              "    <path d=\"M120-120v-720h720v720H120Zm60-500h600v-160H180v160Zm220 220h160v-160H400v160Zm0 220h160v-160H400v160ZM180-400h160v-160H180v160Zm440 0h160v-160H620v160ZM180-180h160v-160H180v160Zm440 0h160v-160H620v160Z\"/>\n",
              "  </svg>\n",
              "    </button>\n",
              "\n",
              "  <style>\n",
              "    .colab-df-container {\n",
              "      display:flex;\n",
              "      gap: 12px;\n",
              "    }\n",
              "\n",
              "    .colab-df-convert {\n",
              "      background-color: #E8F0FE;\n",
              "      border: none;\n",
              "      border-radius: 50%;\n",
              "      cursor: pointer;\n",
              "      display: none;\n",
              "      fill: #1967D2;\n",
              "      height: 32px;\n",
              "      padding: 0 0 0 0;\n",
              "      width: 32px;\n",
              "    }\n",
              "\n",
              "    .colab-df-convert:hover {\n",
              "      background-color: #E2EBFA;\n",
              "      box-shadow: 0px 1px 2px rgba(60, 64, 67, 0.3), 0px 1px 3px 1px rgba(60, 64, 67, 0.15);\n",
              "      fill: #174EA6;\n",
              "    }\n",
              "\n",
              "    .colab-df-buttons div {\n",
              "      margin-bottom: 4px;\n",
              "    }\n",
              "\n",
              "    [theme=dark] .colab-df-convert {\n",
              "      background-color: #3B4455;\n",
              "      fill: #D2E3FC;\n",
              "    }\n",
              "\n",
              "    [theme=dark] .colab-df-convert:hover {\n",
              "      background-color: #434B5C;\n",
              "      box-shadow: 0px 1px 3px 1px rgba(0, 0, 0, 0.15);\n",
              "      filter: drop-shadow(0px 1px 2px rgba(0, 0, 0, 0.3));\n",
              "      fill: #FFFFFF;\n",
              "    }\n",
              "  </style>\n",
              "\n",
              "    <script>\n",
              "      const buttonEl =\n",
              "        document.querySelector('#df-300e8691-93a5-4b72-8cba-d36c58e18c78 button.colab-df-convert');\n",
              "      buttonEl.style.display =\n",
              "        google.colab.kernel.accessAllowed ? 'block' : 'none';\n",
              "\n",
              "      async function convertToInteractive(key) {\n",
              "        const element = document.querySelector('#df-300e8691-93a5-4b72-8cba-d36c58e18c78');\n",
              "        const dataTable =\n",
              "          await google.colab.kernel.invokeFunction('convertToInteractive',\n",
              "                                                    [key], {});\n",
              "        if (!dataTable) return;\n",
              "\n",
              "        const docLinkHtml = 'Like what you see? Visit the ' +\n",
              "          '<a target=\"_blank\" href=https://colab.research.google.com/notebooks/data_table.ipynb>data table notebook</a>'\n",
              "          + ' to learn more about interactive tables.';\n",
              "        element.innerHTML = '';\n",
              "        dataTable['output_type'] = 'display_data';\n",
              "        await google.colab.output.renderOutput(dataTable, element);\n",
              "        const docLink = document.createElement('div');\n",
              "        docLink.innerHTML = docLinkHtml;\n",
              "        element.appendChild(docLink);\n",
              "      }\n",
              "    </script>\n",
              "  </div>\n",
              "\n",
              "\n",
              "<div id=\"df-2b698a4b-f9ba-43b2-86fb-cdc9ae56b971\">\n",
              "  <button class=\"colab-df-quickchart\" onclick=\"quickchart('df-2b698a4b-f9ba-43b2-86fb-cdc9ae56b971')\"\n",
              "            title=\"Suggest charts\"\n",
              "            style=\"display:none;\">\n",
              "\n",
              "<svg xmlns=\"http://www.w3.org/2000/svg\" height=\"24px\"viewBox=\"0 0 24 24\"\n",
              "     width=\"24px\">\n",
              "    <g>\n",
              "        <path d=\"M19 3H5c-1.1 0-2 .9-2 2v14c0 1.1.9 2 2 2h14c1.1 0 2-.9 2-2V5c0-1.1-.9-2-2-2zM9 17H7v-7h2v7zm4 0h-2V7h2v10zm4 0h-2v-4h2v4z\"/>\n",
              "    </g>\n",
              "</svg>\n",
              "  </button>\n",
              "\n",
              "<style>\n",
              "  .colab-df-quickchart {\n",
              "      --bg-color: #E8F0FE;\n",
              "      --fill-color: #1967D2;\n",
              "      --hover-bg-color: #E2EBFA;\n",
              "      --hover-fill-color: #174EA6;\n",
              "      --disabled-fill-color: #AAA;\n",
              "      --disabled-bg-color: #DDD;\n",
              "  }\n",
              "\n",
              "  [theme=dark] .colab-df-quickchart {\n",
              "      --bg-color: #3B4455;\n",
              "      --fill-color: #D2E3FC;\n",
              "      --hover-bg-color: #434B5C;\n",
              "      --hover-fill-color: #FFFFFF;\n",
              "      --disabled-bg-color: #3B4455;\n",
              "      --disabled-fill-color: #666;\n",
              "  }\n",
              "\n",
              "  .colab-df-quickchart {\n",
              "    background-color: var(--bg-color);\n",
              "    border: none;\n",
              "    border-radius: 50%;\n",
              "    cursor: pointer;\n",
              "    display: none;\n",
              "    fill: var(--fill-color);\n",
              "    height: 32px;\n",
              "    padding: 0;\n",
              "    width: 32px;\n",
              "  }\n",
              "\n",
              "  .colab-df-quickchart:hover {\n",
              "    background-color: var(--hover-bg-color);\n",
              "    box-shadow: 0 1px 2px rgba(60, 64, 67, 0.3), 0 1px 3px 1px rgba(60, 64, 67, 0.15);\n",
              "    fill: var(--button-hover-fill-color);\n",
              "  }\n",
              "\n",
              "  .colab-df-quickchart-complete:disabled,\n",
              "  .colab-df-quickchart-complete:disabled:hover {\n",
              "    background-color: var(--disabled-bg-color);\n",
              "    fill: var(--disabled-fill-color);\n",
              "    box-shadow: none;\n",
              "  }\n",
              "\n",
              "  .colab-df-spinner {\n",
              "    border: 2px solid var(--fill-color);\n",
              "    border-color: transparent;\n",
              "    border-bottom-color: var(--fill-color);\n",
              "    animation:\n",
              "      spin 1s steps(1) infinite;\n",
              "  }\n",
              "\n",
              "  @keyframes spin {\n",
              "    0% {\n",
              "      border-color: transparent;\n",
              "      border-bottom-color: var(--fill-color);\n",
              "      border-left-color: var(--fill-color);\n",
              "    }\n",
              "    20% {\n",
              "      border-color: transparent;\n",
              "      border-left-color: var(--fill-color);\n",
              "      border-top-color: var(--fill-color);\n",
              "    }\n",
              "    30% {\n",
              "      border-color: transparent;\n",
              "      border-left-color: var(--fill-color);\n",
              "      border-top-color: var(--fill-color);\n",
              "      border-right-color: var(--fill-color);\n",
              "    }\n",
              "    40% {\n",
              "      border-color: transparent;\n",
              "      border-right-color: var(--fill-color);\n",
              "      border-top-color: var(--fill-color);\n",
              "    }\n",
              "    60% {\n",
              "      border-color: transparent;\n",
              "      border-right-color: var(--fill-color);\n",
              "    }\n",
              "    80% {\n",
              "      border-color: transparent;\n",
              "      border-right-color: var(--fill-color);\n",
              "      border-bottom-color: var(--fill-color);\n",
              "    }\n",
              "    90% {\n",
              "      border-color: transparent;\n",
              "      border-bottom-color: var(--fill-color);\n",
              "    }\n",
              "  }\n",
              "</style>\n",
              "\n",
              "  <script>\n",
              "    async function quickchart(key) {\n",
              "      const quickchartButtonEl =\n",
              "        document.querySelector('#' + key + ' button');\n",
              "      quickchartButtonEl.disabled = true;  // To prevent multiple clicks.\n",
              "      quickchartButtonEl.classList.add('colab-df-spinner');\n",
              "      try {\n",
              "        const charts = await google.colab.kernel.invokeFunction(\n",
              "            'suggestCharts', [key], {});\n",
              "      } catch (error) {\n",
              "        console.error('Error during call to suggestCharts:', error);\n",
              "      }\n",
              "      quickchartButtonEl.classList.remove('colab-df-spinner');\n",
              "      quickchartButtonEl.classList.add('colab-df-quickchart-complete');\n",
              "    }\n",
              "    (() => {\n",
              "      let quickchartButtonEl =\n",
              "        document.querySelector('#df-2b698a4b-f9ba-43b2-86fb-cdc9ae56b971 button');\n",
              "      quickchartButtonEl.style.display =\n",
              "        google.colab.kernel.accessAllowed ? 'block' : 'none';\n",
              "    })();\n",
              "  </script>\n",
              "</div>\n",
              "    </div>\n",
              "  </div>\n"
            ]
          },
          "metadata": {},
          "execution_count": 7
        }
      ]
    },
    {
      "cell_type": "code",
      "source": [
        "y = df['Species']\n",
        "y.head()"
      ],
      "metadata": {
        "colab": {
          "base_uri": "https://localhost:8080/"
        },
        "id": "xxhqxgvKWJ9Q",
        "outputId": "ff106b9a-682a-4cef-e4ca-1f55a157ac23"
      },
      "execution_count": 8,
      "outputs": [
        {
          "output_type": "execute_result",
          "data": {
            "text/plain": [
              "0    Iris-setosa\n",
              "1    Iris-setosa\n",
              "2    Iris-setosa\n",
              "3    Iris-setosa\n",
              "4    Iris-setosa\n",
              "Name: Species, dtype: object"
            ]
          },
          "metadata": {},
          "execution_count": 8
        }
      ]
    },
    {
      "cell_type": "code",
      "source": [
        "from sklearn.model_selection import train_test_split\n",
        "\n",
        "X_train, X_test, y_train, y_test = train_test_split(X, y, test_size=0.2, random_state=42)\n",
        "\n",
        "X_train.shape, X_test.shape, y_train.shape, y_test.shape"
      ],
      "metadata": {
        "colab": {
          "base_uri": "https://localhost:8080/"
        },
        "id": "m4ovIlLLWNDz",
        "outputId": "81954f32-f8ce-4351-bc04-e5c4ba124e46"
      },
      "execution_count": 9,
      "outputs": [
        {
          "output_type": "execute_result",
          "data": {
            "text/plain": [
              "((120, 4), (30, 4), (120,), (30,))"
            ]
          },
          "metadata": {},
          "execution_count": 9
        }
      ]
    },
    {
      "cell_type": "markdown",
      "source": [
        "### 3.전처리"
      ],
      "metadata": {
        "id": "wObAp3qlWXVR"
      }
    },
    {
      "cell_type": "code",
      "source": [
        "from sklearn.preprocessing import StandardScaler\n",
        "\n",
        "scaler = StandardScaler()\n",
        "X_train_s = scaler.fit_transform(X_train)\n",
        "\n",
        "X_train_s"
      ],
      "metadata": {
        "colab": {
          "base_uri": "https://localhost:8080/"
        },
        "id": "C-CizPQEWRgQ",
        "outputId": "c84fd4ea-5474-464b-9757-96b85a63907f"
      },
      "execution_count": 10,
      "outputs": [
        {
          "output_type": "execute_result",
          "data": {
            "text/plain": [
              "array([[-1.47393679,  1.22037928, -1.5639872 , -1.30948358],\n",
              "       [-0.13307079,  3.02001693, -1.27728011, -1.04292204],\n",
              "       [ 1.08589829,  0.09560575,  0.38562104,  0.28988568],\n",
              "       [-1.23014297,  0.77046987, -1.21993869, -1.30948358],\n",
              "       [-1.7177306 ,  0.32056046, -1.39196294, -1.30948358],\n",
              "       [ 0.59831066, -1.25412249,  0.72966956,  0.95628954],\n",
              "       [ 0.72020757,  0.32056046,  0.44296246,  0.42316645],\n",
              "       [-0.74255534,  0.99542457, -1.27728011, -1.30948358],\n",
              "       [-0.98634915,  1.22037928, -1.33462153, -1.30948358],\n",
              "       [-0.74255534,  2.34515281, -1.27728011, -1.44276436],\n",
              "       [-0.01117388, -0.80421307,  0.78701097,  0.95628954],\n",
              "       [ 0.23261993,  0.77046987,  0.44296246,  0.55644722],\n",
              "       [ 1.08589829,  0.09560575,  0.5576453 ,  0.42316645],\n",
              "       [-0.49876152,  1.8952434 , -1.39196294, -1.04292204],\n",
              "       [-0.49876152,  1.44533399, -1.27728011, -1.30948358],\n",
              "       [-0.37686461, -1.47907719, -0.01576889, -0.24323741],\n",
              "       [ 0.59831066, -0.57925837,  0.78701097,  0.42316645],\n",
              "       [ 0.72020757,  0.09560575,  1.01637665,  0.82300877],\n",
              "       [ 0.96400139, -0.12934896,  0.38562104,  0.28988568],\n",
              "       [ 1.69538284,  1.22037928,  1.36042516,  1.75597417],\n",
              "       [-0.13307079, -0.35430366,  0.2709382 ,  0.15660491],\n",
              "       [ 2.18297047, -0.12934896,  1.64713226,  1.22285108],\n",
              "       [-0.2549677 , -0.12934896,  0.44296246,  0.42316645],\n",
              "       [-0.86445224,  0.99542457, -1.33462153, -1.30948358],\n",
              "       [ 2.30486738, -0.57925837,  1.70447368,  1.08957031],\n",
              "       [-0.01117388, -0.80421307,  0.21359679, -0.24323741],\n",
              "       [-0.74255534,  0.77046987, -1.33462153, -1.30948358],\n",
              "       [-0.98634915,  0.99542457, -1.39196294, -1.17620281],\n",
              "       [-0.86445224,  1.67028869, -1.04791443, -1.04292204],\n",
              "       [-0.98634915, -2.37889602, -0.13045173, -0.24323741],\n",
              "       [ 0.59831066, -0.80421307,  0.67232814,  0.82300877],\n",
              "       [-1.23014297,  0.77046987, -1.04791443, -1.30948358],\n",
              "       [-0.98634915, -0.12934896, -1.21993869, -1.30948358],\n",
              "       [-0.86445224,  0.54551516, -1.16259727, -0.90964127],\n",
              "       [-0.2549677 , -0.80421307,  0.2709382 ,  0.15660491],\n",
              "       [-0.86445224,  0.77046987, -1.27728011, -1.30948358],\n",
              "       [-0.13307079, -0.12934896,  0.2709382 ,  0.02332414],\n",
              "       [ 2.30486738,  1.67028869,  1.70447368,  1.35613185],\n",
              "       [-1.47393679,  0.32056046, -1.33462153, -1.30948358],\n",
              "       [ 0.47641375, -0.35430366,  0.32827962,  0.15660491],\n",
              "       [-0.13307079, -1.25412249,  0.72966956,  1.08957031],\n",
              "       [-0.37686461,  2.57010752, -1.33462153, -1.30948358],\n",
              "       [ 0.23261993, -0.12934896,  0.61498672,  0.82300877],\n",
              "       [-0.01117388, -0.80421307,  0.78701097,  0.95628954],\n",
              "       [ 0.23261993, -1.9289866 ,  0.15625537, -0.24323741],\n",
              "       [-0.49876152, -0.12934896,  0.44296246,  0.42316645],\n",
              "       [ 0.47641375,  0.77046987,  0.95903523,  1.48941263],\n",
              "       [-0.37686461, -1.7040319 ,  0.15625537,  0.15660491],\n",
              "       [-0.49876152,  1.8952434 , -1.16259727, -1.04292204],\n",
              "       [-0.98634915, -1.7040319 , -0.24513457, -0.24323741],\n",
              "       [ 0.72020757, -0.80421307,  0.90169381,  0.95628954],\n",
              "       [-0.98634915,  0.54551516, -1.33462153, -1.30948358],\n",
              "       [-0.98634915,  0.32056046, -1.44930436, -1.30948358],\n",
              "       [-0.37686461, -1.47907719,  0.04157253, -0.10995664],\n",
              "       [ 1.08589829, -0.12934896,  0.72966956,  0.68972799],\n",
              "       [-1.10824606,  0.09560575, -1.27728011, -1.44276436],\n",
              "       [-0.01117388, -0.57925837,  0.78701097,  1.6226934 ],\n",
              "       [-0.98634915,  0.77046987, -1.27728011, -1.30948358],\n",
              "       [-0.98634915,  0.99542457, -1.21993869, -0.7763605 ],\n",
              "       [ 0.11072303,  0.32056046,  0.61498672,  0.82300877],\n",
              "       [-0.86445224, -1.25412249, -0.41715882, -0.10995664],\n",
              "       [ 1.32969211,  0.32056046,  1.13105949,  1.48941263],\n",
              "       [ 0.23261993, -0.80421307,  0.78701097,  0.55644722],\n",
              "       [ 0.35451684, -1.02916778,  1.07371807,  0.28988568],\n",
              "       [ 2.30486738, -0.12934896,  1.36042516,  1.48941263],\n",
              "       [-0.37686461, -1.25412249,  0.15625537,  0.15660491],\n",
              "       [-1.7177306 , -0.35430366, -1.33462153, -1.30948358],\n",
              "       [-1.83962751, -0.12934896, -1.50664578, -1.44276436],\n",
              "       [ 0.23261993, -1.9289866 ,  0.72966956,  0.42316645],\n",
              "       [ 1.69538284,  0.32056046,  1.30308374,  0.82300877],\n",
              "       [-1.47393679,  0.09560575, -1.27728011, -1.30948358],\n",
              "       [-0.86445224,  0.99542457, -1.33462153, -1.17620281],\n",
              "       [-1.7177306 , -0.12934896, -1.39196294, -1.30948358],\n",
              "       [ 0.59831066, -1.25412249,  0.67232814,  0.42316645],\n",
              "       [ 0.59831066,  0.77046987,  1.07371807,  1.6226934 ],\n",
              "       [-1.47393679,  0.77046987, -1.33462153, -1.17620281],\n",
              "       [ 1.2077952 , -0.12934896,  1.01637665,  1.22285108],\n",
              "       [ 0.59831066,  0.54551516,  1.30308374,  1.75597417],\n",
              "       [-1.35203988,  0.32056046, -1.39196294, -1.30948358],\n",
              "       [ 0.35451684, -0.35430366,  0.5576453 ,  0.28988568],\n",
              "       [ 0.84210448, -0.57925837,  0.50030388,  0.42316645],\n",
              "       [ 0.47641375, -0.57925837,  0.61498672,  0.82300877],\n",
              "       [ 1.45158902,  0.32056046,  0.5576453 ,  0.28988568],\n",
              "       [ 0.72020757,  0.32056046,  0.90169381,  1.48941263],\n",
              "       [-0.86445224,  1.67028869, -1.21993869, -1.30948358],\n",
              "       [ 1.32969211,  0.09560575,  0.95903523,  1.22285108],\n",
              "       [ 0.11072303, -0.12934896,  0.2709382 ,  0.42316645],\n",
              "       [ 0.84210448, -0.12934896,  0.84435239,  1.08957031],\n",
              "       [-0.13307079, -1.02916778, -0.13045173, -0.24323741],\n",
              "       [-0.74255534, -0.80421307,  0.09891395,  0.28988568],\n",
              "       [ 0.35451684, -0.12934896,  0.50030388,  0.28988568],\n",
              "       [-1.5958337 , -1.7040319 , -1.39196294, -1.17620281],\n",
              "       [ 0.96400139, -0.35430366,  0.50030388,  0.15660491],\n",
              "       [-0.37686461, -1.02916778,  0.38562104,  0.02332414],\n",
              "       [-0.62065843,  1.44533399, -1.27728011, -1.30948358],\n",
              "       [-0.2549677 , -0.12934896,  0.21359679,  0.15660491],\n",
              "       [ 1.81727975, -0.35430366,  1.475108  ,  0.82300877],\n",
              "       [ 1.08589829,  0.54551516,  1.13105949,  1.22285108],\n",
              "       [-0.86445224,  1.44533399, -1.27728011, -1.04292204],\n",
              "       [-1.10824606, -1.47907719, -0.24513457, -0.24323741],\n",
              "       [ 1.08589829,  0.54551516,  1.13105949,  1.75597417],\n",
              "       [ 1.69538284, -0.12934896,  1.18840091,  0.55644722],\n",
              "       [-1.10824606,  0.09560575, -1.27728011, -1.44276436],\n",
              "       [ 1.08589829,  0.09560575,  1.07371807,  1.6226934 ],\n",
              "       [-1.10824606, -0.12934896, -1.33462153, -1.30948358],\n",
              "       [ 1.32969211,  0.09560575,  0.67232814,  0.42316645],\n",
              "       [ 1.93917666, -0.57925837,  1.36042516,  0.95628954],\n",
              "       [ 0.59831066, -0.35430366,  1.07371807,  0.82300877],\n",
              "       [-0.13307079, -0.57925837,  0.21359679,  0.15660491],\n",
              "       [ 0.84210448, -0.12934896,  1.01637665,  0.82300877],\n",
              "       [ 0.59831066, -1.7040319 ,  0.38562104,  0.15660491],\n",
              "       [ 0.72020757, -0.35430366,  0.32827962,  0.15660491],\n",
              "       [-0.2549677 , -0.57925837,  0.67232814,  1.08957031],\n",
              "       [ 0.11072303, -0.12934896,  0.78701097,  0.82300877],\n",
              "       [-0.49876152,  0.77046987, -1.16259727, -1.30948358],\n",
              "       [ 0.35451684, -0.57925837,  0.15625537,  0.15660491],\n",
              "       [-1.10824606, -1.25412249,  0.44296246,  0.68972799],\n",
              "       [-0.01117388,  2.1201981 , -1.44930436, -1.30948358],\n",
              "       [-0.01117388, -1.02916778,  0.15625537,  0.02332414],\n",
              "       [ 1.57348593, -0.12934896,  1.24574233,  1.22285108]])"
            ]
          },
          "metadata": {},
          "execution_count": 10
        }
      ]
    },
    {
      "cell_type": "code",
      "source": [
        "y_train"
      ],
      "metadata": {
        "colab": {
          "base_uri": "https://localhost:8080/"
        },
        "id": "9gPNQ4qNWa51",
        "outputId": "700545d3-7652-41fc-fadd-e157e67cbf66"
      },
      "execution_count": 11,
      "outputs": [
        {
          "output_type": "execute_result",
          "data": {
            "text/plain": [
              "22         Iris-setosa\n",
              "15         Iris-setosa\n",
              "65     Iris-versicolor\n",
              "11         Iris-setosa\n",
              "42         Iris-setosa\n",
              "            ...       \n",
              "71     Iris-versicolor\n",
              "106     Iris-virginica\n",
              "14         Iris-setosa\n",
              "92     Iris-versicolor\n",
              "102     Iris-virginica\n",
              "Name: Species, Length: 120, dtype: object"
            ]
          },
          "metadata": {},
          "execution_count": 11
        }
      ]
    },
    {
      "cell_type": "code",
      "source": [
        "from sklearn.preprocessing import LabelEncoder\n",
        "\n",
        "le = LabelEncoder()\n",
        "y_train = le.fit_transform(y_train)\n",
        "y_train"
      ],
      "metadata": {
        "colab": {
          "base_uri": "https://localhost:8080/"
        },
        "id": "zmy2Op3WWfcb",
        "outputId": "85047c2e-fbf2-4939-9d67-cca477a2af62"
      },
      "execution_count": 12,
      "outputs": [
        {
          "output_type": "execute_result",
          "data": {
            "text/plain": [
              "array([0, 0, 1, 0, 0, 2, 1, 0, 0, 0, 2, 1, 1, 0, 0, 1, 2, 2, 1, 2, 1, 2,\n",
              "       1, 0, 2, 1, 0, 0, 0, 1, 2, 0, 0, 0, 1, 0, 1, 2, 0, 1, 2, 0, 2, 2,\n",
              "       1, 1, 2, 1, 0, 1, 2, 0, 0, 1, 1, 0, 2, 0, 0, 1, 1, 2, 1, 2, 2, 1,\n",
              "       0, 0, 2, 2, 0, 0, 0, 1, 2, 0, 2, 2, 0, 1, 1, 2, 1, 2, 0, 2, 1, 2,\n",
              "       1, 1, 1, 0, 1, 1, 0, 1, 2, 2, 0, 1, 2, 2, 0, 2, 0, 1, 2, 2, 1, 2,\n",
              "       1, 1, 2, 2, 0, 1, 2, 0, 1, 2])"
            ]
          },
          "metadata": {},
          "execution_count": 12
        }
      ]
    },
    {
      "cell_type": "code",
      "source": [
        "from keras.utils import to_categorical\n",
        "\n",
        "y_train_o = to_categorical(y_train) # 원-핫 인코딩\n",
        "y_train_o"
      ],
      "metadata": {
        "colab": {
          "base_uri": "https://localhost:8080/"
        },
        "id": "TKjWnTATWxof",
        "outputId": "47d0f278-13ad-4fd3-ff94-f2d3e89ad41c"
      },
      "execution_count": 13,
      "outputs": [
        {
          "output_type": "execute_result",
          "data": {
            "text/plain": [
              "array([[1., 0., 0.],\n",
              "       [1., 0., 0.],\n",
              "       [0., 1., 0.],\n",
              "       [1., 0., 0.],\n",
              "       [1., 0., 0.],\n",
              "       [0., 0., 1.],\n",
              "       [0., 1., 0.],\n",
              "       [1., 0., 0.],\n",
              "       [1., 0., 0.],\n",
              "       [1., 0., 0.],\n",
              "       [0., 0., 1.],\n",
              "       [0., 1., 0.],\n",
              "       [0., 1., 0.],\n",
              "       [1., 0., 0.],\n",
              "       [1., 0., 0.],\n",
              "       [0., 1., 0.],\n",
              "       [0., 0., 1.],\n",
              "       [0., 0., 1.],\n",
              "       [0., 1., 0.],\n",
              "       [0., 0., 1.],\n",
              "       [0., 1., 0.],\n",
              "       [0., 0., 1.],\n",
              "       [0., 1., 0.],\n",
              "       [1., 0., 0.],\n",
              "       [0., 0., 1.],\n",
              "       [0., 1., 0.],\n",
              "       [1., 0., 0.],\n",
              "       [1., 0., 0.],\n",
              "       [1., 0., 0.],\n",
              "       [0., 1., 0.],\n",
              "       [0., 0., 1.],\n",
              "       [1., 0., 0.],\n",
              "       [1., 0., 0.],\n",
              "       [1., 0., 0.],\n",
              "       [0., 1., 0.],\n",
              "       [1., 0., 0.],\n",
              "       [0., 1., 0.],\n",
              "       [0., 0., 1.],\n",
              "       [1., 0., 0.],\n",
              "       [0., 1., 0.],\n",
              "       [0., 0., 1.],\n",
              "       [1., 0., 0.],\n",
              "       [0., 0., 1.],\n",
              "       [0., 0., 1.],\n",
              "       [0., 1., 0.],\n",
              "       [0., 1., 0.],\n",
              "       [0., 0., 1.],\n",
              "       [0., 1., 0.],\n",
              "       [1., 0., 0.],\n",
              "       [0., 1., 0.],\n",
              "       [0., 0., 1.],\n",
              "       [1., 0., 0.],\n",
              "       [1., 0., 0.],\n",
              "       [0., 1., 0.],\n",
              "       [0., 1., 0.],\n",
              "       [1., 0., 0.],\n",
              "       [0., 0., 1.],\n",
              "       [1., 0., 0.],\n",
              "       [1., 0., 0.],\n",
              "       [0., 1., 0.],\n",
              "       [0., 1., 0.],\n",
              "       [0., 0., 1.],\n",
              "       [0., 1., 0.],\n",
              "       [0., 0., 1.],\n",
              "       [0., 0., 1.],\n",
              "       [0., 1., 0.],\n",
              "       [1., 0., 0.],\n",
              "       [1., 0., 0.],\n",
              "       [0., 0., 1.],\n",
              "       [0., 0., 1.],\n",
              "       [1., 0., 0.],\n",
              "       [1., 0., 0.],\n",
              "       [1., 0., 0.],\n",
              "       [0., 1., 0.],\n",
              "       [0., 0., 1.],\n",
              "       [1., 0., 0.],\n",
              "       [0., 0., 1.],\n",
              "       [0., 0., 1.],\n",
              "       [1., 0., 0.],\n",
              "       [0., 1., 0.],\n",
              "       [0., 1., 0.],\n",
              "       [0., 0., 1.],\n",
              "       [0., 1., 0.],\n",
              "       [0., 0., 1.],\n",
              "       [1., 0., 0.],\n",
              "       [0., 0., 1.],\n",
              "       [0., 1., 0.],\n",
              "       [0., 0., 1.],\n",
              "       [0., 1., 0.],\n",
              "       [0., 1., 0.],\n",
              "       [0., 1., 0.],\n",
              "       [1., 0., 0.],\n",
              "       [0., 1., 0.],\n",
              "       [0., 1., 0.],\n",
              "       [1., 0., 0.],\n",
              "       [0., 1., 0.],\n",
              "       [0., 0., 1.],\n",
              "       [0., 0., 1.],\n",
              "       [1., 0., 0.],\n",
              "       [0., 1., 0.],\n",
              "       [0., 0., 1.],\n",
              "       [0., 0., 1.],\n",
              "       [1., 0., 0.],\n",
              "       [0., 0., 1.],\n",
              "       [1., 0., 0.],\n",
              "       [0., 1., 0.],\n",
              "       [0., 0., 1.],\n",
              "       [0., 0., 1.],\n",
              "       [0., 1., 0.],\n",
              "       [0., 0., 1.],\n",
              "       [0., 1., 0.],\n",
              "       [0., 1., 0.],\n",
              "       [0., 0., 1.],\n",
              "       [0., 0., 1.],\n",
              "       [1., 0., 0.],\n",
              "       [0., 1., 0.],\n",
              "       [0., 0., 1.],\n",
              "       [1., 0., 0.],\n",
              "       [0., 1., 0.],\n",
              "       [0., 0., 1.]], dtype=float32)"
            ]
          },
          "metadata": {},
          "execution_count": 13
        }
      ]
    },
    {
      "cell_type": "markdown",
      "source": [
        "### 4.모델만들기"
      ],
      "metadata": {
        "id": "DrAJsK8EXRY8"
      }
    },
    {
      "cell_type": "code",
      "source": [
        "X_train_s.shape"
      ],
      "metadata": {
        "colab": {
          "base_uri": "https://localhost:8080/"
        },
        "id": "nhmrBMKNXbnE",
        "outputId": "e5339479-ec9a-4443-e971-c53f0233b1d8"
      },
      "execution_count": 14,
      "outputs": [
        {
          "output_type": "execute_result",
          "data": {
            "text/plain": [
              "(120, 4)"
            ]
          },
          "metadata": {},
          "execution_count": 14
        }
      ]
    },
    {
      "cell_type": "code",
      "source": [
        "from tensorflow import keras\n",
        "from keras import layers\n",
        "\n",
        "model = keras.Sequential([\n",
        "    layers.Dense(units=6, activation='relu', input_shape=(4,)),\n",
        "    layers.Dense(units=3, activation='relu'),\n",
        "    layers.Dense(units=3, activation='softmax'),\n",
        "])"
      ],
      "metadata": {
        "id": "jp7UtjMaXKFG"
      },
      "execution_count": 19,
      "outputs": []
    },
    {
      "cell_type": "code",
      "source": [
        "model.summary()"
      ],
      "metadata": {
        "colab": {
          "base_uri": "https://localhost:8080/"
        },
        "id": "2lUELOU1XiXW",
        "outputId": "4b204ecc-a42e-4857-9393-1c2da6320ee0"
      },
      "execution_count": 20,
      "outputs": [
        {
          "output_type": "stream",
          "name": "stdout",
          "text": [
            "Model: \"sequential_1\"\n",
            "_________________________________________________________________\n",
            " Layer (type)                Output Shape              Param #   \n",
            "=================================================================\n",
            " dense_3 (Dense)             (None, 6)                 30        \n",
            "                                                                 \n",
            " dense_4 (Dense)             (None, 3)                 21        \n",
            "                                                                 \n",
            " dense_5 (Dense)             (None, 3)                 12        \n",
            "                                                                 \n",
            "=================================================================\n",
            "Total params: 63 (252.00 Byte)\n",
            "Trainable params: 63 (252.00 Byte)\n",
            "Non-trainable params: 0 (0.00 Byte)\n",
            "_________________________________________________________________\n"
          ]
        }
      ]
    },
    {
      "cell_type": "markdown",
      "source": [
        "### 5.학습"
      ],
      "metadata": {
        "id": "e6L-Mg34Xs7R"
      }
    },
    {
      "cell_type": "code",
      "source": [
        "model.compile(\n",
        "    loss='categorical_crossentropy',\n",
        "    optimizer='adam',\n",
        "    metrics=['accuracy']\n",
        ")"
      ],
      "metadata": {
        "id": "lITakaGOXoaJ"
      },
      "execution_count": 21,
      "outputs": []
    },
    {
      "cell_type": "code",
      "source": [
        "EPOCHS = 150\n",
        "BATCH_SIZE = 16\n",
        "\n",
        "history = model.fit(\n",
        "    X_train_s, y_train_o,\n",
        "    batch_size=BATCH_SIZE,\n",
        "    epochs=EPOCHS,\n",
        "    validation_split=0.2,\n",
        "    verbose=1\n",
        ")"
      ],
      "metadata": {
        "colab": {
          "base_uri": "https://localhost:8080/"
        },
        "id": "FeVFLmAsYA93",
        "outputId": "3eb39be1-9c48-4bcd-dd61-ad54f0e9bce8"
      },
      "execution_count": 25,
      "outputs": [
        {
          "output_type": "stream",
          "name": "stdout",
          "text": [
            "Epoch 1/150\n",
            "6/6 [==============================] - 0s 35ms/step - loss: 0.4588 - accuracy: 0.8542 - val_loss: 0.4981 - val_accuracy: 0.8333\n",
            "Epoch 2/150\n",
            "6/6 [==============================] - 0s 17ms/step - loss: 0.4548 - accuracy: 0.8542 - val_loss: 0.4925 - val_accuracy: 0.8333\n",
            "Epoch 3/150\n",
            "6/6 [==============================] - 0s 24ms/step - loss: 0.4506 - accuracy: 0.8542 - val_loss: 0.4879 - val_accuracy: 0.8333\n",
            "Epoch 4/150\n",
            "6/6 [==============================] - 0s 16ms/step - loss: 0.4464 - accuracy: 0.8542 - val_loss: 0.4835 - val_accuracy: 0.8333\n",
            "Epoch 5/150\n",
            "6/6 [==============================] - 0s 39ms/step - loss: 0.4425 - accuracy: 0.8646 - val_loss: 0.4797 - val_accuracy: 0.8333\n",
            "Epoch 6/150\n",
            "6/6 [==============================] - 0s 44ms/step - loss: 0.4384 - accuracy: 0.8646 - val_loss: 0.4751 - val_accuracy: 0.8333\n",
            "Epoch 7/150\n",
            "6/6 [==============================] - 0s 20ms/step - loss: 0.4349 - accuracy: 0.8750 - val_loss: 0.4711 - val_accuracy: 0.8333\n",
            "Epoch 8/150\n",
            "6/6 [==============================] - 0s 12ms/step - loss: 0.4308 - accuracy: 0.8750 - val_loss: 0.4663 - val_accuracy: 0.8333\n",
            "Epoch 9/150\n",
            "6/6 [==============================] - 0s 12ms/step - loss: 0.4269 - accuracy: 0.8750 - val_loss: 0.4619 - val_accuracy: 0.8333\n",
            "Epoch 10/150\n",
            "6/6 [==============================] - 0s 11ms/step - loss: 0.4236 - accuracy: 0.8750 - val_loss: 0.4571 - val_accuracy: 0.8333\n",
            "Epoch 11/150\n",
            "6/6 [==============================] - 0s 11ms/step - loss: 0.4197 - accuracy: 0.8750 - val_loss: 0.4534 - val_accuracy: 0.8333\n",
            "Epoch 12/150\n",
            "6/6 [==============================] - 0s 10ms/step - loss: 0.4160 - accuracy: 0.8750 - val_loss: 0.4495 - val_accuracy: 0.8333\n",
            "Epoch 13/150\n",
            "6/6 [==============================] - 0s 8ms/step - loss: 0.4124 - accuracy: 0.8750 - val_loss: 0.4455 - val_accuracy: 0.8333\n",
            "Epoch 14/150\n",
            "6/6 [==============================] - 0s 8ms/step - loss: 0.4090 - accuracy: 0.8750 - val_loss: 0.4421 - val_accuracy: 0.8333\n",
            "Epoch 15/150\n",
            "6/6 [==============================] - 0s 12ms/step - loss: 0.4053 - accuracy: 0.8750 - val_loss: 0.4381 - val_accuracy: 0.8333\n",
            "Epoch 16/150\n",
            "6/6 [==============================] - 0s 8ms/step - loss: 0.4020 - accuracy: 0.8750 - val_loss: 0.4339 - val_accuracy: 0.8333\n",
            "Epoch 17/150\n",
            "6/6 [==============================] - 0s 8ms/step - loss: 0.3986 - accuracy: 0.8750 - val_loss: 0.4301 - val_accuracy: 0.8750\n",
            "Epoch 18/150\n",
            "6/6 [==============================] - 0s 12ms/step - loss: 0.3952 - accuracy: 0.8854 - val_loss: 0.4269 - val_accuracy: 0.8750\n",
            "Epoch 19/150\n",
            "6/6 [==============================] - 0s 12ms/step - loss: 0.3919 - accuracy: 0.8854 - val_loss: 0.4236 - val_accuracy: 0.8750\n",
            "Epoch 20/150\n",
            "6/6 [==============================] - 0s 8ms/step - loss: 0.3886 - accuracy: 0.8854 - val_loss: 0.4199 - val_accuracy: 0.8750\n",
            "Epoch 21/150\n",
            "6/6 [==============================] - 0s 9ms/step - loss: 0.3854 - accuracy: 0.8958 - val_loss: 0.4170 - val_accuracy: 0.8750\n",
            "Epoch 22/150\n",
            "6/6 [==============================] - 0s 12ms/step - loss: 0.3821 - accuracy: 0.8958 - val_loss: 0.4137 - val_accuracy: 0.8750\n",
            "Epoch 23/150\n",
            "6/6 [==============================] - 0s 11ms/step - loss: 0.3790 - accuracy: 0.8958 - val_loss: 0.4106 - val_accuracy: 0.8750\n",
            "Epoch 24/150\n",
            "6/6 [==============================] - 0s 11ms/step - loss: 0.3759 - accuracy: 0.8958 - val_loss: 0.4073 - val_accuracy: 0.8750\n",
            "Epoch 25/150\n",
            "6/6 [==============================] - 0s 11ms/step - loss: 0.3729 - accuracy: 0.8958 - val_loss: 0.4038 - val_accuracy: 0.8750\n",
            "Epoch 26/150\n",
            "6/6 [==============================] - 0s 8ms/step - loss: 0.3698 - accuracy: 0.9062 - val_loss: 0.4004 - val_accuracy: 0.8750\n",
            "Epoch 27/150\n",
            "6/6 [==============================] - 0s 8ms/step - loss: 0.3669 - accuracy: 0.9062 - val_loss: 0.3966 - val_accuracy: 0.8750\n",
            "Epoch 28/150\n",
            "6/6 [==============================] - 0s 8ms/step - loss: 0.3638 - accuracy: 0.9062 - val_loss: 0.3931 - val_accuracy: 0.8750\n",
            "Epoch 29/150\n",
            "6/6 [==============================] - 0s 14ms/step - loss: 0.3609 - accuracy: 0.9062 - val_loss: 0.3902 - val_accuracy: 0.8750\n",
            "Epoch 30/150\n",
            "6/6 [==============================] - 0s 11ms/step - loss: 0.3579 - accuracy: 0.9167 - val_loss: 0.3870 - val_accuracy: 0.8750\n",
            "Epoch 31/150\n",
            "6/6 [==============================] - 0s 12ms/step - loss: 0.3551 - accuracy: 0.9167 - val_loss: 0.3838 - val_accuracy: 0.8750\n",
            "Epoch 32/150\n",
            "6/6 [==============================] - 0s 9ms/step - loss: 0.3522 - accuracy: 0.9167 - val_loss: 0.3806 - val_accuracy: 0.8750\n",
            "Epoch 33/150\n",
            "6/6 [==============================] - 0s 11ms/step - loss: 0.3496 - accuracy: 0.9167 - val_loss: 0.3783 - val_accuracy: 0.8750\n",
            "Epoch 34/150\n",
            "6/6 [==============================] - 0s 12ms/step - loss: 0.3468 - accuracy: 0.9167 - val_loss: 0.3756 - val_accuracy: 0.8750\n",
            "Epoch 35/150\n",
            "6/6 [==============================] - 0s 8ms/step - loss: 0.3438 - accuracy: 0.9167 - val_loss: 0.3723 - val_accuracy: 0.8750\n",
            "Epoch 36/150\n",
            "6/6 [==============================] - 0s 12ms/step - loss: 0.3412 - accuracy: 0.9167 - val_loss: 0.3694 - val_accuracy: 0.8750\n",
            "Epoch 37/150\n",
            "6/6 [==============================] - 0s 8ms/step - loss: 0.3387 - accuracy: 0.9271 - val_loss: 0.3657 - val_accuracy: 0.8750\n",
            "Epoch 38/150\n",
            "6/6 [==============================] - 0s 8ms/step - loss: 0.3358 - accuracy: 0.9271 - val_loss: 0.3632 - val_accuracy: 0.8750\n",
            "Epoch 39/150\n",
            "6/6 [==============================] - 0s 9ms/step - loss: 0.3334 - accuracy: 0.9271 - val_loss: 0.3599 - val_accuracy: 0.8750\n",
            "Epoch 40/150\n",
            "6/6 [==============================] - 0s 11ms/step - loss: 0.3306 - accuracy: 0.9271 - val_loss: 0.3573 - val_accuracy: 0.8750\n",
            "Epoch 41/150\n",
            "6/6 [==============================] - 0s 10ms/step - loss: 0.3282 - accuracy: 0.9271 - val_loss: 0.3549 - val_accuracy: 0.8750\n",
            "Epoch 42/150\n",
            "6/6 [==============================] - 0s 12ms/step - loss: 0.3256 - accuracy: 0.9375 - val_loss: 0.3524 - val_accuracy: 0.8750\n",
            "Epoch 43/150\n",
            "6/6 [==============================] - 0s 11ms/step - loss: 0.3232 - accuracy: 0.9375 - val_loss: 0.3489 - val_accuracy: 0.8750\n",
            "Epoch 44/150\n",
            "6/6 [==============================] - 0s 11ms/step - loss: 0.3207 - accuracy: 0.9375 - val_loss: 0.3463 - val_accuracy: 0.8750\n",
            "Epoch 45/150\n",
            "6/6 [==============================] - 0s 14ms/step - loss: 0.3183 - accuracy: 0.9375 - val_loss: 0.3433 - val_accuracy: 0.8750\n",
            "Epoch 46/150\n",
            "6/6 [==============================] - 0s 12ms/step - loss: 0.3160 - accuracy: 0.9375 - val_loss: 0.3413 - val_accuracy: 0.8750\n",
            "Epoch 47/150\n",
            "6/6 [==============================] - 0s 8ms/step - loss: 0.3136 - accuracy: 0.9375 - val_loss: 0.3385 - val_accuracy: 0.8750\n",
            "Epoch 48/150\n",
            "6/6 [==============================] - 0s 11ms/step - loss: 0.3111 - accuracy: 0.9375 - val_loss: 0.3356 - val_accuracy: 0.8750\n",
            "Epoch 49/150\n",
            "6/6 [==============================] - 0s 11ms/step - loss: 0.3091 - accuracy: 0.9375 - val_loss: 0.3334 - val_accuracy: 0.8750\n",
            "Epoch 50/150\n",
            "6/6 [==============================] - 0s 9ms/step - loss: 0.3066 - accuracy: 0.9479 - val_loss: 0.3304 - val_accuracy: 0.8750\n",
            "Epoch 51/150\n",
            "6/6 [==============================] - 0s 8ms/step - loss: 0.3044 - accuracy: 0.9479 - val_loss: 0.3280 - val_accuracy: 0.8750\n",
            "Epoch 52/150\n",
            "6/6 [==============================] - 0s 10ms/step - loss: 0.3021 - accuracy: 0.9479 - val_loss: 0.3251 - val_accuracy: 0.8750\n",
            "Epoch 53/150\n",
            "6/6 [==============================] - 0s 13ms/step - loss: 0.3000 - accuracy: 0.9479 - val_loss: 0.3229 - val_accuracy: 0.8750\n",
            "Epoch 54/150\n",
            "6/6 [==============================] - 0s 15ms/step - loss: 0.2977 - accuracy: 0.9479 - val_loss: 0.3203 - val_accuracy: 0.8750\n",
            "Epoch 55/150\n",
            "6/6 [==============================] - 0s 17ms/step - loss: 0.2958 - accuracy: 0.9479 - val_loss: 0.3185 - val_accuracy: 0.9167\n",
            "Epoch 56/150\n",
            "6/6 [==============================] - 0s 15ms/step - loss: 0.2935 - accuracy: 0.9479 - val_loss: 0.3163 - val_accuracy: 0.9167\n",
            "Epoch 57/150\n",
            "6/6 [==============================] - 0s 15ms/step - loss: 0.2913 - accuracy: 0.9479 - val_loss: 0.3137 - val_accuracy: 0.9167\n",
            "Epoch 58/150\n",
            "6/6 [==============================] - 0s 15ms/step - loss: 0.2895 - accuracy: 0.9479 - val_loss: 0.3107 - val_accuracy: 0.9167\n",
            "Epoch 59/150\n",
            "6/6 [==============================] - 0s 18ms/step - loss: 0.2874 - accuracy: 0.9479 - val_loss: 0.3097 - val_accuracy: 0.9167\n",
            "Epoch 60/150\n",
            "6/6 [==============================] - 0s 12ms/step - loss: 0.2853 - accuracy: 0.9479 - val_loss: 0.3068 - val_accuracy: 0.9167\n",
            "Epoch 61/150\n",
            "6/6 [==============================] - 0s 15ms/step - loss: 0.2832 - accuracy: 0.9479 - val_loss: 0.3044 - val_accuracy: 0.9167\n",
            "Epoch 62/150\n",
            "6/6 [==============================] - 0s 11ms/step - loss: 0.2813 - accuracy: 0.9479 - val_loss: 0.3021 - val_accuracy: 0.9167\n",
            "Epoch 63/150\n",
            "6/6 [==============================] - 0s 11ms/step - loss: 0.2793 - accuracy: 0.9479 - val_loss: 0.3008 - val_accuracy: 0.9167\n",
            "Epoch 64/150\n",
            "6/6 [==============================] - 0s 11ms/step - loss: 0.2773 - accuracy: 0.9479 - val_loss: 0.2988 - val_accuracy: 0.9167\n",
            "Epoch 65/150\n",
            "6/6 [==============================] - 0s 11ms/step - loss: 0.2755 - accuracy: 0.9479 - val_loss: 0.2971 - val_accuracy: 0.9167\n",
            "Epoch 66/150\n",
            "6/6 [==============================] - 0s 12ms/step - loss: 0.2735 - accuracy: 0.9479 - val_loss: 0.2954 - val_accuracy: 0.9167\n",
            "Epoch 67/150\n",
            "6/6 [==============================] - 0s 11ms/step - loss: 0.2718 - accuracy: 0.9479 - val_loss: 0.2932 - val_accuracy: 0.9583\n",
            "Epoch 68/150\n",
            "6/6 [==============================] - 0s 11ms/step - loss: 0.2699 - accuracy: 0.9479 - val_loss: 0.2920 - val_accuracy: 0.9583\n",
            "Epoch 69/150\n",
            "6/6 [==============================] - 0s 15ms/step - loss: 0.2680 - accuracy: 0.9479 - val_loss: 0.2897 - val_accuracy: 0.9583\n",
            "Epoch 70/150\n",
            "6/6 [==============================] - 0s 12ms/step - loss: 0.2665 - accuracy: 0.9479 - val_loss: 0.2882 - val_accuracy: 0.9583\n",
            "Epoch 71/150\n",
            "6/6 [==============================] - 0s 15ms/step - loss: 0.2645 - accuracy: 0.9479 - val_loss: 0.2859 - val_accuracy: 0.9583\n",
            "Epoch 72/150\n",
            "6/6 [==============================] - 0s 15ms/step - loss: 0.2628 - accuracy: 0.9479 - val_loss: 0.2833 - val_accuracy: 0.9583\n",
            "Epoch 73/150\n",
            "6/6 [==============================] - 0s 18ms/step - loss: 0.2610 - accuracy: 0.9479 - val_loss: 0.2816 - val_accuracy: 0.9583\n",
            "Epoch 74/150\n",
            "6/6 [==============================] - 0s 16ms/step - loss: 0.2595 - accuracy: 0.9479 - val_loss: 0.2787 - val_accuracy: 0.9583\n",
            "Epoch 75/150\n",
            "6/6 [==============================] - 0s 12ms/step - loss: 0.2577 - accuracy: 0.9479 - val_loss: 0.2763 - val_accuracy: 0.9583\n",
            "Epoch 76/150\n",
            "6/6 [==============================] - 0s 16ms/step - loss: 0.2560 - accuracy: 0.9479 - val_loss: 0.2752 - val_accuracy: 0.9583\n",
            "Epoch 77/150\n",
            "6/6 [==============================] - 0s 15ms/step - loss: 0.2544 - accuracy: 0.9583 - val_loss: 0.2734 - val_accuracy: 0.9583\n",
            "Epoch 78/150\n",
            "6/6 [==============================] - 0s 15ms/step - loss: 0.2526 - accuracy: 0.9583 - val_loss: 0.2718 - val_accuracy: 0.9583\n",
            "Epoch 79/150\n",
            "6/6 [==============================] - 0s 14ms/step - loss: 0.2510 - accuracy: 0.9583 - val_loss: 0.2700 - val_accuracy: 0.9583\n",
            "Epoch 80/150\n",
            "6/6 [==============================] - 0s 13ms/step - loss: 0.2495 - accuracy: 0.9583 - val_loss: 0.2685 - val_accuracy: 0.9583\n",
            "Epoch 81/150\n",
            "6/6 [==============================] - 0s 16ms/step - loss: 0.2479 - accuracy: 0.9583 - val_loss: 0.2671 - val_accuracy: 0.9583\n",
            "Epoch 82/150\n",
            "6/6 [==============================] - 0s 14ms/step - loss: 0.2462 - accuracy: 0.9583 - val_loss: 0.2650 - val_accuracy: 0.9583\n",
            "Epoch 83/150\n",
            "6/6 [==============================] - 0s 15ms/step - loss: 0.2447 - accuracy: 0.9583 - val_loss: 0.2630 - val_accuracy: 0.9583\n",
            "Epoch 84/150\n",
            "6/6 [==============================] - 0s 14ms/step - loss: 0.2432 - accuracy: 0.9583 - val_loss: 0.2611 - val_accuracy: 0.9583\n",
            "Epoch 85/150\n",
            "6/6 [==============================] - 0s 17ms/step - loss: 0.2418 - accuracy: 0.9583 - val_loss: 0.2602 - val_accuracy: 0.9583\n",
            "Epoch 86/150\n",
            "6/6 [==============================] - 0s 15ms/step - loss: 0.2401 - accuracy: 0.9583 - val_loss: 0.2588 - val_accuracy: 0.9583\n",
            "Epoch 87/150\n",
            "6/6 [==============================] - 0s 12ms/step - loss: 0.2386 - accuracy: 0.9583 - val_loss: 0.2566 - val_accuracy: 0.9583\n",
            "Epoch 88/150\n",
            "6/6 [==============================] - 0s 11ms/step - loss: 0.2371 - accuracy: 0.9583 - val_loss: 0.2545 - val_accuracy: 1.0000\n",
            "Epoch 89/150\n",
            "6/6 [==============================] - 0s 12ms/step - loss: 0.2357 - accuracy: 0.9583 - val_loss: 0.2532 - val_accuracy: 1.0000\n",
            "Epoch 90/150\n",
            "6/6 [==============================] - 0s 15ms/step - loss: 0.2344 - accuracy: 0.9583 - val_loss: 0.2510 - val_accuracy: 1.0000\n",
            "Epoch 91/150\n",
            "6/6 [==============================] - 0s 16ms/step - loss: 0.2330 - accuracy: 0.9583 - val_loss: 0.2492 - val_accuracy: 1.0000\n",
            "Epoch 92/150\n",
            "6/6 [==============================] - 0s 14ms/step - loss: 0.2315 - accuracy: 0.9583 - val_loss: 0.2481 - val_accuracy: 1.0000\n",
            "Epoch 93/150\n",
            "6/6 [==============================] - 0s 17ms/step - loss: 0.2304 - accuracy: 0.9583 - val_loss: 0.2477 - val_accuracy: 1.0000\n",
            "Epoch 94/150\n",
            "6/6 [==============================] - 0s 15ms/step - loss: 0.2287 - accuracy: 0.9583 - val_loss: 0.2463 - val_accuracy: 1.0000\n",
            "Epoch 95/150\n",
            "6/6 [==============================] - 0s 12ms/step - loss: 0.2273 - accuracy: 0.9583 - val_loss: 0.2446 - val_accuracy: 1.0000\n",
            "Epoch 96/150\n",
            "6/6 [==============================] - 0s 9ms/step - loss: 0.2258 - accuracy: 0.9583 - val_loss: 0.2426 - val_accuracy: 1.0000\n",
            "Epoch 97/150\n",
            "6/6 [==============================] - 0s 12ms/step - loss: 0.2249 - accuracy: 0.9583 - val_loss: 0.2398 - val_accuracy: 1.0000\n",
            "Epoch 98/150\n",
            "6/6 [==============================] - 0s 14ms/step - loss: 0.2233 - accuracy: 0.9583 - val_loss: 0.2383 - val_accuracy: 1.0000\n",
            "Epoch 99/150\n",
            "6/6 [==============================] - 0s 12ms/step - loss: 0.2220 - accuracy: 0.9583 - val_loss: 0.2371 - val_accuracy: 1.0000\n",
            "Epoch 100/150\n",
            "6/6 [==============================] - 0s 8ms/step - loss: 0.2208 - accuracy: 0.9583 - val_loss: 0.2357 - val_accuracy: 1.0000\n",
            "Epoch 101/150\n",
            "6/6 [==============================] - 0s 11ms/step - loss: 0.2194 - accuracy: 0.9583 - val_loss: 0.2345 - val_accuracy: 1.0000\n",
            "Epoch 102/150\n",
            "6/6 [==============================] - 0s 8ms/step - loss: 0.2183 - accuracy: 0.9583 - val_loss: 0.2325 - val_accuracy: 1.0000\n",
            "Epoch 103/150\n",
            "6/6 [==============================] - 0s 8ms/step - loss: 0.2171 - accuracy: 0.9583 - val_loss: 0.2318 - val_accuracy: 1.0000\n",
            "Epoch 104/150\n",
            "6/6 [==============================] - 0s 9ms/step - loss: 0.2157 - accuracy: 0.9583 - val_loss: 0.2300 - val_accuracy: 1.0000\n",
            "Epoch 105/150\n",
            "6/6 [==============================] - 0s 8ms/step - loss: 0.2146 - accuracy: 0.9583 - val_loss: 0.2282 - val_accuracy: 1.0000\n",
            "Epoch 106/150\n",
            "6/6 [==============================] - 0s 8ms/step - loss: 0.2135 - accuracy: 0.9583 - val_loss: 0.2267 - val_accuracy: 1.0000\n",
            "Epoch 107/150\n",
            "6/6 [==============================] - 0s 8ms/step - loss: 0.2123 - accuracy: 0.9583 - val_loss: 0.2258 - val_accuracy: 1.0000\n",
            "Epoch 108/150\n",
            "6/6 [==============================] - 0s 9ms/step - loss: 0.2112 - accuracy: 0.9583 - val_loss: 0.2244 - val_accuracy: 1.0000\n",
            "Epoch 109/150\n",
            "6/6 [==============================] - 0s 11ms/step - loss: 0.2100 - accuracy: 0.9583 - val_loss: 0.2226 - val_accuracy: 1.0000\n",
            "Epoch 110/150\n",
            "6/6 [==============================] - 0s 12ms/step - loss: 0.2090 - accuracy: 0.9583 - val_loss: 0.2208 - val_accuracy: 1.0000\n",
            "Epoch 111/150\n",
            "6/6 [==============================] - 0s 11ms/step - loss: 0.2078 - accuracy: 0.9583 - val_loss: 0.2196 - val_accuracy: 1.0000\n",
            "Epoch 112/150\n",
            "6/6 [==============================] - 0s 12ms/step - loss: 0.2068 - accuracy: 0.9583 - val_loss: 0.2179 - val_accuracy: 1.0000\n",
            "Epoch 113/150\n",
            "6/6 [==============================] - 0s 11ms/step - loss: 0.2057 - accuracy: 0.9583 - val_loss: 0.2175 - val_accuracy: 1.0000\n",
            "Epoch 114/150\n",
            "6/6 [==============================] - 0s 9ms/step - loss: 0.2046 - accuracy: 0.9583 - val_loss: 0.2159 - val_accuracy: 1.0000\n",
            "Epoch 115/150\n",
            "6/6 [==============================] - 0s 14ms/step - loss: 0.2036 - accuracy: 0.9583 - val_loss: 0.2148 - val_accuracy: 1.0000\n",
            "Epoch 116/150\n",
            "6/6 [==============================] - 0s 11ms/step - loss: 0.2025 - accuracy: 0.9583 - val_loss: 0.2143 - val_accuracy: 1.0000\n",
            "Epoch 117/150\n",
            "6/6 [==============================] - 0s 8ms/step - loss: 0.2016 - accuracy: 0.9583 - val_loss: 0.2128 - val_accuracy: 1.0000\n",
            "Epoch 118/150\n",
            "6/6 [==============================] - 0s 12ms/step - loss: 0.2004 - accuracy: 0.9583 - val_loss: 0.2117 - val_accuracy: 1.0000\n",
            "Epoch 119/150\n",
            "6/6 [==============================] - 0s 8ms/step - loss: 0.1993 - accuracy: 0.9583 - val_loss: 0.2105 - val_accuracy: 1.0000\n",
            "Epoch 120/150\n",
            "6/6 [==============================] - 0s 9ms/step - loss: 0.1983 - accuracy: 0.9583 - val_loss: 0.2096 - val_accuracy: 1.0000\n",
            "Epoch 121/150\n",
            "6/6 [==============================] - 0s 8ms/step - loss: 0.1973 - accuracy: 0.9583 - val_loss: 0.2083 - val_accuracy: 1.0000\n",
            "Epoch 122/150\n",
            "6/6 [==============================] - 0s 8ms/step - loss: 0.1966 - accuracy: 0.9479 - val_loss: 0.2081 - val_accuracy: 1.0000\n",
            "Epoch 123/150\n",
            "6/6 [==============================] - 0s 9ms/step - loss: 0.1953 - accuracy: 0.9479 - val_loss: 0.2065 - val_accuracy: 1.0000\n",
            "Epoch 124/150\n",
            "6/6 [==============================] - 0s 13ms/step - loss: 0.1944 - accuracy: 0.9479 - val_loss: 0.2051 - val_accuracy: 1.0000\n",
            "Epoch 125/150\n",
            "6/6 [==============================] - 0s 8ms/step - loss: 0.1935 - accuracy: 0.9479 - val_loss: 0.2034 - val_accuracy: 1.0000\n",
            "Epoch 126/150\n",
            "6/6 [==============================] - 0s 8ms/step - loss: 0.1925 - accuracy: 0.9479 - val_loss: 0.2024 - val_accuracy: 1.0000\n",
            "Epoch 127/150\n",
            "6/6 [==============================] - 0s 8ms/step - loss: 0.1916 - accuracy: 0.9479 - val_loss: 0.2012 - val_accuracy: 1.0000\n",
            "Epoch 128/150\n",
            "6/6 [==============================] - 0s 11ms/step - loss: 0.1908 - accuracy: 0.9479 - val_loss: 0.2005 - val_accuracy: 1.0000\n",
            "Epoch 129/150\n",
            "6/6 [==============================] - 0s 9ms/step - loss: 0.1898 - accuracy: 0.9479 - val_loss: 0.1988 - val_accuracy: 1.0000\n",
            "Epoch 130/150\n",
            "6/6 [==============================] - 0s 12ms/step - loss: 0.1889 - accuracy: 0.9479 - val_loss: 0.1977 - val_accuracy: 1.0000\n",
            "Epoch 131/150\n",
            "6/6 [==============================] - 0s 9ms/step - loss: 0.1881 - accuracy: 0.9479 - val_loss: 0.1965 - val_accuracy: 1.0000\n",
            "Epoch 132/150\n",
            "6/6 [==============================] - 0s 10ms/step - loss: 0.1871 - accuracy: 0.9479 - val_loss: 0.1957 - val_accuracy: 1.0000\n",
            "Epoch 133/150\n",
            "6/6 [==============================] - 0s 9ms/step - loss: 0.1863 - accuracy: 0.9479 - val_loss: 0.1950 - val_accuracy: 1.0000\n",
            "Epoch 134/150\n",
            "6/6 [==============================] - 0s 11ms/step - loss: 0.1855 - accuracy: 0.9479 - val_loss: 0.1941 - val_accuracy: 1.0000\n",
            "Epoch 135/150\n",
            "6/6 [==============================] - 0s 12ms/step - loss: 0.1845 - accuracy: 0.9479 - val_loss: 0.1929 - val_accuracy: 1.0000\n",
            "Epoch 136/150\n",
            "6/6 [==============================] - 0s 8ms/step - loss: 0.1837 - accuracy: 0.9479 - val_loss: 0.1920 - val_accuracy: 1.0000\n",
            "Epoch 137/150\n",
            "6/6 [==============================] - 0s 13ms/step - loss: 0.1829 - accuracy: 0.9479 - val_loss: 0.1912 - val_accuracy: 1.0000\n",
            "Epoch 138/150\n",
            "6/6 [==============================] - 0s 8ms/step - loss: 0.1821 - accuracy: 0.9479 - val_loss: 0.1901 - val_accuracy: 1.0000\n",
            "Epoch 139/150\n",
            "6/6 [==============================] - 0s 8ms/step - loss: 0.1814 - accuracy: 0.9479 - val_loss: 0.1885 - val_accuracy: 1.0000\n",
            "Epoch 140/150\n",
            "6/6 [==============================] - 0s 8ms/step - loss: 0.1805 - accuracy: 0.9479 - val_loss: 0.1883 - val_accuracy: 1.0000\n",
            "Epoch 141/150\n",
            "6/6 [==============================] - 0s 12ms/step - loss: 0.1797 - accuracy: 0.9479 - val_loss: 0.1877 - val_accuracy: 1.0000\n",
            "Epoch 142/150\n",
            "6/6 [==============================] - 0s 8ms/step - loss: 0.1789 - accuracy: 0.9479 - val_loss: 0.1864 - val_accuracy: 1.0000\n",
            "Epoch 143/150\n",
            "6/6 [==============================] - 0s 9ms/step - loss: 0.1781 - accuracy: 0.9479 - val_loss: 0.1856 - val_accuracy: 1.0000\n",
            "Epoch 144/150\n",
            "6/6 [==============================] - 0s 12ms/step - loss: 0.1773 - accuracy: 0.9479 - val_loss: 0.1840 - val_accuracy: 1.0000\n",
            "Epoch 145/150\n",
            "6/6 [==============================] - 0s 8ms/step - loss: 0.1766 - accuracy: 0.9479 - val_loss: 0.1831 - val_accuracy: 1.0000\n",
            "Epoch 146/150\n",
            "6/6 [==============================] - 0s 8ms/step - loss: 0.1757 - accuracy: 0.9479 - val_loss: 0.1823 - val_accuracy: 1.0000\n",
            "Epoch 147/150\n",
            "6/6 [==============================] - 0s 8ms/step - loss: 0.1753 - accuracy: 0.9479 - val_loss: 0.1824 - val_accuracy: 1.0000\n",
            "Epoch 148/150\n",
            "6/6 [==============================] - 0s 12ms/step - loss: 0.1743 - accuracy: 0.9479 - val_loss: 0.1815 - val_accuracy: 1.0000\n",
            "Epoch 149/150\n",
            "6/6 [==============================] - 0s 13ms/step - loss: 0.1738 - accuracy: 0.9479 - val_loss: 0.1812 - val_accuracy: 1.0000\n",
            "Epoch 150/150\n",
            "6/6 [==============================] - 0s 9ms/step - loss: 0.1728 - accuracy: 0.9479 - val_loss: 0.1797 - val_accuracy: 1.0000\n"
          ]
        }
      ]
    },
    {
      "cell_type": "code",
      "source": [
        "def plot_history(history):\n",
        "  hist = pd.DataFrame(history.history)\n",
        "  hist['epoch'] = history.epoch\n",
        "\n",
        "  plt.figure(figsize=(16, 8))\n",
        "  plt.subplot(1,2,1)\n",
        "  plt.xlabel('epoch')\n",
        "  plt.ylabel('loss')\n",
        "  plt.plot(hist['epoch'], hist['loss'], label='train loss')\n",
        "  plt.plot(hist['epoch'], hist['val_loss'], label='val loss')\n",
        "  plt.legend()\n",
        "\n",
        "  plt.subplot(1,2,2)\n",
        "  plt.xlabel('epoch')\n",
        "  plt.ylabel('accuracy')\n",
        "  plt.plot(hist['epoch'], hist['accuracy'], label='train accuracy')\n",
        "  plt.plot(hist['epoch'], hist['val_accuracy'], label='val accuracy')\n",
        "  plt.legend()\n",
        "  plt.show()"
      ],
      "metadata": {
        "id": "MmpGzodoYA2l"
      },
      "execution_count": 26,
      "outputs": []
    },
    {
      "cell_type": "markdown",
      "source": [
        "### 6.평가"
      ],
      "metadata": {
        "id": "b94lguoOZaar"
      }
    },
    {
      "cell_type": "code",
      "source": [
        "plot_history(history)"
      ],
      "metadata": {
        "colab": {
          "base_uri": "https://localhost:8080/",
          "height": 696
        },
        "id": "HfCquMRaYtCY",
        "outputId": "08c1baa3-617c-4f61-c923-df48b8b330e9"
      },
      "execution_count": 27,
      "outputs": [
        {
          "output_type": "display_data",
          "data": {
            "text/plain": [
              "<Figure size 1600x800 with 2 Axes>"
            ],
            "image/png": "[encoded data removed]"
          },
          "metadata": {}
        }
      ]
    },
    {
      "cell_type": "code",
      "source": [
        "X_test_s = scaler.transform(X_test)"
      ],
      "metadata": {
        "id": "TDRJI5GJZbXY"
      },
      "execution_count": 28,
      "outputs": []
    },
    {
      "cell_type": "code",
      "source": [
        "y_test = le.transform(y_test)"
      ],
      "metadata": {
        "id": "ssuKifjGZiaK"
      },
      "execution_count": 40,
      "outputs": []
    },
    {
      "cell_type": "code",
      "source": [
        "# 예측\n",
        "\n",
        "y_pred = model.predict(X_test_s)\n",
        "y_pred"
      ],
      "metadata": {
        "colab": {
          "base_uri": "https://localhost:8080/"
        },
        "id": "CRtekCh3Zoy6",
        "outputId": "4cb26b50-7703-40d6-d3f0-c5514ea6aab5"
      },
      "execution_count": 41,
      "outputs": [
        {
          "output_type": "stream",
          "name": "stdout",
          "text": [
            "1/1 [==============================] - 0s 24ms/step\n"
          ]
        },
        {
          "output_type": "execute_result",
          "data": {
            "text/plain": [
              "array([[1.04948096e-01, 7.31456041e-01, 1.63595766e-01],\n",
              "       [9.97570217e-01, 2.20254459e-03, 2.27267636e-04],\n",
              "       [1.24123908e-04, 3.81964492e-04, 9.99493778e-01],\n",
              "       [1.00714542e-01, 6.79823697e-01, 2.19461739e-01],\n",
              "       [9.06127095e-02, 5.82924128e-01, 3.26463163e-01],\n",
              "       [9.94438350e-01, 5.01608988e-03, 5.45623770e-04],\n",
              "       [1.13758951e-01, 7.56115973e-01, 1.30125180e-01],\n",
              "       [3.34865996e-03, 1.41443480e-02, 9.82506931e-01],\n",
              "       [7.10246637e-02, 4.28526491e-01, 5.00448763e-01],\n",
              "       [1.06833279e-01, 7.61524200e-01, 1.31642610e-01],\n",
              "       [2.38760971e-02, 1.23346761e-01, 8.52777123e-01],\n",
              "       [9.96146798e-01, 3.48304678e-03, 3.70103517e-04],\n",
              "       [9.97904301e-01, 1.90126162e-03, 1.94341541e-04],\n",
              "       [9.96425807e-01, 3.23228422e-03, 3.41816660e-04],\n",
              "       [9.98903811e-01, 9.98203293e-04, 9.79139513e-05],\n",
              "       [1.02995805e-01, 7.06041276e-01, 1.90962911e-01],\n",
              "       [2.78337626e-03, 1.15470821e-02, 9.85669553e-01],\n",
              "       [1.06833279e-01, 7.61524200e-01, 1.31642610e-01],\n",
              "       [1.06833279e-01, 7.61524200e-01, 1.31642610e-01],\n",
              "       [2.09489884e-03, 8.45481828e-03, 9.89450276e-01],\n",
              "       [9.96683955e-01, 3.00026336e-03, 3.15769459e-04],\n",
              "       [4.90876473e-02, 2.77905762e-01, 6.73006535e-01],\n",
              "       [9.95681047e-01, 3.90139874e-03, 4.17583360e-04],\n",
              "       [3.63722653e-03, 1.54875917e-02, 9.80875134e-01],\n",
              "       [1.92799792e-02, 9.72577408e-02, 8.83462310e-01],\n",
              "       [2.56974623e-03, 1.05785122e-02, 9.86851752e-01],\n",
              "       [7.10851979e-03, 3.23361307e-02, 9.60555375e-01],\n",
              "       [2.14989483e-03, 8.69855471e-03, 9.89151597e-01],\n",
              "       [9.93301272e-01, 6.03444036e-03, 6.64237130e-04],\n",
              "       [9.95174468e-01, 4.35600104e-03, 4.69550083e-04]], dtype=float32)"
            ]
          },
          "metadata": {},
          "execution_count": 41
        }
      ]
    },
    {
      "cell_type": "code",
      "source": [
        "y_pred = np.argmax(y_pred, axis=1)"
      ],
      "metadata": {
        "id": "TSsKS04KZ541"
      },
      "execution_count": 46,
      "outputs": []
    },
    {
      "cell_type": "code",
      "source": [
        "y_test"
      ],
      "metadata": {
        "colab": {
          "base_uri": "https://localhost:8080/"
        },
        "id": "t1n33RDIaIgL",
        "outputId": "b5f6cf54-fbd2-409e-8c48-8c287eef0cca"
      },
      "execution_count": 47,
      "outputs": [
        {
          "output_type": "execute_result",
          "data": {
            "text/plain": [
              "array([1, 0, 2, 1, 1, 0, 1, 2, 1, 1, 2, 0, 0, 0, 0, 1, 2, 1, 1, 2, 0, 2,\n",
              "       0, 2, 2, 2, 2, 2, 0, 0])"
            ]
          },
          "metadata": {},
          "execution_count": 47
        }
      ]
    },
    {
      "cell_type": "code",
      "source": [
        "from sklearn.metrics import accuracy_score, recall_score, precision_score\n",
        "\n",
        "def print_metrics(y_test, y_pred):\n",
        "  print(f'accuracy : {accuracy_score(y_test, y_pred)}')\n",
        "  print(f'accuracy : {recall_score(y_test, y_pred, average=\"macro\")}')\n",
        "  print(f'accuracy : {precision_score(y_test, y_pred, average=\"macro\")}')"
      ],
      "metadata": {
        "id": "RYeP8f0maUmJ"
      },
      "execution_count": 48,
      "outputs": []
    },
    {
      "cell_type": "code",
      "source": [
        "print_metrics(y_test, y_pred)"
      ],
      "metadata": {
        "colab": {
          "base_uri": "https://localhost:8080/"
        },
        "id": "6TMK6r8ya2LD",
        "outputId": "2b65903d-01dd-4506-a6e4-8f2f25221f16"
      },
      "execution_count": 49,
      "outputs": [
        {
          "output_type": "stream",
          "name": "stdout",
          "text": [
            "accuracy : 0.9666666666666667\n",
            "accuracy : 0.9629629629629629\n",
            "accuracy : 0.9722222222222222\n"
          ]
        }
      ]
    }
  ]
}