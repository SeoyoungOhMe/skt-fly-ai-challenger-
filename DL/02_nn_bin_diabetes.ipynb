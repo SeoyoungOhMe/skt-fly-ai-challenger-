{
  "nbformat": 4,
  "nbformat_minor": 0,
  "metadata": {
    "colab": {
      "provenance": [],
      "authorship_tag": "ABX9TyPFiyYvZtuI+TXipZag6pIv",
      "include_colab_link": true
    },
    "kernelspec": {
      "name": "python3",
      "display_name": "Python 3"
    },
    "language_info": {
      "name": "python"
    }
  },
  "cells": [
    {
      "cell_type": "markdown",
      "metadata": {
        "id": "view-in-github",
        "colab_type": "text"
      },
      "source": [
        "<a href=\"https://colab.research.google.com/github/SeoyoungOhMe/skt-fly-ai-challenger-class/blob/master/02_nn_bin_diabetes.ipynb\" target=\"_parent\"><img src=\"https://colab.research.google.com/assets/colab-badge.svg\" alt=\"Open In Colab\"/></a>"
      ]
    },
    {
      "cell_type": "markdown",
      "source": [
        "# 뉴럴네트워크 이진분류\n",
        "- diabetes dataset"
      ],
      "metadata": {
        "id": "K2f6GFMNIyyP"
      }
    },
    {
      "cell_type": "code",
      "execution_count": 1,
      "metadata": {
        "id": "Hwy2jCX1Inen"
      },
      "outputs": [],
      "source": [
        "import numpy as np\n",
        "import pandas as pd\n",
        "import matplotlib.pyplot as plt\n",
        "import seaborn as sns\n",
        "import tensorflow as tf"
      ]
    },
    {
      "cell_type": "markdown",
      "source": [
        "### 1.데이터준비"
      ],
      "metadata": {
        "id": "unJPn4vfI-Ho"
      }
    },
    {
      "cell_type": "code",
      "source": [
        "!wget https://raw.githubusercontent.com/devdio/datasets/main/diabetes.csv"
      ],
      "metadata": {
        "colab": {
          "base_uri": "https://localhost:8080/"
        },
        "id": "KU3426ItI8Qc",
        "outputId": "d05d1c28-43c2-4779-936f-661a8c77aaca"
      },
      "execution_count": 2,
      "outputs": [
        {
          "output_type": "stream",
          "name": "stdout",
          "text": [
            "--2023-12-29 05:55:33--  https://raw.githubusercontent.com/devdio/datasets/main/diabetes.csv\n",
            "Resolving raw.githubusercontent.com (raw.githubusercontent.com)... 185.199.108.133, 185.199.109.133, 185.199.110.133, ...\n",
            "Connecting to raw.githubusercontent.com (raw.githubusercontent.com)|185.199.108.133|:443... connected.\n",
            "HTTP request sent, awaiting response... 200 OK\n",
            "Length: 23873 (23K) [text/plain]\n",
            "Saving to: ‘diabetes.csv’\n",
            "\n",
            "\rdiabetes.csv          0%[                    ]       0  --.-KB/s               \rdiabetes.csv        100%[===================>]  23.31K  --.-KB/s    in 0.003s  \n",
            "\n",
            "2023-12-29 05:55:33 (8.33 MB/s) - ‘diabetes.csv’ saved [23873/23873]\n",
            "\n"
          ]
        }
      ]
    },
    {
      "cell_type": "code",
      "source": [
        "diabetes = pd.read_csv('diabetes.csv')\n",
        "diabetes.shape"
      ],
      "metadata": {
        "colab": {
          "base_uri": "https://localhost:8080/"
        },
        "id": "bozmDLxiJGSe",
        "outputId": "734eb97b-6e76-4c09-bdc9-406fdebdd445"
      },
      "execution_count": 3,
      "outputs": [
        {
          "output_type": "execute_result",
          "data": {
            "text/plain": [
              "(768, 9)"
            ]
          },
          "metadata": {},
          "execution_count": 3
        }
      ]
    },
    {
      "cell_type": "code",
      "source": [
        "df = diabetes.copy()\n",
        "df.head()"
      ],
      "metadata": {
        "colab": {
          "base_uri": "https://localhost:8080/",
          "height": 204
        },
        "id": "OC9Pyg9JJPB5",
        "outputId": "053b31ed-0d66-4a30-8f4f-e6883a3b62af"
      },
      "execution_count": 4,
      "outputs": [
        {
          "output_type": "execute_result",
          "data": {
            "text/plain": [
              "   Pregnancies  Glucose  BloodPressure  SkinThickness  Insulin   BMI  \\\n",
              "0            6      148             72             35        0  33.6   \n",
              "1            1       85             66             29        0  26.6   \n",
              "2            8      183             64              0        0  23.3   \n",
              "3            1       89             66             23       94  28.1   \n",
              "4            0      137             40             35      168  43.1   \n",
              "\n",
              "   DiabetesPedigreeFunction  Age  Outcome  \n",
              "0                     0.627   50        1  \n",
              "1                     0.351   31        0  \n",
              "2                     0.672   32        1  \n",
              "3                     0.167   21        0  \n",
              "4                     2.288   33        1  "
            ],
            "text/html": [
              "\n",
              "  <div id=\"df-42ecc6c4-81b0-48e7-9b97-3c61508ac4e8\" class=\"colab-df-container\">\n",
              "    <div>\n",
              "<style scoped>\n",
              "    .dataframe tbody tr th:only-of-type {\n",
              "        vertical-align: middle;\n",
              "    }\n",
              "\n",
              "    .dataframe tbody tr th {\n",
              "        vertical-align: top;\n",
              "    }\n",
              "\n",
              "    .dataframe thead th {\n",
              "        text-align: right;\n",
              "    }\n",
              "</style>\n",
              "<table border=\"1\" class=\"dataframe\">\n",
              "  <thead>\n",
              "    <tr style=\"text-align: right;\">\n",
              "      <th></th>\n",
              "      <th>Pregnancies</th>\n",
              "      <th>Glucose</th>\n",
              "      <th>BloodPressure</th>\n",
              "      <th>SkinThickness</th>\n",
              "      <th>Insulin</th>\n",
              "      <th>BMI</th>\n",
              "      <th>DiabetesPedigreeFunction</th>\n",
              "      <th>Age</th>\n",
              "      <th>Outcome</th>\n",
              "    </tr>\n",
              "  </thead>\n",
              "  <tbody>\n",
              "    <tr>\n",
              "      <th>0</th>\n",
              "      <td>6</td>\n",
              "      <td>148</td>\n",
              "      <td>72</td>\n",
              "      <td>35</td>\n",
              "      <td>0</td>\n",
              "      <td>33.6</td>\n",
              "      <td>0.627</td>\n",
              "      <td>50</td>\n",
              "      <td>1</td>\n",
              "    </tr>\n",
              "    <tr>\n",
              "      <th>1</th>\n",
              "      <td>1</td>\n",
              "      <td>85</td>\n",
              "      <td>66</td>\n",
              "      <td>29</td>\n",
              "      <td>0</td>\n",
              "      <td>26.6</td>\n",
              "      <td>0.351</td>\n",
              "      <td>31</td>\n",
              "      <td>0</td>\n",
              "    </tr>\n",
              "    <tr>\n",
              "      <th>2</th>\n",
              "      <td>8</td>\n",
              "      <td>183</td>\n",
              "      <td>64</td>\n",
              "      <td>0</td>\n",
              "      <td>0</td>\n",
              "      <td>23.3</td>\n",
              "      <td>0.672</td>\n",
              "      <td>32</td>\n",
              "      <td>1</td>\n",
              "    </tr>\n",
              "    <tr>\n",
              "      <th>3</th>\n",
              "      <td>1</td>\n",
              "      <td>89</td>\n",
              "      <td>66</td>\n",
              "      <td>23</td>\n",
              "      <td>94</td>\n",
              "      <td>28.1</td>\n",
              "      <td>0.167</td>\n",
              "      <td>21</td>\n",
              "      <td>0</td>\n",
              "    </tr>\n",
              "    <tr>\n",
              "      <th>4</th>\n",
              "      <td>0</td>\n",
              "      <td>137</td>\n",
              "      <td>40</td>\n",
              "      <td>35</td>\n",
              "      <td>168</td>\n",
              "      <td>43.1</td>\n",
              "      <td>2.288</td>\n",
              "      <td>33</td>\n",
              "      <td>1</td>\n",
              "    </tr>\n",
              "  </tbody>\n",
              "</table>\n",
              "</div>\n",
              "    <div class=\"colab-df-buttons\">\n",
              "\n",
              "  <div class=\"colab-df-container\">\n",
              "    <button class=\"colab-df-convert\" onclick=\"convertToInteractive('df-42ecc6c4-81b0-48e7-9b97-3c61508ac4e8')\"\n",
              "            title=\"Convert this dataframe to an interactive table.\"\n",
              "            style=\"display:none;\">\n",
              "\n",
              "  <svg xmlns=\"http://www.w3.org/2000/svg\" height=\"24px\" viewBox=\"0 -960 960 960\">\n",
              "    <path d=\"M120-120v-720h720v720H120Zm60-500h600v-160H180v160Zm220 220h160v-160H400v160Zm0 220h160v-160H400v160ZM180-400h160v-160H180v160Zm440 0h160v-160H620v160ZM180-180h160v-160H180v160Zm440 0h160v-160H620v160Z\"/>\n",
              "  </svg>\n",
              "    </button>\n",
              "\n",
              "  <style>\n",
              "    .colab-df-container {\n",
              "      display:flex;\n",
              "      gap: 12px;\n",
              "    }\n",
              "\n",
              "    .colab-df-convert {\n",
              "      background-color: #E8F0FE;\n",
              "      border: none;\n",
              "      border-radius: 50%;\n",
              "      cursor: pointer;\n",
              "      display: none;\n",
              "      fill: #1967D2;\n",
              "      height: 32px;\n",
              "      padding: 0 0 0 0;\n",
              "      width: 32px;\n",
              "    }\n",
              "\n",
              "    .colab-df-convert:hover {\n",
              "      background-color: #E2EBFA;\n",
              "      box-shadow: 0px 1px 2px rgba(60, 64, 67, 0.3), 0px 1px 3px 1px rgba(60, 64, 67, 0.15);\n",
              "      fill: #174EA6;\n",
              "    }\n",
              "\n",
              "    .colab-df-buttons div {\n",
              "      margin-bottom: 4px;\n",
              "    }\n",
              "\n",
              "    [theme=dark] .colab-df-convert {\n",
              "      background-color: #3B4455;\n",
              "      fill: #D2E3FC;\n",
              "    }\n",
              "\n",
              "    [theme=dark] .colab-df-convert:hover {\n",
              "      background-color: #434B5C;\n",
              "      box-shadow: 0px 1px 3px 1px rgba(0, 0, 0, 0.15);\n",
              "      filter: drop-shadow(0px 1px 2px rgba(0, 0, 0, 0.3));\n",
              "      fill: #FFFFFF;\n",
              "    }\n",
              "  </style>\n",
              "\n",
              "    <script>\n",
              "      const buttonEl =\n",
              "        document.querySelector('#df-42ecc6c4-81b0-48e7-9b97-3c61508ac4e8 button.colab-df-convert');\n",
              "      buttonEl.style.display =\n",
              "        google.colab.kernel.accessAllowed ? 'block' : 'none';\n",
              "\n",
              "      async function convertToInteractive(key) {\n",
              "        const element = document.querySelector('#df-42ecc6c4-81b0-48e7-9b97-3c61508ac4e8');\n",
              "        const dataTable =\n",
              "          await google.colab.kernel.invokeFunction('convertToInteractive',\n",
              "                                                    [key], {});\n",
              "        if (!dataTable) return;\n",
              "\n",
              "        const docLinkHtml = 'Like what you see? Visit the ' +\n",
              "          '<a target=\"_blank\" href=https://colab.research.google.com/notebooks/data_table.ipynb>data table notebook</a>'\n",
              "          + ' to learn more about interactive tables.';\n",
              "        element.innerHTML = '';\n",
              "        dataTable['output_type'] = 'display_data';\n",
              "        await google.colab.output.renderOutput(dataTable, element);\n",
              "        const docLink = document.createElement('div');\n",
              "        docLink.innerHTML = docLinkHtml;\n",
              "        element.appendChild(docLink);\n",
              "      }\n",
              "    </script>\n",
              "  </div>\n",
              "\n",
              "\n",
              "<div id=\"df-450a0275-e75c-4ee5-96e6-6239701b88fb\">\n",
              "  <button class=\"colab-df-quickchart\" onclick=\"quickchart('df-450a0275-e75c-4ee5-96e6-6239701b88fb')\"\n",
              "            title=\"Suggest charts\"\n",
              "            style=\"display:none;\">\n",
              "\n",
              "<svg xmlns=\"http://www.w3.org/2000/svg\" height=\"24px\"viewBox=\"0 0 24 24\"\n",
              "     width=\"24px\">\n",
              "    <g>\n",
              "        <path d=\"M19 3H5c-1.1 0-2 .9-2 2v14c0 1.1.9 2 2 2h14c1.1 0 2-.9 2-2V5c0-1.1-.9-2-2-2zM9 17H7v-7h2v7zm4 0h-2V7h2v10zm4 0h-2v-4h2v4z\"/>\n",
              "    </g>\n",
              "</svg>\n",
              "  </button>\n",
              "\n",
              "<style>\n",
              "  .colab-df-quickchart {\n",
              "      --bg-color: #E8F0FE;\n",
              "      --fill-color: #1967D2;\n",
              "      --hover-bg-color: #E2EBFA;\n",
              "      --hover-fill-color: #174EA6;\n",
              "      --disabled-fill-color: #AAA;\n",
              "      --disabled-bg-color: #DDD;\n",
              "  }\n",
              "\n",
              "  [theme=dark] .colab-df-quickchart {\n",
              "      --bg-color: #3B4455;\n",
              "      --fill-color: #D2E3FC;\n",
              "      --hover-bg-color: #434B5C;\n",
              "      --hover-fill-color: #FFFFFF;\n",
              "      --disabled-bg-color: #3B4455;\n",
              "      --disabled-fill-color: #666;\n",
              "  }\n",
              "\n",
              "  .colab-df-quickchart {\n",
              "    background-color: var(--bg-color);\n",
              "    border: none;\n",
              "    border-radius: 50%;\n",
              "    cursor: pointer;\n",
              "    display: none;\n",
              "    fill: var(--fill-color);\n",
              "    height: 32px;\n",
              "    padding: 0;\n",
              "    width: 32px;\n",
              "  }\n",
              "\n",
              "  .colab-df-quickchart:hover {\n",
              "    background-color: var(--hover-bg-color);\n",
              "    box-shadow: 0 1px 2px rgba(60, 64, 67, 0.3), 0 1px 3px 1px rgba(60, 64, 67, 0.15);\n",
              "    fill: var(--button-hover-fill-color);\n",
              "  }\n",
              "\n",
              "  .colab-df-quickchart-complete:disabled,\n",
              "  .colab-df-quickchart-complete:disabled:hover {\n",
              "    background-color: var(--disabled-bg-color);\n",
              "    fill: var(--disabled-fill-color);\n",
              "    box-shadow: none;\n",
              "  }\n",
              "\n",
              "  .colab-df-spinner {\n",
              "    border: 2px solid var(--fill-color);\n",
              "    border-color: transparent;\n",
              "    border-bottom-color: var(--fill-color);\n",
              "    animation:\n",
              "      spin 1s steps(1) infinite;\n",
              "  }\n",
              "\n",
              "  @keyframes spin {\n",
              "    0% {\n",
              "      border-color: transparent;\n",
              "      border-bottom-color: var(--fill-color);\n",
              "      border-left-color: var(--fill-color);\n",
              "    }\n",
              "    20% {\n",
              "      border-color: transparent;\n",
              "      border-left-color: var(--fill-color);\n",
              "      border-top-color: var(--fill-color);\n",
              "    }\n",
              "    30% {\n",
              "      border-color: transparent;\n",
              "      border-left-color: var(--fill-color);\n",
              "      border-top-color: var(--fill-color);\n",
              "      border-right-color: var(--fill-color);\n",
              "    }\n",
              "    40% {\n",
              "      border-color: transparent;\n",
              "      border-right-color: var(--fill-color);\n",
              "      border-top-color: var(--fill-color);\n",
              "    }\n",
              "    60% {\n",
              "      border-color: transparent;\n",
              "      border-right-color: var(--fill-color);\n",
              "    }\n",
              "    80% {\n",
              "      border-color: transparent;\n",
              "      border-right-color: var(--fill-color);\n",
              "      border-bottom-color: var(--fill-color);\n",
              "    }\n",
              "    90% {\n",
              "      border-color: transparent;\n",
              "      border-bottom-color: var(--fill-color);\n",
              "    }\n",
              "  }\n",
              "</style>\n",
              "\n",
              "  <script>\n",
              "    async function quickchart(key) {\n",
              "      const quickchartButtonEl =\n",
              "        document.querySelector('#' + key + ' button');\n",
              "      quickchartButtonEl.disabled = true;  // To prevent multiple clicks.\n",
              "      quickchartButtonEl.classList.add('colab-df-spinner');\n",
              "      try {\n",
              "        const charts = await google.colab.kernel.invokeFunction(\n",
              "            'suggestCharts', [key], {});\n",
              "      } catch (error) {\n",
              "        console.error('Error during call to suggestCharts:', error);\n",
              "      }\n",
              "      quickchartButtonEl.classList.remove('colab-df-spinner');\n",
              "      quickchartButtonEl.classList.add('colab-df-quickchart-complete');\n",
              "    }\n",
              "    (() => {\n",
              "      let quickchartButtonEl =\n",
              "        document.querySelector('#df-450a0275-e75c-4ee5-96e6-6239701b88fb button');\n",
              "      quickchartButtonEl.style.display =\n",
              "        google.colab.kernel.accessAllowed ? 'block' : 'none';\n",
              "    })();\n",
              "  </script>\n",
              "</div>\n",
              "    </div>\n",
              "  </div>\n"
            ]
          },
          "metadata": {},
          "execution_count": 4
        }
      ]
    },
    {
      "cell_type": "markdown",
      "source": [
        "### 2.테스트데이터 분리"
      ],
      "metadata": {
        "id": "aCqV2TvOJoXk"
      }
    },
    {
      "cell_type": "code",
      "source": [
        "X = df.drop(['Outcome'], axis=1)\n",
        "y = df['Outcome']"
      ],
      "metadata": {
        "id": "RN-_9m2RJf8o"
      },
      "execution_count": 5,
      "outputs": []
    },
    {
      "cell_type": "code",
      "source": [
        "from sklearn.model_selection import train_test_split\n",
        "\n",
        "X_train, X_test, y_train, y_test = train_test_split(X, y, test_size=0.2, random_state=42)\n",
        "\n",
        "X_train.shape, X_test.shape, y_train.shape, y_test.shape"
      ],
      "metadata": {
        "colab": {
          "base_uri": "https://localhost:8080/"
        },
        "id": "HRXW875LJ0yA",
        "outputId": "622c729c-fa4d-4126-cac7-1791fc774c6c"
      },
      "execution_count": 6,
      "outputs": [
        {
          "output_type": "execute_result",
          "data": {
            "text/plain": [
              "((614, 8), (154, 8), (614,), (154,))"
            ]
          },
          "metadata": {},
          "execution_count": 6
        }
      ]
    },
    {
      "cell_type": "markdown",
      "source": [
        "### 3.전처리\n",
        "- 이상치 처리는 생략함."
      ],
      "metadata": {
        "id": "aM-_oyL-J43R"
      }
    },
    {
      "cell_type": "code",
      "source": [
        "from sklearn.preprocessing import StandardScaler\n",
        "\n",
        "scaler = StandardScaler()\n",
        "X_train_s = scaler.fit_transform(X_train)\n",
        "\n",
        "X_train_s"
      ],
      "metadata": {
        "colab": {
          "base_uri": "https://localhost:8080/"
        },
        "id": "w-jOW02HJ3C8",
        "outputId": "4817cf53-bfb8-4503-8078-9657a88cf164"
      },
      "execution_count": 7,
      "outputs": [
        {
          "output_type": "execute_result",
          "data": {
            "text/plain": [
              "array([[-0.52639686, -1.15139792, -3.75268255, ..., -4.13525578,\n",
              "        -0.49073479, -1.03594038],\n",
              "       [ 1.58804586, -0.27664283,  0.68034485, ..., -0.48916881,\n",
              "         2.41502991,  1.48710085],\n",
              "       [-0.82846011,  0.56687102, -1.2658623 , ..., -0.42452187,\n",
              "         0.54916055, -0.94893896],\n",
              "       ...,\n",
              "       [ 1.8901091 , -0.62029661,  0.89659009, ...,  1.76054443,\n",
              "         1.981245  ,  0.44308379],\n",
              "       [-1.13052335,  0.62935353, -3.75268255, ...,  1.34680407,\n",
              "        -0.78487662, -0.33992901],\n",
              "       [-1.13052335,  0.12949347,  1.43720319, ..., -1.22614383,\n",
              "        -0.61552223, -1.03594038]])"
            ]
          },
          "metadata": {},
          "execution_count": 7
        }
      ]
    },
    {
      "cell_type": "code",
      "source": [
        "y_train = y_train.values"
      ],
      "metadata": {
        "id": "m6EjHhWVKEiZ"
      },
      "execution_count": 8,
      "outputs": []
    },
    {
      "cell_type": "markdown",
      "source": [
        "### 4.모델만들기"
      ],
      "metadata": {
        "id": "GmUPRcqeKMx7"
      }
    },
    {
      "cell_type": "code",
      "source": [
        "X_train_s.shape"
      ],
      "metadata": {
        "colab": {
          "base_uri": "https://localhost:8080/"
        },
        "id": "QPTPRu7GKlSj",
        "outputId": "7b6cc6d5-dace-490e-fe25-5bd8ab228a55"
      },
      "execution_count": 9,
      "outputs": [
        {
          "output_type": "execute_result",
          "data": {
            "text/plain": [
              "(614, 8)"
            ]
          },
          "metadata": {},
          "execution_count": 9
        }
      ]
    },
    {
      "cell_type": "code",
      "source": [
        "from tensorflow import keras\n",
        "from keras import layers\n",
        "\n",
        "model = keras.Sequential([\n",
        "    layers.Dense(units=3, activation='relu', input_shape=(8,)),\n",
        "    layers.Dense(units=2, activation='relu'),\n",
        "    layers.Dense(units=1, activation='sigmoid'),\n",
        "])"
      ],
      "metadata": {
        "id": "BK87H8veKKS1"
      },
      "execution_count": 40,
      "outputs": []
    },
    {
      "cell_type": "code",
      "source": [
        "model.summary()"
      ],
      "metadata": {
        "colab": {
          "base_uri": "https://localhost:8080/"
        },
        "id": "7WSJHYDoLIXM",
        "outputId": "0313dcbd-d498-40c9-9c1e-02be1de602f2"
      },
      "execution_count": 41,
      "outputs": [
        {
          "output_type": "stream",
          "name": "stdout",
          "text": [
            "Model: \"sequential_2\"\n",
            "_________________________________________________________________\n",
            " Layer (type)                Output Shape              Param #   \n",
            "=================================================================\n",
            " dense_7 (Dense)             (None, 3)                 27        \n",
            "                                                                 \n",
            " dense_8 (Dense)             (None, 2)                 8         \n",
            "                                                                 \n",
            " dense_9 (Dense)             (None, 1)                 3         \n",
            "                                                                 \n",
            "=================================================================\n",
            "Total params: 38 (152.00 Byte)\n",
            "Trainable params: 38 (152.00 Byte)\n",
            "Non-trainable params: 0 (0.00 Byte)\n",
            "_________________________________________________________________\n"
          ]
        }
      ]
    },
    {
      "cell_type": "markdown",
      "source": [
        "### 5.컴파일"
      ],
      "metadata": {
        "id": "28rnGo6oLRV2"
      }
    },
    {
      "cell_type": "code",
      "source": [
        "model.compile(\n",
        "    loss='binary_crossentropy',\n",
        "    optimizer='adam',\n",
        "    metrics=['accuracy']\n",
        ")"
      ],
      "metadata": {
        "id": "OqLDpFuCLKK6"
      },
      "execution_count": 42,
      "outputs": []
    },
    {
      "cell_type": "code",
      "source": [
        "EPOCHS = 100\n",
        "BATCH_SIZE = 32\n",
        "\n",
        "history = model.fit(\n",
        "    X_train_s, y_train,\n",
        "    batch_size = BATCH_SIZE,\n",
        "    epochs=EPOCHS,\n",
        "    validation_split=0.2,\n",
        "    verbose=1\n",
        ")"
      ],
      "metadata": {
        "colab": {
          "base_uri": "https://localhost:8080/"
        },
        "id": "rBP-GYUkL0Ax",
        "outputId": "18ea7e79-a996-432e-c821-1e9b7f4b946f"
      },
      "execution_count": 54,
      "outputs": [
        {
          "output_type": "stream",
          "name": "stdout",
          "text": [
            "Epoch 1/100\n",
            "16/16 [==============================] - 0s 25ms/step - loss: 0.4601 - accuracy: 0.7882 - val_loss: 0.5075 - val_accuracy: 0.7561\n",
            "Epoch 2/100\n",
            "16/16 [==============================] - 0s 11ms/step - loss: 0.4600 - accuracy: 0.7882 - val_loss: 0.5078 - val_accuracy: 0.7561\n",
            "Epoch 3/100\n",
            "16/16 [==============================] - 0s 12ms/step - loss: 0.4599 - accuracy: 0.7882 - val_loss: 0.5078 - val_accuracy: 0.7561\n",
            "Epoch 4/100\n",
            "16/16 [==============================] - 0s 17ms/step - loss: 0.4598 - accuracy: 0.7882 - val_loss: 0.5078 - val_accuracy: 0.7561\n",
            "Epoch 5/100\n",
            "16/16 [==============================] - 0s 13ms/step - loss: 0.4598 - accuracy: 0.7882 - val_loss: 0.5077 - val_accuracy: 0.7561\n",
            "Epoch 6/100\n",
            "16/16 [==============================] - 0s 17ms/step - loss: 0.4597 - accuracy: 0.7882 - val_loss: 0.5075 - val_accuracy: 0.7561\n",
            "Epoch 7/100\n",
            "16/16 [==============================] - 0s 11ms/step - loss: 0.4595 - accuracy: 0.7882 - val_loss: 0.5075 - val_accuracy: 0.7561\n",
            "Epoch 8/100\n",
            "16/16 [==============================] - 0s 10ms/step - loss: 0.4594 - accuracy: 0.7882 - val_loss: 0.5077 - val_accuracy: 0.7561\n",
            "Epoch 9/100\n",
            "16/16 [==============================] - 0s 7ms/step - loss: 0.4594 - accuracy: 0.7882 - val_loss: 0.5082 - val_accuracy: 0.7561\n",
            "Epoch 10/100\n",
            "16/16 [==============================] - 0s 8ms/step - loss: 0.4594 - accuracy: 0.7882 - val_loss: 0.5078 - val_accuracy: 0.7561\n",
            "Epoch 11/100\n",
            "16/16 [==============================] - 0s 7ms/step - loss: 0.4593 - accuracy: 0.7882 - val_loss: 0.5079 - val_accuracy: 0.7561\n",
            "Epoch 12/100\n",
            "16/16 [==============================] - 0s 7ms/step - loss: 0.4590 - accuracy: 0.7882 - val_loss: 0.5078 - val_accuracy: 0.7561\n",
            "Epoch 13/100\n",
            "16/16 [==============================] - 0s 8ms/step - loss: 0.4590 - accuracy: 0.7882 - val_loss: 0.5081 - val_accuracy: 0.7480\n",
            "Epoch 14/100\n",
            "16/16 [==============================] - 0s 5ms/step - loss: 0.4591 - accuracy: 0.7902 - val_loss: 0.5077 - val_accuracy: 0.7480\n",
            "Epoch 15/100\n",
            "16/16 [==============================] - 0s 5ms/step - loss: 0.4588 - accuracy: 0.7902 - val_loss: 0.5078 - val_accuracy: 0.7480\n",
            "Epoch 16/100\n",
            "16/16 [==============================] - 0s 4ms/step - loss: 0.4588 - accuracy: 0.7902 - val_loss: 0.5079 - val_accuracy: 0.7480\n",
            "Epoch 17/100\n",
            "16/16 [==============================] - 0s 4ms/step - loss: 0.4589 - accuracy: 0.7902 - val_loss: 0.5078 - val_accuracy: 0.7480\n",
            "Epoch 18/100\n",
            "16/16 [==============================] - 0s 6ms/step - loss: 0.4587 - accuracy: 0.7882 - val_loss: 0.5074 - val_accuracy: 0.7561\n",
            "Epoch 19/100\n",
            "16/16 [==============================] - 0s 4ms/step - loss: 0.4585 - accuracy: 0.7882 - val_loss: 0.5073 - val_accuracy: 0.7561\n",
            "Epoch 20/100\n",
            "16/16 [==============================] - 0s 6ms/step - loss: 0.4585 - accuracy: 0.7862 - val_loss: 0.5070 - val_accuracy: 0.7561\n",
            "Epoch 21/100\n",
            "16/16 [==============================] - 0s 6ms/step - loss: 0.4585 - accuracy: 0.7882 - val_loss: 0.5071 - val_accuracy: 0.7561\n",
            "Epoch 22/100\n",
            "16/16 [==============================] - 0s 5ms/step - loss: 0.4584 - accuracy: 0.7882 - val_loss: 0.5070 - val_accuracy: 0.7561\n",
            "Epoch 23/100\n",
            "16/16 [==============================] - 0s 5ms/step - loss: 0.4584 - accuracy: 0.7882 - val_loss: 0.5075 - val_accuracy: 0.7561\n",
            "Epoch 24/100\n",
            "16/16 [==============================] - 0s 5ms/step - loss: 0.4584 - accuracy: 0.7882 - val_loss: 0.5073 - val_accuracy: 0.7480\n",
            "Epoch 25/100\n",
            "16/16 [==============================] - 0s 5ms/step - loss: 0.4582 - accuracy: 0.7882 - val_loss: 0.5070 - val_accuracy: 0.7561\n",
            "Epoch 26/100\n",
            "16/16 [==============================] - 0s 5ms/step - loss: 0.4583 - accuracy: 0.7882 - val_loss: 0.5069 - val_accuracy: 0.7561\n",
            "Epoch 27/100\n",
            "16/16 [==============================] - 0s 4ms/step - loss: 0.4583 - accuracy: 0.7882 - val_loss: 0.5070 - val_accuracy: 0.7561\n",
            "Epoch 28/100\n",
            "16/16 [==============================] - 0s 4ms/step - loss: 0.4581 - accuracy: 0.7882 - val_loss: 0.5070 - val_accuracy: 0.7561\n",
            "Epoch 29/100\n",
            "16/16 [==============================] - 0s 5ms/step - loss: 0.4581 - accuracy: 0.7862 - val_loss: 0.5066 - val_accuracy: 0.7561\n",
            "Epoch 30/100\n",
            "16/16 [==============================] - 0s 5ms/step - loss: 0.4580 - accuracy: 0.7862 - val_loss: 0.5067 - val_accuracy: 0.7561\n",
            "Epoch 31/100\n",
            "16/16 [==============================] - 0s 4ms/step - loss: 0.4581 - accuracy: 0.7821 - val_loss: 0.5062 - val_accuracy: 0.7561\n",
            "Epoch 32/100\n",
            "16/16 [==============================] - 0s 6ms/step - loss: 0.4579 - accuracy: 0.7800 - val_loss: 0.5067 - val_accuracy: 0.7480\n",
            "Epoch 33/100\n",
            "16/16 [==============================] - 0s 5ms/step - loss: 0.4578 - accuracy: 0.7800 - val_loss: 0.5066 - val_accuracy: 0.7480\n",
            "Epoch 34/100\n",
            "16/16 [==============================] - 0s 4ms/step - loss: 0.4578 - accuracy: 0.7800 - val_loss: 0.5066 - val_accuracy: 0.7480\n",
            "Epoch 35/100\n",
            "16/16 [==============================] - 0s 5ms/step - loss: 0.4579 - accuracy: 0.7800 - val_loss: 0.5066 - val_accuracy: 0.7480\n",
            "Epoch 36/100\n",
            "16/16 [==============================] - 0s 5ms/step - loss: 0.4578 - accuracy: 0.7821 - val_loss: 0.5066 - val_accuracy: 0.7480\n",
            "Epoch 37/100\n",
            "16/16 [==============================] - 0s 4ms/step - loss: 0.4578 - accuracy: 0.7800 - val_loss: 0.5065 - val_accuracy: 0.7561\n",
            "Epoch 38/100\n",
            "16/16 [==============================] - 0s 5ms/step - loss: 0.4576 - accuracy: 0.7821 - val_loss: 0.5066 - val_accuracy: 0.7561\n",
            "Epoch 39/100\n",
            "16/16 [==============================] - 0s 4ms/step - loss: 0.4576 - accuracy: 0.7841 - val_loss: 0.5062 - val_accuracy: 0.7561\n",
            "Epoch 40/100\n",
            "16/16 [==============================] - 0s 5ms/step - loss: 0.4578 - accuracy: 0.7800 - val_loss: 0.5061 - val_accuracy: 0.7561\n",
            "Epoch 41/100\n",
            "16/16 [==============================] - 0s 5ms/step - loss: 0.4575 - accuracy: 0.7800 - val_loss: 0.5059 - val_accuracy: 0.7561\n",
            "Epoch 42/100\n",
            "16/16 [==============================] - 0s 4ms/step - loss: 0.4574 - accuracy: 0.7821 - val_loss: 0.5062 - val_accuracy: 0.7561\n",
            "Epoch 43/100\n",
            "16/16 [==============================] - 0s 5ms/step - loss: 0.4576 - accuracy: 0.7821 - val_loss: 0.5063 - val_accuracy: 0.7561\n",
            "Epoch 44/100\n",
            "16/16 [==============================] - 0s 5ms/step - loss: 0.4575 - accuracy: 0.7821 - val_loss: 0.5061 - val_accuracy: 0.7561\n",
            "Epoch 45/100\n",
            "16/16 [==============================] - 0s 4ms/step - loss: 0.4572 - accuracy: 0.7821 - val_loss: 0.5063 - val_accuracy: 0.7561\n",
            "Epoch 46/100\n",
            "16/16 [==============================] - 0s 4ms/step - loss: 0.4573 - accuracy: 0.7841 - val_loss: 0.5064 - val_accuracy: 0.7561\n",
            "Epoch 47/100\n",
            "16/16 [==============================] - 0s 4ms/step - loss: 0.4572 - accuracy: 0.7841 - val_loss: 0.5067 - val_accuracy: 0.7480\n",
            "Epoch 48/100\n",
            "16/16 [==============================] - 0s 5ms/step - loss: 0.4572 - accuracy: 0.7841 - val_loss: 0.5066 - val_accuracy: 0.7561\n",
            "Epoch 49/100\n",
            "16/16 [==============================] - 0s 4ms/step - loss: 0.4572 - accuracy: 0.7821 - val_loss: 0.5063 - val_accuracy: 0.7561\n",
            "Epoch 50/100\n",
            "16/16 [==============================] - 0s 5ms/step - loss: 0.4573 - accuracy: 0.7821 - val_loss: 0.5065 - val_accuracy: 0.7561\n",
            "Epoch 51/100\n",
            "16/16 [==============================] - 0s 5ms/step - loss: 0.4571 - accuracy: 0.7821 - val_loss: 0.5066 - val_accuracy: 0.7561\n",
            "Epoch 52/100\n",
            "16/16 [==============================] - 0s 6ms/step - loss: 0.4571 - accuracy: 0.7800 - val_loss: 0.5064 - val_accuracy: 0.7561\n",
            "Epoch 53/100\n",
            "16/16 [==============================] - 0s 5ms/step - loss: 0.4570 - accuracy: 0.7800 - val_loss: 0.5060 - val_accuracy: 0.7561\n",
            "Epoch 54/100\n",
            "16/16 [==============================] - 0s 5ms/step - loss: 0.4572 - accuracy: 0.7800 - val_loss: 0.5059 - val_accuracy: 0.7561\n",
            "Epoch 55/100\n",
            "16/16 [==============================] - 0s 5ms/step - loss: 0.4569 - accuracy: 0.7821 - val_loss: 0.5060 - val_accuracy: 0.7561\n",
            "Epoch 56/100\n",
            "16/16 [==============================] - 0s 6ms/step - loss: 0.4569 - accuracy: 0.7821 - val_loss: 0.5064 - val_accuracy: 0.7561\n",
            "Epoch 57/100\n",
            "16/16 [==============================] - 0s 5ms/step - loss: 0.4569 - accuracy: 0.7821 - val_loss: 0.5061 - val_accuracy: 0.7561\n",
            "Epoch 58/100\n",
            "16/16 [==============================] - 0s 4ms/step - loss: 0.4569 - accuracy: 0.7821 - val_loss: 0.5061 - val_accuracy: 0.7561\n",
            "Epoch 59/100\n",
            "16/16 [==============================] - 0s 4ms/step - loss: 0.4569 - accuracy: 0.7800 - val_loss: 0.5062 - val_accuracy: 0.7561\n",
            "Epoch 60/100\n",
            "16/16 [==============================] - 0s 5ms/step - loss: 0.4568 - accuracy: 0.7821 - val_loss: 0.5061 - val_accuracy: 0.7561\n",
            "Epoch 61/100\n",
            "16/16 [==============================] - 0s 5ms/step - loss: 0.4567 - accuracy: 0.7780 - val_loss: 0.5062 - val_accuracy: 0.7480\n",
            "Epoch 62/100\n",
            "16/16 [==============================] - 0s 5ms/step - loss: 0.4566 - accuracy: 0.7821 - val_loss: 0.5063 - val_accuracy: 0.7480\n",
            "Epoch 63/100\n",
            "16/16 [==============================] - 0s 5ms/step - loss: 0.4568 - accuracy: 0.7821 - val_loss: 0.5062 - val_accuracy: 0.7561\n",
            "Epoch 64/100\n",
            "16/16 [==============================] - 0s 5ms/step - loss: 0.4567 - accuracy: 0.7821 - val_loss: 0.5064 - val_accuracy: 0.7480\n",
            "Epoch 65/100\n",
            "16/16 [==============================] - 0s 4ms/step - loss: 0.4565 - accuracy: 0.7821 - val_loss: 0.5065 - val_accuracy: 0.7480\n",
            "Epoch 66/100\n",
            "16/16 [==============================] - 0s 4ms/step - loss: 0.4565 - accuracy: 0.7821 - val_loss: 0.5067 - val_accuracy: 0.7480\n",
            "Epoch 67/100\n",
            "16/16 [==============================] - 0s 4ms/step - loss: 0.4567 - accuracy: 0.7821 - val_loss: 0.5064 - val_accuracy: 0.7480\n",
            "Epoch 68/100\n",
            "16/16 [==============================] - 0s 5ms/step - loss: 0.4565 - accuracy: 0.7821 - val_loss: 0.5064 - val_accuracy: 0.7480\n",
            "Epoch 69/100\n",
            "16/16 [==============================] - 0s 5ms/step - loss: 0.4564 - accuracy: 0.7821 - val_loss: 0.5066 - val_accuracy: 0.7480\n",
            "Epoch 70/100\n",
            "16/16 [==============================] - 0s 5ms/step - loss: 0.4565 - accuracy: 0.7821 - val_loss: 0.5066 - val_accuracy: 0.7561\n",
            "Epoch 71/100\n",
            "16/16 [==============================] - 0s 5ms/step - loss: 0.4563 - accuracy: 0.7841 - val_loss: 0.5069 - val_accuracy: 0.7561\n",
            "Epoch 72/100\n",
            "16/16 [==============================] - 0s 4ms/step - loss: 0.4563 - accuracy: 0.7841 - val_loss: 0.5068 - val_accuracy: 0.7480\n",
            "Epoch 73/100\n",
            "16/16 [==============================] - 0s 5ms/step - loss: 0.4563 - accuracy: 0.7841 - val_loss: 0.5070 - val_accuracy: 0.7480\n",
            "Epoch 74/100\n",
            "16/16 [==============================] - 0s 5ms/step - loss: 0.4562 - accuracy: 0.7841 - val_loss: 0.5070 - val_accuracy: 0.7480\n",
            "Epoch 75/100\n",
            "16/16 [==============================] - 0s 6ms/step - loss: 0.4561 - accuracy: 0.7841 - val_loss: 0.5069 - val_accuracy: 0.7480\n",
            "Epoch 76/100\n",
            "16/16 [==============================] - 0s 4ms/step - loss: 0.4564 - accuracy: 0.7821 - val_loss: 0.5062 - val_accuracy: 0.7561\n",
            "Epoch 77/100\n",
            "16/16 [==============================] - 0s 5ms/step - loss: 0.4561 - accuracy: 0.7821 - val_loss: 0.5062 - val_accuracy: 0.7561\n",
            "Epoch 78/100\n",
            "16/16 [==============================] - 0s 5ms/step - loss: 0.4561 - accuracy: 0.7821 - val_loss: 0.5067 - val_accuracy: 0.7480\n",
            "Epoch 79/100\n",
            "16/16 [==============================] - 0s 5ms/step - loss: 0.4561 - accuracy: 0.7821 - val_loss: 0.5061 - val_accuracy: 0.7480\n",
            "Epoch 80/100\n",
            "16/16 [==============================] - 0s 5ms/step - loss: 0.4560 - accuracy: 0.7841 - val_loss: 0.5062 - val_accuracy: 0.7480\n",
            "Epoch 81/100\n",
            "16/16 [==============================] - 0s 5ms/step - loss: 0.4559 - accuracy: 0.7841 - val_loss: 0.5064 - val_accuracy: 0.7480\n",
            "Epoch 82/100\n",
            "16/16 [==============================] - 0s 5ms/step - loss: 0.4559 - accuracy: 0.7841 - val_loss: 0.5066 - val_accuracy: 0.7480\n",
            "Epoch 83/100\n",
            "16/16 [==============================] - 0s 4ms/step - loss: 0.4561 - accuracy: 0.7841 - val_loss: 0.5063 - val_accuracy: 0.7480\n",
            "Epoch 84/100\n",
            "16/16 [==============================] - 0s 6ms/step - loss: 0.4558 - accuracy: 0.7841 - val_loss: 0.5065 - val_accuracy: 0.7480\n",
            "Epoch 85/100\n",
            "16/16 [==============================] - 0s 5ms/step - loss: 0.4558 - accuracy: 0.7841 - val_loss: 0.5065 - val_accuracy: 0.7480\n",
            "Epoch 86/100\n",
            "16/16 [==============================] - 0s 5ms/step - loss: 0.4557 - accuracy: 0.7841 - val_loss: 0.5062 - val_accuracy: 0.7480\n",
            "Epoch 87/100\n",
            "16/16 [==============================] - 0s 5ms/step - loss: 0.4560 - accuracy: 0.7862 - val_loss: 0.5069 - val_accuracy: 0.7480\n",
            "Epoch 88/100\n",
            "16/16 [==============================] - 0s 5ms/step - loss: 0.4557 - accuracy: 0.7862 - val_loss: 0.5062 - val_accuracy: 0.7480\n",
            "Epoch 89/100\n",
            "16/16 [==============================] - 0s 4ms/step - loss: 0.4557 - accuracy: 0.7862 - val_loss: 0.5062 - val_accuracy: 0.7480\n",
            "Epoch 90/100\n",
            "16/16 [==============================] - 0s 4ms/step - loss: 0.4559 - accuracy: 0.7882 - val_loss: 0.5062 - val_accuracy: 0.7480\n",
            "Epoch 91/100\n",
            "16/16 [==============================] - 0s 5ms/step - loss: 0.4558 - accuracy: 0.7882 - val_loss: 0.5051 - val_accuracy: 0.7480\n",
            "Epoch 92/100\n",
            "16/16 [==============================] - 0s 5ms/step - loss: 0.4556 - accuracy: 0.7882 - val_loss: 0.5054 - val_accuracy: 0.7480\n",
            "Epoch 93/100\n",
            "16/16 [==============================] - 0s 6ms/step - loss: 0.4558 - accuracy: 0.7882 - val_loss: 0.5056 - val_accuracy: 0.7480\n",
            "Epoch 94/100\n",
            "16/16 [==============================] - 0s 5ms/step - loss: 0.4556 - accuracy: 0.7902 - val_loss: 0.5053 - val_accuracy: 0.7480\n",
            "Epoch 95/100\n",
            "16/16 [==============================] - 0s 5ms/step - loss: 0.4557 - accuracy: 0.7902 - val_loss: 0.5053 - val_accuracy: 0.7480\n",
            "Epoch 96/100\n",
            "16/16 [==============================] - 0s 4ms/step - loss: 0.4556 - accuracy: 0.7902 - val_loss: 0.5054 - val_accuracy: 0.7480\n",
            "Epoch 97/100\n",
            "16/16 [==============================] - 0s 5ms/step - loss: 0.4556 - accuracy: 0.7902 - val_loss: 0.5057 - val_accuracy: 0.7480\n",
            "Epoch 98/100\n",
            "16/16 [==============================] - 0s 5ms/step - loss: 0.4556 - accuracy: 0.7882 - val_loss: 0.5060 - val_accuracy: 0.7480\n",
            "Epoch 99/100\n",
            "16/16 [==============================] - 0s 4ms/step - loss: 0.4554 - accuracy: 0.7902 - val_loss: 0.5061 - val_accuracy: 0.7480\n",
            "Epoch 100/100\n",
            "16/16 [==============================] - 0s 5ms/step - loss: 0.4554 - accuracy: 0.7882 - val_loss: 0.5063 - val_accuracy: 0.7480\n"
          ]
        }
      ]
    },
    {
      "cell_type": "code",
      "source": [
        "def plot_history(history):\n",
        "  hist = pd.DataFrame(history.history)\n",
        "  hist['epoch'] = history.epoch\n",
        "\n",
        "  plt.figure(figsize=(16, 8))\n",
        "  plt.subplot(1,2,1)\n",
        "  plt.xlabel('epoch')\n",
        "  plt.ylabel('loss')\n",
        "  plt.plot(hist['epoch'], hist['loss'], label='train loss')\n",
        "  plt.plot(hist['epoch'], hist['val_loss'], label='val loss')\n",
        "  plt.legend()\n",
        "\n",
        "  plt.subplot(1,2,2)\n",
        "  plt.xlabel('epoch')\n",
        "  plt.ylabel('accuracy')\n",
        "  plt.plot(hist['epoch'], hist['accuracy'], label='train accuracy')\n",
        "  plt.plot(hist['epoch'], hist['val_accuracy'], label='val accuracy')\n",
        "  plt.legend()\n",
        "  plt.show()"
      ],
      "metadata": {
        "id": "RuX1jgviMNXC"
      },
      "execution_count": 55,
      "outputs": []
    },
    {
      "cell_type": "code",
      "source": [
        "plot_history(history)"
      ],
      "metadata": {
        "colab": {
          "base_uri": "https://localhost:8080/",
          "height": 696
        },
        "id": "Cv_2WRKDN8UF",
        "outputId": "320a116c-3473-4c32-ee19-db3c7933fce4"
      },
      "execution_count": 56,
      "outputs": [
        {
          "output_type": "display_data",
          "data": {
            "text/plain": [
              "<Figure size 1600x800 with 2 Axes>"
            ],
            "image/png": "[encoded data removed]"
          },
          "metadata": {}
        }
      ]
    },
    {
      "cell_type": "markdown",
      "source": [
        "### 6.평가"
      ],
      "metadata": {
        "id": "GGxgnPb3Pgzp"
      }
    },
    {
      "cell_type": "code",
      "source": [
        "X_test_s = scaler.transform(X_test)"
      ],
      "metadata": {
        "id": "JAiNoP0QOUwu"
      },
      "execution_count": 57,
      "outputs": []
    },
    {
      "cell_type": "code",
      "source": [
        "y_test"
      ],
      "metadata": {
        "colab": {
          "base_uri": "https://localhost:8080/"
        },
        "id": "nXlHb7ijP_BC",
        "outputId": "edbab110-5ad4-4f6f-efd9-2bbfc49419fb"
      },
      "execution_count": 58,
      "outputs": [
        {
          "output_type": "execute_result",
          "data": {
            "text/plain": [
              "array([0, 0, 0, 0, 0, 0, 0, 0, 0, 0, 1, 0, 1, 0, 0, 1, 0, 0, 1, 1, 0, 0,\n",
              "       0, 0, 0, 1, 0, 0, 1, 0, 1, 1, 1, 1, 0, 1, 1, 1, 0, 1, 0, 0, 0, 1,\n",
              "       0, 1, 1, 0, 0, 0, 0, 1, 1, 1, 0, 0, 0, 0, 0, 1, 1, 0, 0, 1, 0, 0,\n",
              "       0, 1, 0, 1, 0, 0, 0, 1, 0, 0, 0, 0, 0, 0, 1, 1, 0, 0, 0, 1, 1, 1,\n",
              "       0, 0, 0, 0, 0, 1, 0, 0, 0, 0, 1, 0, 0, 0, 1, 0, 1, 0, 0, 1, 1, 1,\n",
              "       0, 0, 0, 1, 0, 0, 1, 0, 0, 0, 0, 0, 1, 0, 0, 0, 1, 1, 1, 0, 1, 1,\n",
              "       0, 1, 1, 0, 1, 1, 1, 0, 0, 0, 0, 0, 0, 0, 1, 0, 0, 1, 0, 0, 1, 0])"
            ]
          },
          "metadata": {},
          "execution_count": 58
        }
      ]
    },
    {
      "cell_type": "code",
      "source": [
        "y_pred = model.predict(X_test_s)\n",
        "y_pred = y_pred.reshape(-1)\n",
        "y_pred"
      ],
      "metadata": {
        "colab": {
          "base_uri": "https://localhost:8080/"
        },
        "id": "hcMdMNNEPq4C",
        "outputId": "1457bcde-1783-434e-9c3d-eb4764f5e762"
      },
      "execution_count": 59,
      "outputs": [
        {
          "output_type": "stream",
          "name": "stdout",
          "text": [
            "5/5 [==============================] - 0s 3ms/step\n"
          ]
        },
        {
          "output_type": "execute_result",
          "data": {
            "text/plain": [
              "array([0.28841233, 0.1750293 , 0.11533947, 0.21425447, 0.581603  ,\n",
              "       0.6719796 , 0.00503235, 0.6423915 , 0.6423915 , 0.6423915 ,\n",
              "       0.2915932 , 0.6423915 , 0.40214068, 0.476028  , 0.04008896,\n",
              "       0.47698238, 0.10275188, 0.03382068, 0.6423915 , 0.6423915 ,\n",
              "       0.300805  , 0.02929616, 0.50501204, 0.03738583, 0.54855704,\n",
              "       0.6423915 , 0.08211243, 0.01374099, 0.17334054, 0.04903245,\n",
              "       0.6423915 , 0.6423915 , 0.6423915 , 0.6423915 , 0.6423915 ,\n",
              "       0.6423915 , 0.6423915 , 0.40745056, 0.6423915 , 0.6423915 ,\n",
              "       0.03152006, 0.6423915 , 0.6423915 , 0.4766593 , 0.02156479,\n",
              "       0.6423915 , 0.6423915 , 0.24573633, 0.6423915 , 0.6423915 ,\n",
              "       0.02837814, 0.6423915 , 0.6423915 , 0.34340057, 0.04796011,\n",
              "       0.01879735, 0.6423915 , 0.00205344, 0.6423915 , 0.63009465,\n",
              "       0.6423915 , 0.47255492, 0.81822777, 0.08747498, 0.02657802,\n",
              "       0.6423915 , 0.02654961, 0.6423915 , 0.02093156, 0.6423915 ,\n",
              "       0.6423915 , 0.04301875, 0.3167651 , 0.06638161, 0.07907255,\n",
              "       0.6423915 , 0.24123536, 0.08097155, 0.04009978, 0.40307063,\n",
              "       0.54294884, 0.0587913 , 0.02406123, 0.519463  , 0.3088308 ,\n",
              "       0.6423915 , 0.6423915 , 0.33077478, 0.08372013, 0.04248113,\n",
              "       0.02205788, 0.41763103, 0.00143446, 0.4766593 , 0.6423915 ,\n",
              "       0.6423915 , 0.4766593 , 0.06139605, 0.6423915 , 0.07390212,\n",
              "       0.6423915 , 0.03165652, 0.5901895 , 0.6423915 , 0.6423915 ,\n",
              "       0.12876837, 0.16446191, 0.6423915 , 0.11830407, 0.6423915 ,\n",
              "       0.06177529, 0.4766593 , 0.00851177, 0.6423915 , 0.07041507,\n",
              "       0.4615094 , 0.6423915 , 0.3059085 , 0.04492759, 0.4766593 ,\n",
              "       0.03814644, 0.34444833, 0.2809818 , 0.03887546, 0.3435331 ,\n",
              "       0.80945784, 0.01871191, 0.6423915 , 0.6423915 , 0.6423915 ,\n",
              "       0.61214966, 0.6423915 , 0.02730658, 0.54618186, 0.6423915 ,\n",
              "       0.10232607, 0.25965005, 0.59935963, 0.6423915 , 0.00632256,\n",
              "       0.05121538, 0.02535189, 0.23733638, 0.483707  , 0.11655354,\n",
              "       0.36669126, 0.13805516, 0.01132432, 0.5487402 , 0.6423915 ,\n",
              "       0.08400384, 0.5737424 , 0.403156  , 0.12909481], dtype=float32)"
            ]
          },
          "metadata": {},
          "execution_count": 59
        }
      ]
    },
    {
      "cell_type": "code",
      "source": [
        "y_pred = (y_pred > 0.5).astype('int')\n",
        "y_pred"
      ],
      "metadata": {
        "colab": {
          "base_uri": "https://localhost:8080/"
        },
        "id": "DpytJ1ElPw09",
        "outputId": "f251de0a-1613-49c9-8ede-2175fe50ac06"
      },
      "execution_count": 60,
      "outputs": [
        {
          "output_type": "execute_result",
          "data": {
            "text/plain": [
              "array([0, 0, 0, 0, 1, 1, 0, 1, 1, 1, 0, 1, 0, 0, 0, 0, 0, 0, 1, 1, 0, 0,\n",
              "       1, 0, 1, 1, 0, 0, 0, 0, 1, 1, 1, 1, 1, 1, 1, 0, 1, 1, 0, 1, 1, 0,\n",
              "       0, 1, 1, 0, 1, 1, 0, 1, 1, 0, 0, 0, 1, 0, 1, 1, 1, 0, 1, 0, 0, 1,\n",
              "       0, 1, 0, 1, 1, 0, 0, 0, 0, 1, 0, 0, 0, 0, 1, 0, 0, 1, 0, 1, 1, 0,\n",
              "       0, 0, 0, 0, 0, 0, 1, 1, 0, 0, 1, 0, 1, 0, 1, 1, 1, 0, 0, 1, 0, 1,\n",
              "       0, 0, 0, 1, 0, 0, 1, 0, 0, 0, 0, 0, 0, 0, 0, 1, 0, 1, 1, 1, 1, 1,\n",
              "       0, 1, 1, 0, 0, 1, 1, 0, 0, 0, 0, 0, 0, 0, 0, 0, 1, 1, 0, 1, 0, 0])"
            ]
          },
          "metadata": {},
          "execution_count": 60
        }
      ]
    },
    {
      "cell_type": "code",
      "source": [
        "y_test"
      ],
      "metadata": {
        "colab": {
          "base_uri": "https://localhost:8080/"
        },
        "id": "dWxtgi-wQUkl",
        "outputId": "cef7d08a-1917-432d-9ef7-4ec8840b4afc"
      },
      "execution_count": 61,
      "outputs": [
        {
          "output_type": "execute_result",
          "data": {
            "text/plain": [
              "array([0, 0, 0, 0, 0, 0, 0, 0, 0, 0, 1, 0, 1, 0, 0, 1, 0, 0, 1, 1, 0, 0,\n",
              "       0, 0, 0, 1, 0, 0, 1, 0, 1, 1, 1, 1, 0, 1, 1, 1, 0, 1, 0, 0, 0, 1,\n",
              "       0, 1, 1, 0, 0, 0, 0, 1, 1, 1, 0, 0, 0, 0, 0, 1, 1, 0, 0, 1, 0, 0,\n",
              "       0, 1, 0, 1, 0, 0, 0, 1, 0, 0, 0, 0, 0, 0, 1, 1, 0, 0, 0, 1, 1, 1,\n",
              "       0, 0, 0, 0, 0, 1, 0, 0, 0, 0, 1, 0, 0, 0, 1, 0, 1, 0, 0, 1, 1, 1,\n",
              "       0, 0, 0, 1, 0, 0, 1, 0, 0, 0, 0, 0, 1, 0, 0, 0, 1, 1, 1, 0, 1, 1,\n",
              "       0, 1, 1, 0, 1, 1, 1, 0, 0, 0, 0, 0, 0, 0, 1, 0, 0, 1, 0, 0, 1, 0])"
            ]
          },
          "metadata": {},
          "execution_count": 61
        }
      ]
    },
    {
      "cell_type": "code",
      "source": [
        "from sklearn.metrics import accuracy_score, recall_score, precision_score\n",
        "\n",
        "def print_metrics(y_test, y_pred):\n",
        "  print(f'accuracy : {accuracy_score(y_test, y_pred)}')\n",
        "  print(f'accuracy : {recall_score(y_test, y_pred)}')\n",
        "  print(f'accuracy : {precision_score(y_test, y_pred)}')"
      ],
      "metadata": {
        "id": "0dWp4oz1Qnls"
      },
      "execution_count": 62,
      "outputs": []
    },
    {
      "cell_type": "code",
      "source": [
        "print_metrics(y_test, y_pred)"
      ],
      "metadata": {
        "colab": {
          "base_uri": "https://localhost:8080/"
        },
        "id": "00urMRf-RKGT",
        "outputId": "c18a455d-e322-4bac-8f01-10eec5f636b4"
      },
      "execution_count": 63,
      "outputs": [
        {
          "output_type": "stream",
          "name": "stdout",
          "text": [
            "accuracy : 0.6948051948051948\n",
            "accuracy : 0.6727272727272727\n",
            "accuracy : 0.5606060606060606\n"
          ]
        }
      ]
    },
    {
      "cell_type": "markdown",
      "source": [
        " END"
      ],
      "metadata": {
        "id": "kc6x7395RSI3"
      }
    }
  ]
}